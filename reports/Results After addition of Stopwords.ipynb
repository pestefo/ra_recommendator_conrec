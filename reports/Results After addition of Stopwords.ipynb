{
 "cells": [
  {
   "cell_type": "code",
   "execution_count": 40,
   "metadata": {},
   "outputs": [
    {
     "data": {
      "text/html": [
       "<div>\n",
       "<style scoped>\n",
       "    .dataframe tbody tr th:only-of-type {\n",
       "        vertical-align: middle;\n",
       "    }\n",
       "\n",
       "    .dataframe tbody tr th {\n",
       "        vertical-align: top;\n",
       "    }\n",
       "\n",
       "    .dataframe thead th {\n",
       "        text-align: right;\n",
       "    }\n",
       "</style>\n",
       "<table border=\"1\" class=\"dataframe\">\n",
       "  <thead>\n",
       "    <tr style=\"text-align: right;\">\n",
       "      <th></th>\n",
       "      <th>top 5</th>\n",
       "      <th>top 10</th>\n",
       "      <th>top 15</th>\n",
       "      <th>top 20</th>\n",
       "      <th>top 25</th>\n",
       "      <th>top 30</th>\n",
       "      <th>top 35</th>\n",
       "      <th>top 40</th>\n",
       "      <th>top 45</th>\n",
       "      <th>top 50</th>\n",
       "      <th>...</th>\n",
       "      <th>top 105</th>\n",
       "      <th>top 110</th>\n",
       "      <th>top 115</th>\n",
       "      <th>top 120</th>\n",
       "      <th>top 125</th>\n",
       "      <th>top 130</th>\n",
       "      <th>top 135</th>\n",
       "      <th>top 140</th>\n",
       "      <th>top 145</th>\n",
       "      <th>top 150</th>\n",
       "    </tr>\n",
       "    <tr>\n",
       "      <th>q_id</th>\n",
       "      <th></th>\n",
       "      <th></th>\n",
       "      <th></th>\n",
       "      <th></th>\n",
       "      <th></th>\n",
       "      <th></th>\n",
       "      <th></th>\n",
       "      <th></th>\n",
       "      <th></th>\n",
       "      <th></th>\n",
       "      <th></th>\n",
       "      <th></th>\n",
       "      <th></th>\n",
       "      <th></th>\n",
       "      <th></th>\n",
       "      <th></th>\n",
       "      <th></th>\n",
       "      <th></th>\n",
       "      <th></th>\n",
       "      <th></th>\n",
       "      <th></th>\n",
       "    </tr>\n",
       "  </thead>\n",
       "  <tbody>\n",
       "    <tr>\n",
       "      <th>12962</th>\n",
       "      <td>0.2</td>\n",
       "      <td>0.2</td>\n",
       "      <td>0.2</td>\n",
       "      <td>0.3</td>\n",
       "      <td>0.3</td>\n",
       "      <td>0.4</td>\n",
       "      <td>0.5</td>\n",
       "      <td>0.6</td>\n",
       "      <td>0.6</td>\n",
       "      <td>0.6</td>\n",
       "      <td>...</td>\n",
       "      <td>0.8</td>\n",
       "      <td>0.8</td>\n",
       "      <td>0.8</td>\n",
       "      <td>0.8</td>\n",
       "      <td>0.8</td>\n",
       "      <td>0.8</td>\n",
       "      <td>0.8</td>\n",
       "      <td>0.8</td>\n",
       "      <td>0.8</td>\n",
       "      <td>0.8</td>\n",
       "    </tr>\n",
       "    <tr>\n",
       "      <th>90536</th>\n",
       "      <td>0.1</td>\n",
       "      <td>0.2</td>\n",
       "      <td>0.2</td>\n",
       "      <td>0.2</td>\n",
       "      <td>0.2</td>\n",
       "      <td>0.2</td>\n",
       "      <td>0.2</td>\n",
       "      <td>0.3</td>\n",
       "      <td>0.4</td>\n",
       "      <td>0.4</td>\n",
       "      <td>...</td>\n",
       "      <td>0.5</td>\n",
       "      <td>0.5</td>\n",
       "      <td>0.5</td>\n",
       "      <td>0.5</td>\n",
       "      <td>0.5</td>\n",
       "      <td>0.5</td>\n",
       "      <td>0.5</td>\n",
       "      <td>0.5</td>\n",
       "      <td>0.5</td>\n",
       "      <td>0.5</td>\n",
       "    </tr>\n",
       "    <tr>\n",
       "      <th>195459</th>\n",
       "      <td>0.3</td>\n",
       "      <td>0.4</td>\n",
       "      <td>0.7</td>\n",
       "      <td>0.8</td>\n",
       "      <td>0.8</td>\n",
       "      <td>0.8</td>\n",
       "      <td>0.8</td>\n",
       "      <td>0.8</td>\n",
       "      <td>0.8</td>\n",
       "      <td>0.8</td>\n",
       "      <td>...</td>\n",
       "      <td>0.8</td>\n",
       "      <td>0.8</td>\n",
       "      <td>0.8</td>\n",
       "      <td>0.8</td>\n",
       "      <td>0.8</td>\n",
       "      <td>0.8</td>\n",
       "      <td>0.8</td>\n",
       "      <td>0.8</td>\n",
       "      <td>0.8</td>\n",
       "      <td>0.8</td>\n",
       "    </tr>\n",
       "    <tr>\n",
       "      <th>9797</th>\n",
       "      <td>0.0</td>\n",
       "      <td>0.0</td>\n",
       "      <td>0.0</td>\n",
       "      <td>0.0</td>\n",
       "      <td>0.0</td>\n",
       "      <td>0.0</td>\n",
       "      <td>0.0</td>\n",
       "      <td>0.1</td>\n",
       "      <td>0.1</td>\n",
       "      <td>0.1</td>\n",
       "      <td>...</td>\n",
       "      <td>0.3</td>\n",
       "      <td>0.3</td>\n",
       "      <td>0.3</td>\n",
       "      <td>0.3</td>\n",
       "      <td>0.3</td>\n",
       "      <td>0.3</td>\n",
       "      <td>0.3</td>\n",
       "      <td>0.3</td>\n",
       "      <td>0.3</td>\n",
       "      <td>0.3</td>\n",
       "    </tr>\n",
       "    <tr>\n",
       "      <th>212614</th>\n",
       "      <td>0.2</td>\n",
       "      <td>0.3</td>\n",
       "      <td>0.3</td>\n",
       "      <td>0.3</td>\n",
       "      <td>0.3</td>\n",
       "      <td>0.3</td>\n",
       "      <td>0.3</td>\n",
       "      <td>0.4</td>\n",
       "      <td>0.5</td>\n",
       "      <td>0.5</td>\n",
       "      <td>...</td>\n",
       "      <td>0.5</td>\n",
       "      <td>0.5</td>\n",
       "      <td>0.5</td>\n",
       "      <td>0.5</td>\n",
       "      <td>0.5</td>\n",
       "      <td>0.5</td>\n",
       "      <td>0.5</td>\n",
       "      <td>0.5</td>\n",
       "      <td>0.5</td>\n",
       "      <td>0.5</td>\n",
       "    </tr>\n",
       "  </tbody>\n",
       "</table>\n",
       "<p>5 rows × 30 columns</p>\n",
       "</div>"
      ],
      "text/plain": [
       "        top 5  top 10  top 15  top 20  top 25  top 30  top 35  top 40  top 45  \\\n",
       "q_id                                                                            \n",
       "12962     0.2     0.2     0.2     0.3     0.3     0.4     0.5     0.6     0.6   \n",
       "90536     0.1     0.2     0.2     0.2     0.2     0.2     0.2     0.3     0.4   \n",
       "195459    0.3     0.4     0.7     0.8     0.8     0.8     0.8     0.8     0.8   \n",
       "9797      0.0     0.0     0.0     0.0     0.0     0.0     0.0     0.1     0.1   \n",
       "212614    0.2     0.3     0.3     0.3     0.3     0.3     0.3     0.4     0.5   \n",
       "\n",
       "        top 50  ...  top 105  top 110  top 115  top 120  top 125  top 130  \\\n",
       "q_id            ...                                                         \n",
       "12962      0.6  ...      0.8      0.8      0.8      0.8      0.8      0.8   \n",
       "90536      0.4  ...      0.5      0.5      0.5      0.5      0.5      0.5   \n",
       "195459     0.8  ...      0.8      0.8      0.8      0.8      0.8      0.8   \n",
       "9797       0.1  ...      0.3      0.3      0.3      0.3      0.3      0.3   \n",
       "212614     0.5  ...      0.5      0.5      0.5      0.5      0.5      0.5   \n",
       "\n",
       "        top 135  top 140  top 145  top 150  \n",
       "q_id                                        \n",
       "12962       0.8      0.8      0.8      0.8  \n",
       "90536       0.5      0.5      0.5      0.5  \n",
       "195459      0.8      0.8      0.8      0.8  \n",
       "9797        0.3      0.3      0.3      0.3  \n",
       "212614      0.5      0.5      0.5      0.5  \n",
       "\n",
       "[5 rows x 30 columns]"
      ]
     },
     "execution_count": 40,
     "metadata": {},
     "output_type": "execute_result"
    }
   ],
   "source": [
    "import pandas as pd\n",
    "import os\n",
    "path_to_results = os.environ['HOME']+'/projects/ra_recommendator_conrec/results/'\n",
    "\n",
    "# All experiments\n",
    "# experiment = \"20190717_1108_5p_100\" - images: done\n",
    "# experiment = \"20190714_1211_6p\" - images: done\n",
    "# experiment = \"20190714_1213_5p\" - images: done\n",
    "# experiment = \"20190714_1231_7p\" - images: done\n",
    "# experiment = \"20190714_1231_8p\" - images: done\n",
    "# experiment = \"20190714_1232_9p\" - images: done\n",
    "# experiment = \"20190714_1233_10p\" - images: done\n",
    "# experiment = \"20190714_1234_3p\"\n",
    "# experiment = \"20190714_1235_4p\"\n",
    "# experiment = \"20190714_1236_2p\"\n",
    "\n",
    "\n",
    "nb_of_participants = experiment[14:-1]\n",
    "scenarios = ['A', 'B', 'C', 'D']\n",
    "data = {}\n",
    "for s in scenarios:\n",
    "    data[s] = pd.read_csv(path_to_results+experiment+'/recall_for_scenario_'+s+'.csv', sep='\\t', index_col=0)\n",
    "data['A'].head()"
   ]
  },
  {
   "cell_type": "code",
   "execution_count": 41,
   "metadata": {},
   "outputs": [
    {
     "data": {
      "application/vnd.plotly.v1+json": {
       "config": {
        "plotlyServerURL": "https://plot.ly"
       },
       "data": [
        {
         "boxpoints": "outliers",
         "line": {
          "color": "rgb(9,56,125)"
         },
         "marker": {
          "color": "rgb(9,56,125)"
         },
         "name": "top 5",
         "type": "box",
         "y": [
          0.2,
          0.1,
          0.3,
          0,
          0.2,
          0,
          0,
          0.1,
          0.2,
          0.3,
          0,
          0.1,
          0,
          0.1,
          0.2,
          0.2,
          0.2,
          0.1,
          0,
          0.1,
          0.2,
          0,
          0.2,
          0,
          0,
          0,
          0.1,
          0,
          0.1,
          0.3,
          0.2,
          0,
          0.1,
          0.1,
          0,
          0.2
         ]
        },
        {
         "boxpoints": "outliers",
         "line": {
          "color": "rgb(9,56,125)"
         },
         "marker": {
          "color": "rgb(9,56,125)"
         },
         "name": "top 10",
         "type": "box",
         "y": [
          0.2,
          0.2,
          0.4,
          0,
          0.3,
          0,
          0,
          0.2,
          0.4,
          0.4,
          0.2,
          0.2,
          0,
          0.1,
          0.4,
          0.3,
          0.4,
          0.1,
          0,
          0.1,
          0.2,
          0.3,
          0.3,
          0,
          0,
          0,
          0.1,
          0.2,
          0.1,
          0.3,
          0.2,
          0.2,
          0.1,
          0.1,
          0,
          0.3
         ]
        },
        {
         "boxpoints": "outliers",
         "line": {
          "color": "rgb(9,56,125)"
         },
         "marker": {
          "color": "rgb(9,56,125)"
         },
         "name": "top 15",
         "type": "box",
         "y": [
          0.2,
          0.2,
          0.7,
          0,
          0.3,
          0,
          0,
          0.2,
          0.4,
          0.4,
          0.2,
          0.2,
          0,
          0.1,
          0.4,
          0.3,
          0.4,
          0.1,
          0,
          0.1,
          0.5,
          0.3,
          0.3,
          0.1,
          0,
          0,
          0.1,
          0.6,
          0.2,
          0.4,
          0.2,
          0.2,
          0.1,
          0.1,
          0.1,
          0.4
         ]
        },
        {
         "boxpoints": "outliers",
         "line": {
          "color": "rgb(9,56,125)"
         },
         "marker": {
          "color": "rgb(9,56,125)"
         },
         "name": "top 20",
         "type": "box",
         "y": [
          0.3,
          0.2,
          0.8,
          0,
          0.3,
          0.1,
          0,
          0.3,
          0.4,
          0.4,
          0.2,
          0.2,
          0,
          0.5,
          0.5,
          0.6,
          0.4,
          0.1,
          0,
          0.1,
          0.5,
          0.4,
          0.3,
          0.1,
          0.1,
          0,
          0.1,
          0.7,
          0.3,
          0.4,
          0.2,
          0.2,
          0.3,
          0.2,
          0.2,
          0.4
         ]
        },
        {
         "boxpoints": "outliers",
         "line": {
          "color": "rgb(9,56,125)"
         },
         "marker": {
          "color": "rgb(9,56,125)"
         },
         "name": "top 25",
         "type": "box",
         "y": [
          0.3,
          0.2,
          0.8,
          0,
          0.3,
          0.1,
          0.1,
          0.3,
          0.5,
          0.4,
          0.4,
          0.4,
          0,
          0.7,
          0.6,
          0.6,
          0.5,
          0.1,
          0,
          0.1,
          0.5,
          0.4,
          0.3,
          0.1,
          0.1,
          0,
          0.2,
          0.7,
          0.3,
          0.4,
          0.2,
          0.2,
          0.4,
          0.2,
          0.2,
          0.4
         ]
        },
        {
         "boxpoints": "outliers",
         "line": {
          "color": "rgb(9,56,125)"
         },
         "marker": {
          "color": "rgb(9,56,125)"
         },
         "name": "top 30",
         "type": "box",
         "y": [
          0.4,
          0.2,
          0.8,
          0,
          0.3,
          0.1,
          0.1,
          0.3,
          0.6,
          0.4,
          0.4,
          0.4,
          0,
          0.7,
          0.7,
          0.6,
          0.5,
          0.1,
          0,
          0.1,
          0.5,
          0.5,
          0.4,
          0.2,
          0.2,
          0,
          0.2,
          0.7,
          0.3,
          0.6,
          0.2,
          0.2,
          0.4,
          0.2,
          0.2,
          0.4
         ]
        },
        {
         "boxpoints": "outliers",
         "line": {
          "color": "rgb(9,56,125)"
         },
         "marker": {
          "color": "rgb(9,56,125)"
         },
         "name": "top 35",
         "type": "box",
         "y": [
          0.5,
          0.2,
          0.8,
          0,
          0.3,
          0.2,
          0.1,
          0.3,
          0.6,
          0.5,
          0.4,
          0.5,
          0,
          0.7,
          1,
          0.6,
          0.5,
          0.1,
          0,
          0.1,
          0.5,
          0.5,
          0.4,
          0.2,
          0.2,
          0,
          0.2,
          0.7,
          0.3,
          0.6,
          0.2,
          0.3,
          0.4,
          0.3,
          0.3,
          0.4
         ]
        },
        {
         "boxpoints": "outliers",
         "line": {
          "color": "rgb(9,56,125)"
         },
         "marker": {
          "color": "rgb(9,56,125)"
         },
         "name": "top 40",
         "type": "box",
         "y": [
          0.6,
          0.3,
          0.8,
          0.1,
          0.4,
          0.3,
          0.2,
          0.3,
          0.6,
          0.5,
          0.4,
          0.6,
          0,
          0.7,
          1,
          0.6,
          0.5,
          0.1,
          0,
          0.1,
          0.5,
          0.5,
          0.4,
          0.2,
          0.2,
          0,
          0.2,
          0.7,
          0.3,
          0.6,
          0.2,
          0.3,
          0.4,
          0.3,
          0.3,
          0.4
         ]
        },
        {
         "boxpoints": "outliers",
         "line": {
          "color": "rgb(9,56,125)"
         },
         "marker": {
          "color": "rgb(9,56,125)"
         },
         "name": "top 45",
         "type": "box",
         "y": [
          0.6,
          0.4,
          0.8,
          0.1,
          0.5,
          0.3,
          0.2,
          0.3,
          0.6,
          0.6,
          0.5,
          0.6,
          0,
          0.7,
          1,
          0.6,
          0.5,
          0.1,
          0,
          0.1,
          0.5,
          0.5,
          0.5,
          0.2,
          0.3,
          0,
          0.2,
          0.8,
          0.3,
          0.8,
          0.2,
          0.3,
          0.4,
          0.3,
          0.3,
          0.4
         ]
        },
        {
         "boxpoints": "outliers",
         "line": {
          "color": "rgb(9,56,125)"
         },
         "marker": {
          "color": "rgb(9,56,125)"
         },
         "name": "top 50",
         "type": "box",
         "y": [
          0.6,
          0.4,
          0.8,
          0.1,
          0.5,
          0.3,
          0.2,
          0.3,
          0.6,
          0.6,
          0.5,
          0.6,
          0,
          0.7,
          1,
          0.6,
          0.5,
          0.1,
          0,
          0.1,
          0.5,
          0.5,
          0.8,
          0.2,
          0.3,
          0,
          0.2,
          0.8,
          0.3,
          0.8,
          0.3,
          0.3,
          0.4,
          0.3,
          0.3,
          0.4
         ]
        },
        {
         "boxpoints": "outliers",
         "line": {
          "color": "rgb(9,56,125)"
         },
         "marker": {
          "color": "rgb(9,56,125)"
         },
         "name": "top 55",
         "type": "box",
         "y": [
          0.7,
          0.4,
          0.8,
          0.1,
          0.5,
          0.3,
          0.2,
          0.4,
          0.6,
          0.6,
          0.5,
          0.6,
          0,
          0.7,
          1,
          0.6,
          0.5,
          0.1,
          0,
          0.1,
          0.6,
          0.5,
          0.8,
          0.2,
          0.3,
          0,
          0.2,
          0.8,
          0.3,
          0.8,
          0.3,
          0.3,
          0.5,
          0.3,
          0.3,
          0.4
         ]
        },
        {
         "boxpoints": "outliers",
         "line": {
          "color": "rgb(9,56,125)"
         },
         "marker": {
          "color": "rgb(9,56,125)"
         },
         "name": "top 60",
         "type": "box",
         "y": [
          0.7,
          0.4,
          0.8,
          0.1,
          0.5,
          0.3,
          0.7,
          0.8,
          0.6,
          0.7,
          0.5,
          0.6,
          0,
          0.7,
          1,
          0.6,
          0.5,
          0.1,
          0,
          0.1,
          0.6,
          0.5,
          0.8,
          0.2,
          0.3,
          0,
          0.2,
          0.8,
          0.3,
          0.8,
          0.3,
          0.3,
          0.5,
          0.3,
          0.3,
          0.5
         ]
        },
        {
         "boxpoints": "outliers",
         "line": {
          "color": "rgb(9,56,125)"
         },
         "marker": {
          "color": "rgb(9,56,125)"
         },
         "name": "top 65",
         "type": "box",
         "y": [
          0.7,
          0.4,
          0.8,
          0.1,
          0.5,
          0.3,
          0.8,
          0.8,
          0.6,
          0.7,
          0.5,
          0.6,
          0,
          0.7,
          1,
          0.6,
          0.6,
          0.1,
          0,
          0.1,
          0.6,
          0.5,
          0.8,
          0.2,
          0.3,
          0,
          0.3,
          0.8,
          0.4,
          0.9,
          0.4,
          0.3,
          0.5,
          0.3,
          0.3,
          0.5
         ]
        },
        {
         "boxpoints": "outliers",
         "line": {
          "color": "rgb(9,56,125)"
         },
         "marker": {
          "color": "rgb(9,56,125)"
         },
         "name": "top 70",
         "type": "box",
         "y": [
          0.7,
          0.4,
          0.8,
          0.1,
          0.5,
          0.3,
          0.8,
          0.8,
          0.6,
          0.7,
          0.5,
          0.6,
          0.2,
          0.7,
          1,
          0.7,
          0.8,
          0.1,
          0,
          0.1,
          0.6,
          0.5,
          0.8,
          0.2,
          0.3,
          0,
          0.3,
          0.8,
          0.4,
          0.9,
          0.4,
          0.3,
          0.5,
          0.4,
          0.3,
          0.5
         ]
        },
        {
         "boxpoints": "outliers",
         "line": {
          "color": "rgb(9,56,125)"
         },
         "marker": {
          "color": "rgb(9,56,125)"
         },
         "name": "top 75",
         "type": "box",
         "y": [
          0.7,
          0.5,
          0.8,
          0.3,
          0.5,
          0.3,
          0.8,
          0.8,
          0.7,
          0.7,
          0.5,
          0.6,
          0.3,
          0.7,
          1,
          0.7,
          0.8,
          0.1,
          0,
          0.1,
          0.6,
          0.5,
          0.8,
          0.2,
          0.3,
          0,
          0.3,
          0.8,
          0.4,
          0.9,
          0.4,
          0.3,
          0.5,
          0.5,
          0.3,
          0.5
         ]
        },
        {
         "boxpoints": "outliers",
         "line": {
          "color": "rgb(9,56,125)"
         },
         "marker": {
          "color": "rgb(9,56,125)"
         },
         "name": "top 80",
         "type": "box",
         "y": [
          0.7,
          0.5,
          0.8,
          0.3,
          0.5,
          0.3,
          0.8,
          0.8,
          0.7,
          0.7,
          0.5,
          0.6,
          0.3,
          0.7,
          1,
          0.7,
          0.8,
          0.1,
          0,
          0.1,
          0.6,
          0.6,
          0.8,
          0.2,
          0.3,
          0,
          0.3,
          0.8,
          0.4,
          0.9,
          0.4,
          0.3,
          0.5,
          0.5,
          0.3,
          0.5
         ]
        },
        {
         "boxpoints": "outliers",
         "line": {
          "color": "rgb(9,56,125)"
         },
         "marker": {
          "color": "rgb(9,56,125)"
         },
         "name": "top 85",
         "type": "box",
         "y": [
          0.7,
          0.5,
          0.8,
          0.3,
          0.5,
          0.3,
          0.8,
          0.8,
          0.7,
          0.7,
          0.6,
          0.6,
          0.3,
          0.7,
          1,
          0.7,
          0.8,
          0.1,
          0,
          0.1,
          0.6,
          0.6,
          0.8,
          0.3,
          0.3,
          0,
          0.3,
          0.8,
          0.4,
          0.9,
          0.4,
          0.3,
          0.6,
          0.5,
          0.4,
          0.5
         ]
        },
        {
         "boxpoints": "outliers",
         "line": {
          "color": "rgb(9,56,125)"
         },
         "marker": {
          "color": "rgb(9,56,125)"
         },
         "name": "top 90",
         "type": "box",
         "y": [
          0.7,
          0.5,
          0.8,
          0.3,
          0.5,
          0.3,
          0.8,
          0.8,
          0.8,
          0.7,
          0.6,
          0.6,
          0.3,
          0.7,
          1,
          0.7,
          0.8,
          0.1,
          0,
          0.1,
          0.7,
          0.6,
          0.8,
          0.3,
          0.3,
          0,
          0.3,
          0.8,
          0.4,
          0.9,
          0.4,
          0.3,
          0.6,
          0.5,
          0.4,
          0.5
         ]
        },
        {
         "boxpoints": "outliers",
         "line": {
          "color": "rgb(9,56,125)"
         },
         "marker": {
          "color": "rgb(9,56,125)"
         },
         "name": "top 95",
         "type": "box",
         "y": [
          0.7,
          0.5,
          0.8,
          0.3,
          0.5,
          0.3,
          0.8,
          0.8,
          0.8,
          0.7,
          0.6,
          0.6,
          0.3,
          0.7,
          1,
          0.7,
          0.8,
          0.2,
          0,
          0.1,
          0.7,
          0.6,
          0.8,
          0.3,
          0.3,
          0,
          0.3,
          0.8,
          0.5,
          0.9,
          0.4,
          0.4,
          0.6,
          0.5,
          0.5,
          0.5
         ]
        },
        {
         "boxpoints": "outliers",
         "line": {
          "color": "rgb(9,56,125)"
         },
         "marker": {
          "color": "rgb(9,56,125)"
         },
         "name": "top 100",
         "type": "box",
         "y": [
          0.8,
          0.5,
          0.8,
          0.3,
          0.5,
          0.5,
          0.8,
          0.8,
          0.8,
          1,
          0.6,
          0.6,
          0.3,
          0.7,
          1,
          0.7,
          0.8,
          0.2,
          0,
          0.1,
          0.7,
          0.6,
          0.8,
          0.3,
          0.3,
          0,
          0.3,
          0.8,
          0.5,
          0.9,
          0.4,
          0.4,
          0.6,
          0.5,
          0.6,
          0.6
         ]
        }
       ],
       "layout": {
        "height": 500,
        "showlegend": false,
        "template": {
         "data": {
          "bar": [
           {
            "error_x": {
             "color": "#2a3f5f"
            },
            "error_y": {
             "color": "#2a3f5f"
            },
            "marker": {
             "line": {
              "color": "#E5ECF6",
              "width": 0.5
             }
            },
            "type": "bar"
           }
          ],
          "barpolar": [
           {
            "marker": {
             "line": {
              "color": "#E5ECF6",
              "width": 0.5
             }
            },
            "type": "barpolar"
           }
          ],
          "carpet": [
           {
            "aaxis": {
             "endlinecolor": "#2a3f5f",
             "gridcolor": "white",
             "linecolor": "white",
             "minorgridcolor": "white",
             "startlinecolor": "#2a3f5f"
            },
            "baxis": {
             "endlinecolor": "#2a3f5f",
             "gridcolor": "white",
             "linecolor": "white",
             "minorgridcolor": "white",
             "startlinecolor": "#2a3f5f"
            },
            "type": "carpet"
           }
          ],
          "choropleth": [
           {
            "colorbar": {
             "outlinewidth": 0,
             "ticks": ""
            },
            "type": "choropleth"
           }
          ],
          "contour": [
           {
            "colorbar": {
             "outlinewidth": 0,
             "ticks": ""
            },
            "colorscale": [
             [
              0,
              "#0d0887"
             ],
             [
              0.1111111111111111,
              "#46039f"
             ],
             [
              0.2222222222222222,
              "#7201a8"
             ],
             [
              0.3333333333333333,
              "#9c179e"
             ],
             [
              0.4444444444444444,
              "#bd3786"
             ],
             [
              0.5555555555555556,
              "#d8576b"
             ],
             [
              0.6666666666666666,
              "#ed7953"
             ],
             [
              0.7777777777777778,
              "#fb9f3a"
             ],
             [
              0.8888888888888888,
              "#fdca26"
             ],
             [
              1,
              "#f0f921"
             ]
            ],
            "type": "contour"
           }
          ],
          "contourcarpet": [
           {
            "colorbar": {
             "outlinewidth": 0,
             "ticks": ""
            },
            "type": "contourcarpet"
           }
          ],
          "heatmap": [
           {
            "colorbar": {
             "outlinewidth": 0,
             "ticks": ""
            },
            "colorscale": [
             [
              0,
              "#0d0887"
             ],
             [
              0.1111111111111111,
              "#46039f"
             ],
             [
              0.2222222222222222,
              "#7201a8"
             ],
             [
              0.3333333333333333,
              "#9c179e"
             ],
             [
              0.4444444444444444,
              "#bd3786"
             ],
             [
              0.5555555555555556,
              "#d8576b"
             ],
             [
              0.6666666666666666,
              "#ed7953"
             ],
             [
              0.7777777777777778,
              "#fb9f3a"
             ],
             [
              0.8888888888888888,
              "#fdca26"
             ],
             [
              1,
              "#f0f921"
             ]
            ],
            "type": "heatmap"
           }
          ],
          "heatmapgl": [
           {
            "colorbar": {
             "outlinewidth": 0,
             "ticks": ""
            },
            "colorscale": [
             [
              0,
              "#0d0887"
             ],
             [
              0.1111111111111111,
              "#46039f"
             ],
             [
              0.2222222222222222,
              "#7201a8"
             ],
             [
              0.3333333333333333,
              "#9c179e"
             ],
             [
              0.4444444444444444,
              "#bd3786"
             ],
             [
              0.5555555555555556,
              "#d8576b"
             ],
             [
              0.6666666666666666,
              "#ed7953"
             ],
             [
              0.7777777777777778,
              "#fb9f3a"
             ],
             [
              0.8888888888888888,
              "#fdca26"
             ],
             [
              1,
              "#f0f921"
             ]
            ],
            "type": "heatmapgl"
           }
          ],
          "histogram": [
           {
            "marker": {
             "colorbar": {
              "outlinewidth": 0,
              "ticks": ""
             }
            },
            "type": "histogram"
           }
          ],
          "histogram2d": [
           {
            "colorbar": {
             "outlinewidth": 0,
             "ticks": ""
            },
            "colorscale": [
             [
              0,
              "#0d0887"
             ],
             [
              0.1111111111111111,
              "#46039f"
             ],
             [
              0.2222222222222222,
              "#7201a8"
             ],
             [
              0.3333333333333333,
              "#9c179e"
             ],
             [
              0.4444444444444444,
              "#bd3786"
             ],
             [
              0.5555555555555556,
              "#d8576b"
             ],
             [
              0.6666666666666666,
              "#ed7953"
             ],
             [
              0.7777777777777778,
              "#fb9f3a"
             ],
             [
              0.8888888888888888,
              "#fdca26"
             ],
             [
              1,
              "#f0f921"
             ]
            ],
            "type": "histogram2d"
           }
          ],
          "histogram2dcontour": [
           {
            "colorbar": {
             "outlinewidth": 0,
             "ticks": ""
            },
            "colorscale": [
             [
              0,
              "#0d0887"
             ],
             [
              0.1111111111111111,
              "#46039f"
             ],
             [
              0.2222222222222222,
              "#7201a8"
             ],
             [
              0.3333333333333333,
              "#9c179e"
             ],
             [
              0.4444444444444444,
              "#bd3786"
             ],
             [
              0.5555555555555556,
              "#d8576b"
             ],
             [
              0.6666666666666666,
              "#ed7953"
             ],
             [
              0.7777777777777778,
              "#fb9f3a"
             ],
             [
              0.8888888888888888,
              "#fdca26"
             ],
             [
              1,
              "#f0f921"
             ]
            ],
            "type": "histogram2dcontour"
           }
          ],
          "mesh3d": [
           {
            "colorbar": {
             "outlinewidth": 0,
             "ticks": ""
            },
            "type": "mesh3d"
           }
          ],
          "parcoords": [
           {
            "line": {
             "colorbar": {
              "outlinewidth": 0,
              "ticks": ""
             }
            },
            "type": "parcoords"
           }
          ],
          "scatter": [
           {
            "marker": {
             "colorbar": {
              "outlinewidth": 0,
              "ticks": ""
             }
            },
            "type": "scatter"
           }
          ],
          "scatter3d": [
           {
            "line": {
             "colorbar": {
              "outlinewidth": 0,
              "ticks": ""
             }
            },
            "marker": {
             "colorbar": {
              "outlinewidth": 0,
              "ticks": ""
             }
            },
            "type": "scatter3d"
           }
          ],
          "scattercarpet": [
           {
            "marker": {
             "colorbar": {
              "outlinewidth": 0,
              "ticks": ""
             }
            },
            "type": "scattercarpet"
           }
          ],
          "scattergeo": [
           {
            "marker": {
             "colorbar": {
              "outlinewidth": 0,
              "ticks": ""
             }
            },
            "type": "scattergeo"
           }
          ],
          "scattergl": [
           {
            "marker": {
             "colorbar": {
              "outlinewidth": 0,
              "ticks": ""
             }
            },
            "type": "scattergl"
           }
          ],
          "scattermapbox": [
           {
            "marker": {
             "colorbar": {
              "outlinewidth": 0,
              "ticks": ""
             }
            },
            "type": "scattermapbox"
           }
          ],
          "scatterpolar": [
           {
            "marker": {
             "colorbar": {
              "outlinewidth": 0,
              "ticks": ""
             }
            },
            "type": "scatterpolar"
           }
          ],
          "scatterpolargl": [
           {
            "marker": {
             "colorbar": {
              "outlinewidth": 0,
              "ticks": ""
             }
            },
            "type": "scatterpolargl"
           }
          ],
          "scatterternary": [
           {
            "marker": {
             "colorbar": {
              "outlinewidth": 0,
              "ticks": ""
             }
            },
            "type": "scatterternary"
           }
          ],
          "surface": [
           {
            "colorbar": {
             "outlinewidth": 0,
             "ticks": ""
            },
            "colorscale": [
             [
              0,
              "#0d0887"
             ],
             [
              0.1111111111111111,
              "#46039f"
             ],
             [
              0.2222222222222222,
              "#7201a8"
             ],
             [
              0.3333333333333333,
              "#9c179e"
             ],
             [
              0.4444444444444444,
              "#bd3786"
             ],
             [
              0.5555555555555556,
              "#d8576b"
             ],
             [
              0.6666666666666666,
              "#ed7953"
             ],
             [
              0.7777777777777778,
              "#fb9f3a"
             ],
             [
              0.8888888888888888,
              "#fdca26"
             ],
             [
              1,
              "#f0f921"
             ]
            ],
            "type": "surface"
           }
          ],
          "table": [
           {
            "cells": {
             "fill": {
              "color": "#EBF0F8"
             },
             "line": {
              "color": "white"
             }
            },
            "header": {
             "fill": {
              "color": "#C8D4E3"
             },
             "line": {
              "color": "white"
             }
            },
            "type": "table"
           }
          ]
         },
         "layout": {
          "annotationdefaults": {
           "arrowcolor": "#2a3f5f",
           "arrowhead": 0,
           "arrowwidth": 1
          },
          "colorscale": {
           "diverging": [
            [
             0,
             "#8e0152"
            ],
            [
             0.1,
             "#c51b7d"
            ],
            [
             0.2,
             "#de77ae"
            ],
            [
             0.3,
             "#f1b6da"
            ],
            [
             0.4,
             "#fde0ef"
            ],
            [
             0.5,
             "#f7f7f7"
            ],
            [
             0.6,
             "#e6f5d0"
            ],
            [
             0.7,
             "#b8e186"
            ],
            [
             0.8,
             "#7fbc41"
            ],
            [
             0.9,
             "#4d9221"
            ],
            [
             1,
             "#276419"
            ]
           ],
           "sequential": [
            [
             0,
             "#0d0887"
            ],
            [
             0.1111111111111111,
             "#46039f"
            ],
            [
             0.2222222222222222,
             "#7201a8"
            ],
            [
             0.3333333333333333,
             "#9c179e"
            ],
            [
             0.4444444444444444,
             "#bd3786"
            ],
            [
             0.5555555555555556,
             "#d8576b"
            ],
            [
             0.6666666666666666,
             "#ed7953"
            ],
            [
             0.7777777777777778,
             "#fb9f3a"
            ],
            [
             0.8888888888888888,
             "#fdca26"
            ],
            [
             1,
             "#f0f921"
            ]
           ],
           "sequentialminus": [
            [
             0,
             "#0d0887"
            ],
            [
             0.1111111111111111,
             "#46039f"
            ],
            [
             0.2222222222222222,
             "#7201a8"
            ],
            [
             0.3333333333333333,
             "#9c179e"
            ],
            [
             0.4444444444444444,
             "#bd3786"
            ],
            [
             0.5555555555555556,
             "#d8576b"
            ],
            [
             0.6666666666666666,
             "#ed7953"
            ],
            [
             0.7777777777777778,
             "#fb9f3a"
            ],
            [
             0.8888888888888888,
             "#fdca26"
            ],
            [
             1,
             "#f0f921"
            ]
           ]
          },
          "colorway": [
           "#636efa",
           "#EF553B",
           "#00cc96",
           "#ab63fa",
           "#FFA15A",
           "#19d3f3",
           "#FF6692",
           "#B6E880",
           "#FF97FF",
           "#FECB52"
          ],
          "font": {
           "color": "#2a3f5f"
          },
          "geo": {
           "bgcolor": "white",
           "lakecolor": "white",
           "landcolor": "#E5ECF6",
           "showlakes": true,
           "showland": true,
           "subunitcolor": "white"
          },
          "hoverlabel": {
           "align": "left"
          },
          "hovermode": "closest",
          "mapbox": {
           "style": "light"
          },
          "paper_bgcolor": "white",
          "plot_bgcolor": "#E5ECF6",
          "polar": {
           "angularaxis": {
            "gridcolor": "white",
            "linecolor": "white",
            "ticks": ""
           },
           "bgcolor": "#E5ECF6",
           "radialaxis": {
            "gridcolor": "white",
            "linecolor": "white",
            "ticks": ""
           }
          },
          "scene": {
           "xaxis": {
            "backgroundcolor": "#E5ECF6",
            "gridcolor": "white",
            "gridwidth": 2,
            "linecolor": "white",
            "showbackground": true,
            "ticks": "",
            "zerolinecolor": "white"
           },
           "yaxis": {
            "backgroundcolor": "#E5ECF6",
            "gridcolor": "white",
            "gridwidth": 2,
            "linecolor": "white",
            "showbackground": true,
            "ticks": "",
            "zerolinecolor": "white"
           },
           "zaxis": {
            "backgroundcolor": "#E5ECF6",
            "gridcolor": "white",
            "gridwidth": 2,
            "linecolor": "white",
            "showbackground": true,
            "ticks": "",
            "zerolinecolor": "white"
           }
          },
          "shapedefaults": {
           "line": {
            "color": "#2a3f5f"
           }
          },
          "ternary": {
           "aaxis": {
            "gridcolor": "white",
            "linecolor": "white",
            "ticks": ""
           },
           "baxis": {
            "gridcolor": "white",
            "linecolor": "white",
            "ticks": ""
           },
           "bgcolor": "#E5ECF6",
           "caxis": {
            "gridcolor": "white",
            "linecolor": "white",
            "ticks": ""
           }
          },
          "title": {
           "x": 0.05
          },
          "xaxis": {
           "automargin": true,
           "gridcolor": "white",
           "linecolor": "white",
           "ticks": "",
           "zerolinecolor": "white",
           "zerolinewidth": 2
          },
          "yaxis": {
           "automargin": true,
           "gridcolor": "white",
           "linecolor": "white",
           "ticks": "",
           "zerolinecolor": "white",
           "zerolinewidth": 2
          }
         }
        },
        "title": {
         "text": "Recall Scenario A - 10 participants, all questions"
        }
       }
      },
      "text/html": [
       "<div>\n",
       "        \n",
       "        \n",
       "            <div id=\"e2024d3f-757e-4d45-bd89-669c8705b214\" class=\"plotly-graph-div\" style=\"height:500px; width:100%;\"></div>\n",
       "            <script type=\"text/javascript\">\n",
       "                require([\"plotly\"], function(Plotly) {\n",
       "                    window.PLOTLYENV=window.PLOTLYENV || {};\n",
       "                    \n",
       "                if (document.getElementById(\"e2024d3f-757e-4d45-bd89-669c8705b214\")) {\n",
       "                    Plotly.newPlot(\n",
       "                        'e2024d3f-757e-4d45-bd89-669c8705b214',\n",
       "                        [{\"boxpoints\": \"outliers\", \"line\": {\"color\": \"rgb(9,56,125)\"}, \"marker\": {\"color\": \"rgb(9,56,125)\"}, \"name\": \"top 5\", \"type\": \"box\", \"y\": [0.2, 0.1, 0.3, 0.0, 0.2, 0.0, 0.0, 0.1, 0.2, 0.3, 0.0, 0.1, 0.0, 0.1, 0.2, 0.2, 0.2, 0.1, 0.0, 0.1, 0.2, 0.0, 0.2, 0.0, 0.0, 0.0, 0.1, 0.0, 0.1, 0.3, 0.2, 0.0, 0.1, 0.1, 0.0, 0.2]}, {\"boxpoints\": \"outliers\", \"line\": {\"color\": \"rgb(9,56,125)\"}, \"marker\": {\"color\": \"rgb(9,56,125)\"}, \"name\": \"top 10\", \"type\": \"box\", \"y\": [0.2, 0.2, 0.4, 0.0, 0.3, 0.0, 0.0, 0.2, 0.4, 0.4, 0.2, 0.2, 0.0, 0.1, 0.4, 0.3, 0.4, 0.1, 0.0, 0.1, 0.2, 0.3, 0.3, 0.0, 0.0, 0.0, 0.1, 0.2, 0.1, 0.3, 0.2, 0.2, 0.1, 0.1, 0.0, 0.3]}, {\"boxpoints\": \"outliers\", \"line\": {\"color\": \"rgb(9,56,125)\"}, \"marker\": {\"color\": \"rgb(9,56,125)\"}, \"name\": \"top 15\", \"type\": \"box\", \"y\": [0.2, 0.2, 0.7, 0.0, 0.3, 0.0, 0.0, 0.2, 0.4, 0.4, 0.2, 0.2, 0.0, 0.1, 0.4, 0.3, 0.4, 0.1, 0.0, 0.1, 0.5, 0.3, 0.3, 0.1, 0.0, 0.0, 0.1, 0.6, 0.2, 0.4, 0.2, 0.2, 0.1, 0.1, 0.1, 0.4]}, {\"boxpoints\": \"outliers\", \"line\": {\"color\": \"rgb(9,56,125)\"}, \"marker\": {\"color\": \"rgb(9,56,125)\"}, \"name\": \"top 20\", \"type\": \"box\", \"y\": [0.3, 0.2, 0.8, 0.0, 0.3, 0.1, 0.0, 0.3, 0.4, 0.4, 0.2, 0.2, 0.0, 0.5, 0.5, 0.6, 0.4, 0.1, 0.0, 0.1, 0.5, 0.4, 0.3, 0.1, 0.1, 0.0, 0.1, 0.7, 0.3, 0.4, 0.2, 0.2, 0.3, 0.2, 0.2, 0.4]}, {\"boxpoints\": \"outliers\", \"line\": {\"color\": \"rgb(9,56,125)\"}, \"marker\": {\"color\": \"rgb(9,56,125)\"}, \"name\": \"top 25\", \"type\": \"box\", \"y\": [0.3, 0.2, 0.8, 0.0, 0.3, 0.1, 0.1, 0.3, 0.5, 0.4, 0.4, 0.4, 0.0, 0.7, 0.6, 0.6, 0.5, 0.1, 0.0, 0.1, 0.5, 0.4, 0.3, 0.1, 0.1, 0.0, 0.2, 0.7, 0.3, 0.4, 0.2, 0.2, 0.4, 0.2, 0.2, 0.4]}, {\"boxpoints\": \"outliers\", \"line\": {\"color\": \"rgb(9,56,125)\"}, \"marker\": {\"color\": \"rgb(9,56,125)\"}, \"name\": \"top 30\", \"type\": \"box\", \"y\": [0.4, 0.2, 0.8, 0.0, 0.3, 0.1, 0.1, 0.3, 0.6, 0.4, 0.4, 0.4, 0.0, 0.7, 0.7, 0.6, 0.5, 0.1, 0.0, 0.1, 0.5, 0.5, 0.4, 0.2, 0.2, 0.0, 0.2, 0.7, 0.3, 0.6, 0.2, 0.2, 0.4, 0.2, 0.2, 0.4]}, {\"boxpoints\": \"outliers\", \"line\": {\"color\": \"rgb(9,56,125)\"}, \"marker\": {\"color\": \"rgb(9,56,125)\"}, \"name\": \"top 35\", \"type\": \"box\", \"y\": [0.5, 0.2, 0.8, 0.0, 0.3, 0.2, 0.1, 0.3, 0.6, 0.5, 0.4, 0.5, 0.0, 0.7, 1.0, 0.6, 0.5, 0.1, 0.0, 0.1, 0.5, 0.5, 0.4, 0.2, 0.2, 0.0, 0.2, 0.7, 0.3, 0.6, 0.2, 0.3, 0.4, 0.3, 0.3, 0.4]}, {\"boxpoints\": \"outliers\", \"line\": {\"color\": \"rgb(9,56,125)\"}, \"marker\": {\"color\": \"rgb(9,56,125)\"}, \"name\": \"top 40\", \"type\": \"box\", \"y\": [0.6, 0.3, 0.8, 0.1, 0.4, 0.3, 0.2, 0.3, 0.6, 0.5, 0.4, 0.6, 0.0, 0.7, 1.0, 0.6, 0.5, 0.1, 0.0, 0.1, 0.5, 0.5, 0.4, 0.2, 0.2, 0.0, 0.2, 0.7, 0.3, 0.6, 0.2, 0.3, 0.4, 0.3, 0.3, 0.4]}, {\"boxpoints\": \"outliers\", \"line\": {\"color\": \"rgb(9,56,125)\"}, \"marker\": {\"color\": \"rgb(9,56,125)\"}, \"name\": \"top 45\", \"type\": \"box\", \"y\": [0.6, 0.4, 0.8, 0.1, 0.5, 0.3, 0.2, 0.3, 0.6, 0.6, 0.5, 0.6, 0.0, 0.7, 1.0, 0.6, 0.5, 0.1, 0.0, 0.1, 0.5, 0.5, 0.5, 0.2, 0.3, 0.0, 0.2, 0.8, 0.3, 0.8, 0.2, 0.3, 0.4, 0.3, 0.3, 0.4]}, {\"boxpoints\": \"outliers\", \"line\": {\"color\": \"rgb(9,56,125)\"}, \"marker\": {\"color\": \"rgb(9,56,125)\"}, \"name\": \"top 50\", \"type\": \"box\", \"y\": [0.6, 0.4, 0.8, 0.1, 0.5, 0.3, 0.2, 0.3, 0.6, 0.6, 0.5, 0.6, 0.0, 0.7, 1.0, 0.6, 0.5, 0.1, 0.0, 0.1, 0.5, 0.5, 0.8, 0.2, 0.3, 0.0, 0.2, 0.8, 0.3, 0.8, 0.3, 0.3, 0.4, 0.3, 0.3, 0.4]}, {\"boxpoints\": \"outliers\", \"line\": {\"color\": \"rgb(9,56,125)\"}, \"marker\": {\"color\": \"rgb(9,56,125)\"}, \"name\": \"top 55\", \"type\": \"box\", \"y\": [0.7, 0.4, 0.8, 0.1, 0.5, 0.3, 0.2, 0.4, 0.6, 0.6, 0.5, 0.6, 0.0, 0.7, 1.0, 0.6, 0.5, 0.1, 0.0, 0.1, 0.6, 0.5, 0.8, 0.2, 0.3, 0.0, 0.2, 0.8, 0.3, 0.8, 0.3, 0.3, 0.5, 0.3, 0.3, 0.4]}, {\"boxpoints\": \"outliers\", \"line\": {\"color\": \"rgb(9,56,125)\"}, \"marker\": {\"color\": \"rgb(9,56,125)\"}, \"name\": \"top 60\", \"type\": \"box\", \"y\": [0.7, 0.4, 0.8, 0.1, 0.5, 0.3, 0.7, 0.8, 0.6, 0.7, 0.5, 0.6, 0.0, 0.7, 1.0, 0.6, 0.5, 0.1, 0.0, 0.1, 0.6, 0.5, 0.8, 0.2, 0.3, 0.0, 0.2, 0.8, 0.3, 0.8, 0.3, 0.3, 0.5, 0.3, 0.3, 0.5]}, {\"boxpoints\": \"outliers\", \"line\": {\"color\": \"rgb(9,56,125)\"}, \"marker\": {\"color\": \"rgb(9,56,125)\"}, \"name\": \"top 65\", \"type\": \"box\", \"y\": [0.7, 0.4, 0.8, 0.1, 0.5, 0.3, 0.8, 0.8, 0.6, 0.7, 0.5, 0.6, 0.0, 0.7, 1.0, 0.6, 0.6, 0.1, 0.0, 0.1, 0.6, 0.5, 0.8, 0.2, 0.3, 0.0, 0.3, 0.8, 0.4, 0.9, 0.4, 0.3, 0.5, 0.3, 0.3, 0.5]}, {\"boxpoints\": \"outliers\", \"line\": {\"color\": \"rgb(9,56,125)\"}, \"marker\": {\"color\": \"rgb(9,56,125)\"}, \"name\": \"top 70\", \"type\": \"box\", \"y\": [0.7, 0.4, 0.8, 0.1, 0.5, 0.3, 0.8, 0.8, 0.6, 0.7, 0.5, 0.6, 0.2, 0.7, 1.0, 0.7, 0.8, 0.1, 0.0, 0.1, 0.6, 0.5, 0.8, 0.2, 0.3, 0.0, 0.3, 0.8, 0.4, 0.9, 0.4, 0.3, 0.5, 0.4, 0.3, 0.5]}, {\"boxpoints\": \"outliers\", \"line\": {\"color\": \"rgb(9,56,125)\"}, \"marker\": {\"color\": \"rgb(9,56,125)\"}, \"name\": \"top 75\", \"type\": \"box\", \"y\": [0.7, 0.5, 0.8, 0.3, 0.5, 0.3, 0.8, 0.8, 0.7, 0.7, 0.5, 0.6, 0.3, 0.7, 1.0, 0.7, 0.8, 0.1, 0.0, 0.1, 0.6, 0.5, 0.8, 0.2, 0.3, 0.0, 0.3, 0.8, 0.4, 0.9, 0.4, 0.3, 0.5, 0.5, 0.3, 0.5]}, {\"boxpoints\": \"outliers\", \"line\": {\"color\": \"rgb(9,56,125)\"}, \"marker\": {\"color\": \"rgb(9,56,125)\"}, \"name\": \"top 80\", \"type\": \"box\", \"y\": [0.7, 0.5, 0.8, 0.3, 0.5, 0.3, 0.8, 0.8, 0.7, 0.7, 0.5, 0.6, 0.3, 0.7, 1.0, 0.7, 0.8, 0.1, 0.0, 0.1, 0.6, 0.6, 0.8, 0.2, 0.3, 0.0, 0.3, 0.8, 0.4, 0.9, 0.4, 0.3, 0.5, 0.5, 0.3, 0.5]}, {\"boxpoints\": \"outliers\", \"line\": {\"color\": \"rgb(9,56,125)\"}, \"marker\": {\"color\": \"rgb(9,56,125)\"}, \"name\": \"top 85\", \"type\": \"box\", \"y\": [0.7, 0.5, 0.8, 0.3, 0.5, 0.3, 0.8, 0.8, 0.7, 0.7, 0.6, 0.6, 0.3, 0.7, 1.0, 0.7, 0.8, 0.1, 0.0, 0.1, 0.6, 0.6, 0.8, 0.3, 0.3, 0.0, 0.3, 0.8, 0.4, 0.9, 0.4, 0.3, 0.6, 0.5, 0.4, 0.5]}, {\"boxpoints\": \"outliers\", \"line\": {\"color\": \"rgb(9,56,125)\"}, \"marker\": {\"color\": \"rgb(9,56,125)\"}, \"name\": \"top 90\", \"type\": \"box\", \"y\": [0.7, 0.5, 0.8, 0.3, 0.5, 0.3, 0.8, 0.8, 0.8, 0.7, 0.6, 0.6, 0.3, 0.7, 1.0, 0.7, 0.8, 0.1, 0.0, 0.1, 0.7, 0.6, 0.8, 0.3, 0.3, 0.0, 0.3, 0.8, 0.4, 0.9, 0.4, 0.3, 0.6, 0.5, 0.4, 0.5]}, {\"boxpoints\": \"outliers\", \"line\": {\"color\": \"rgb(9,56,125)\"}, \"marker\": {\"color\": \"rgb(9,56,125)\"}, \"name\": \"top 95\", \"type\": \"box\", \"y\": [0.7, 0.5, 0.8, 0.3, 0.5, 0.3, 0.8, 0.8, 0.8, 0.7, 0.6, 0.6, 0.3, 0.7, 1.0, 0.7, 0.8, 0.2, 0.0, 0.1, 0.7, 0.6, 0.8, 0.3, 0.3, 0.0, 0.3, 0.8, 0.5, 0.9, 0.4, 0.4, 0.6, 0.5, 0.5, 0.5]}, {\"boxpoints\": \"outliers\", \"line\": {\"color\": \"rgb(9,56,125)\"}, \"marker\": {\"color\": \"rgb(9,56,125)\"}, \"name\": \"top 100\", \"type\": \"box\", \"y\": [0.8, 0.5, 0.8, 0.3, 0.5, 0.5, 0.8, 0.8, 0.8, 1.0, 0.6, 0.6, 0.3, 0.7, 1.0, 0.7, 0.8, 0.2, 0.0, 0.1, 0.7, 0.6, 0.8, 0.3, 0.3, 0.0, 0.3, 0.8, 0.5, 0.9, 0.4, 0.4, 0.6, 0.5, 0.6, 0.6]}],\n",
       "                        {\"height\": 500, \"showlegend\": false, \"template\": {\"data\": {\"bar\": [{\"error_x\": {\"color\": \"#2a3f5f\"}, \"error_y\": {\"color\": \"#2a3f5f\"}, \"marker\": {\"line\": {\"color\": \"#E5ECF6\", \"width\": 0.5}}, \"type\": \"bar\"}], \"barpolar\": [{\"marker\": {\"line\": {\"color\": \"#E5ECF6\", \"width\": 0.5}}, \"type\": \"barpolar\"}], \"carpet\": [{\"aaxis\": {\"endlinecolor\": \"#2a3f5f\", \"gridcolor\": \"white\", \"linecolor\": \"white\", \"minorgridcolor\": \"white\", \"startlinecolor\": \"#2a3f5f\"}, \"baxis\": {\"endlinecolor\": \"#2a3f5f\", \"gridcolor\": \"white\", \"linecolor\": \"white\", \"minorgridcolor\": \"white\", \"startlinecolor\": \"#2a3f5f\"}, \"type\": \"carpet\"}], \"choropleth\": [{\"colorbar\": {\"outlinewidth\": 0, \"ticks\": \"\"}, \"type\": \"choropleth\"}], \"contour\": [{\"colorbar\": {\"outlinewidth\": 0, \"ticks\": \"\"}, \"colorscale\": [[0.0, \"#0d0887\"], [0.1111111111111111, \"#46039f\"], [0.2222222222222222, \"#7201a8\"], [0.3333333333333333, \"#9c179e\"], [0.4444444444444444, \"#bd3786\"], [0.5555555555555556, \"#d8576b\"], [0.6666666666666666, \"#ed7953\"], [0.7777777777777778, \"#fb9f3a\"], [0.8888888888888888, \"#fdca26\"], [1.0, \"#f0f921\"]], \"type\": \"contour\"}], \"contourcarpet\": [{\"colorbar\": {\"outlinewidth\": 0, \"ticks\": \"\"}, \"type\": \"contourcarpet\"}], \"heatmap\": [{\"colorbar\": {\"outlinewidth\": 0, \"ticks\": \"\"}, \"colorscale\": [[0.0, \"#0d0887\"], [0.1111111111111111, \"#46039f\"], [0.2222222222222222, \"#7201a8\"], [0.3333333333333333, \"#9c179e\"], [0.4444444444444444, \"#bd3786\"], [0.5555555555555556, \"#d8576b\"], [0.6666666666666666, \"#ed7953\"], [0.7777777777777778, \"#fb9f3a\"], [0.8888888888888888, \"#fdca26\"], [1.0, \"#f0f921\"]], \"type\": \"heatmap\"}], \"heatmapgl\": [{\"colorbar\": {\"outlinewidth\": 0, \"ticks\": \"\"}, \"colorscale\": [[0.0, \"#0d0887\"], [0.1111111111111111, \"#46039f\"], [0.2222222222222222, \"#7201a8\"], [0.3333333333333333, \"#9c179e\"], [0.4444444444444444, \"#bd3786\"], [0.5555555555555556, \"#d8576b\"], [0.6666666666666666, \"#ed7953\"], [0.7777777777777778, \"#fb9f3a\"], [0.8888888888888888, \"#fdca26\"], [1.0, \"#f0f921\"]], \"type\": \"heatmapgl\"}], \"histogram\": [{\"marker\": {\"colorbar\": {\"outlinewidth\": 0, \"ticks\": \"\"}}, \"type\": \"histogram\"}], \"histogram2d\": [{\"colorbar\": {\"outlinewidth\": 0, \"ticks\": \"\"}, \"colorscale\": [[0.0, \"#0d0887\"], [0.1111111111111111, \"#46039f\"], [0.2222222222222222, \"#7201a8\"], [0.3333333333333333, \"#9c179e\"], [0.4444444444444444, \"#bd3786\"], [0.5555555555555556, \"#d8576b\"], [0.6666666666666666, \"#ed7953\"], [0.7777777777777778, \"#fb9f3a\"], [0.8888888888888888, \"#fdca26\"], [1.0, \"#f0f921\"]], \"type\": \"histogram2d\"}], \"histogram2dcontour\": [{\"colorbar\": {\"outlinewidth\": 0, \"ticks\": \"\"}, \"colorscale\": [[0.0, \"#0d0887\"], [0.1111111111111111, \"#46039f\"], [0.2222222222222222, \"#7201a8\"], [0.3333333333333333, \"#9c179e\"], [0.4444444444444444, \"#bd3786\"], [0.5555555555555556, \"#d8576b\"], [0.6666666666666666, \"#ed7953\"], [0.7777777777777778, \"#fb9f3a\"], [0.8888888888888888, \"#fdca26\"], [1.0, \"#f0f921\"]], \"type\": \"histogram2dcontour\"}], \"mesh3d\": [{\"colorbar\": {\"outlinewidth\": 0, \"ticks\": \"\"}, \"type\": \"mesh3d\"}], \"parcoords\": [{\"line\": {\"colorbar\": {\"outlinewidth\": 0, \"ticks\": \"\"}}, \"type\": \"parcoords\"}], \"scatter\": [{\"marker\": {\"colorbar\": {\"outlinewidth\": 0, \"ticks\": \"\"}}, \"type\": \"scatter\"}], \"scatter3d\": [{\"line\": {\"colorbar\": {\"outlinewidth\": 0, \"ticks\": \"\"}}, \"marker\": {\"colorbar\": {\"outlinewidth\": 0, \"ticks\": \"\"}}, \"type\": \"scatter3d\"}], \"scattercarpet\": [{\"marker\": {\"colorbar\": {\"outlinewidth\": 0, \"ticks\": \"\"}}, \"type\": \"scattercarpet\"}], \"scattergeo\": [{\"marker\": {\"colorbar\": {\"outlinewidth\": 0, \"ticks\": \"\"}}, \"type\": \"scattergeo\"}], \"scattergl\": [{\"marker\": {\"colorbar\": {\"outlinewidth\": 0, \"ticks\": \"\"}}, \"type\": \"scattergl\"}], \"scattermapbox\": [{\"marker\": {\"colorbar\": {\"outlinewidth\": 0, \"ticks\": \"\"}}, \"type\": \"scattermapbox\"}], \"scatterpolar\": [{\"marker\": {\"colorbar\": {\"outlinewidth\": 0, \"ticks\": \"\"}}, \"type\": \"scatterpolar\"}], \"scatterpolargl\": [{\"marker\": {\"colorbar\": {\"outlinewidth\": 0, \"ticks\": \"\"}}, \"type\": \"scatterpolargl\"}], \"scatterternary\": [{\"marker\": {\"colorbar\": {\"outlinewidth\": 0, \"ticks\": \"\"}}, \"type\": \"scatterternary\"}], \"surface\": [{\"colorbar\": {\"outlinewidth\": 0, \"ticks\": \"\"}, \"colorscale\": [[0.0, \"#0d0887\"], [0.1111111111111111, \"#46039f\"], [0.2222222222222222, \"#7201a8\"], [0.3333333333333333, \"#9c179e\"], [0.4444444444444444, \"#bd3786\"], [0.5555555555555556, \"#d8576b\"], [0.6666666666666666, \"#ed7953\"], [0.7777777777777778, \"#fb9f3a\"], [0.8888888888888888, \"#fdca26\"], [1.0, \"#f0f921\"]], \"type\": \"surface\"}], \"table\": [{\"cells\": {\"fill\": {\"color\": \"#EBF0F8\"}, \"line\": {\"color\": \"white\"}}, \"header\": {\"fill\": {\"color\": \"#C8D4E3\"}, \"line\": {\"color\": \"white\"}}, \"type\": \"table\"}]}, \"layout\": {\"annotationdefaults\": {\"arrowcolor\": \"#2a3f5f\", \"arrowhead\": 0, \"arrowwidth\": 1}, \"colorscale\": {\"diverging\": [[0, \"#8e0152\"], [0.1, \"#c51b7d\"], [0.2, \"#de77ae\"], [0.3, \"#f1b6da\"], [0.4, \"#fde0ef\"], [0.5, \"#f7f7f7\"], [0.6, \"#e6f5d0\"], [0.7, \"#b8e186\"], [0.8, \"#7fbc41\"], [0.9, \"#4d9221\"], [1, \"#276419\"]], \"sequential\": [[0.0, \"#0d0887\"], [0.1111111111111111, \"#46039f\"], [0.2222222222222222, \"#7201a8\"], [0.3333333333333333, \"#9c179e\"], [0.4444444444444444, \"#bd3786\"], [0.5555555555555556, \"#d8576b\"], [0.6666666666666666, \"#ed7953\"], [0.7777777777777778, \"#fb9f3a\"], [0.8888888888888888, \"#fdca26\"], [1.0, \"#f0f921\"]], \"sequentialminus\": [[0.0, \"#0d0887\"], [0.1111111111111111, \"#46039f\"], [0.2222222222222222, \"#7201a8\"], [0.3333333333333333, \"#9c179e\"], [0.4444444444444444, \"#bd3786\"], [0.5555555555555556, \"#d8576b\"], [0.6666666666666666, \"#ed7953\"], [0.7777777777777778, \"#fb9f3a\"], [0.8888888888888888, \"#fdca26\"], [1.0, \"#f0f921\"]]}, \"colorway\": [\"#636efa\", \"#EF553B\", \"#00cc96\", \"#ab63fa\", \"#FFA15A\", \"#19d3f3\", \"#FF6692\", \"#B6E880\", \"#FF97FF\", \"#FECB52\"], \"font\": {\"color\": \"#2a3f5f\"}, \"geo\": {\"bgcolor\": \"white\", \"lakecolor\": \"white\", \"landcolor\": \"#E5ECF6\", \"showlakes\": true, \"showland\": true, \"subunitcolor\": \"white\"}, \"hoverlabel\": {\"align\": \"left\"}, \"hovermode\": \"closest\", \"mapbox\": {\"style\": \"light\"}, \"paper_bgcolor\": \"white\", \"plot_bgcolor\": \"#E5ECF6\", \"polar\": {\"angularaxis\": {\"gridcolor\": \"white\", \"linecolor\": \"white\", \"ticks\": \"\"}, \"bgcolor\": \"#E5ECF6\", \"radialaxis\": {\"gridcolor\": \"white\", \"linecolor\": \"white\", \"ticks\": \"\"}}, \"scene\": {\"xaxis\": {\"backgroundcolor\": \"#E5ECF6\", \"gridcolor\": \"white\", \"gridwidth\": 2, \"linecolor\": \"white\", \"showbackground\": true, \"ticks\": \"\", \"zerolinecolor\": \"white\"}, \"yaxis\": {\"backgroundcolor\": \"#E5ECF6\", \"gridcolor\": \"white\", \"gridwidth\": 2, \"linecolor\": \"white\", \"showbackground\": true, \"ticks\": \"\", \"zerolinecolor\": \"white\"}, \"zaxis\": {\"backgroundcolor\": \"#E5ECF6\", \"gridcolor\": \"white\", \"gridwidth\": 2, \"linecolor\": \"white\", \"showbackground\": true, \"ticks\": \"\", \"zerolinecolor\": \"white\"}}, \"shapedefaults\": {\"line\": {\"color\": \"#2a3f5f\"}}, \"ternary\": {\"aaxis\": {\"gridcolor\": \"white\", \"linecolor\": \"white\", \"ticks\": \"\"}, \"baxis\": {\"gridcolor\": \"white\", \"linecolor\": \"white\", \"ticks\": \"\"}, \"bgcolor\": \"#E5ECF6\", \"caxis\": {\"gridcolor\": \"white\", \"linecolor\": \"white\", \"ticks\": \"\"}}, \"title\": {\"x\": 0.05}, \"xaxis\": {\"automargin\": true, \"gridcolor\": \"white\", \"linecolor\": \"white\", \"ticks\": \"\", \"zerolinecolor\": \"white\", \"zerolinewidth\": 2}, \"yaxis\": {\"automargin\": true, \"gridcolor\": \"white\", \"linecolor\": \"white\", \"ticks\": \"\", \"zerolinecolor\": \"white\", \"zerolinewidth\": 2}}}, \"title\": {\"text\": \"Recall Scenario A - 10 participants, all questions\"}},\n",
       "                        {\"responsive\": true}\n",
       "                    ).then(function(){\n",
       "                            \n",
       "var gd = document.getElementById('e2024d3f-757e-4d45-bd89-669c8705b214');\n",
       "var x = new MutationObserver(function (mutations, observer) {{\n",
       "        var display = window.getComputedStyle(gd).display;\n",
       "        if (!display || display === 'none') {{\n",
       "            console.log([gd, 'removed!']);\n",
       "            Plotly.purge(gd);\n",
       "            observer.disconnect();\n",
       "        }}\n",
       "}});\n",
       "\n",
       "// Listen for the removal of the full notebook cells\n",
       "var notebookContainer = gd.closest('#notebook-container');\n",
       "if (notebookContainer) {{\n",
       "    x.observe(notebookContainer, {childList: true});\n",
       "}}\n",
       "\n",
       "// Listen for the clearing of the current output cell\n",
       "var outputEl = gd.closest('.output');\n",
       "if (outputEl) {{\n",
       "    x.observe(outputEl, {childList: true});\n",
       "}}\n",
       "\n",
       "                        })\n",
       "                };\n",
       "                });\n",
       "            </script>\n",
       "        </div>"
      ]
     },
     "metadata": {},
     "output_type": "display_data"
    },
    {
     "data": {
      "application/vnd.plotly.v1+json": {
       "config": {
        "plotlyServerURL": "https://plot.ly"
       },
       "data": [
        {
         "boxpoints": "outliers",
         "line": {
          "color": "rgb(9,56,125)"
         },
         "marker": {
          "color": "rgb(9,56,125)"
         },
         "name": "top 5",
         "type": "box",
         "y": [
          0.2,
          0.1,
          0,
          0,
          0.1,
          0,
          0,
          0,
          0.2,
          0,
          0.1,
          0.1,
          0,
          0,
          0.1,
          0,
          0.1,
          0.1,
          0,
          0,
          0.2,
          0,
          0.1,
          0,
          0,
          0,
          0.1,
          0.1,
          0.1,
          0.1,
          0.1,
          0,
          0,
          0.1,
          0,
          0.2
         ]
        },
        {
         "boxpoints": "outliers",
         "line": {
          "color": "rgb(9,56,125)"
         },
         "marker": {
          "color": "rgb(9,56,125)"
         },
         "name": "top 10",
         "type": "box",
         "y": [
          0.3,
          0.2,
          0.2,
          0,
          0.3,
          0.1,
          0,
          0.2,
          0.4,
          0,
          0.1,
          0.2,
          0,
          0,
          0.2,
          0.1,
          0.1,
          0.1,
          0,
          0.1,
          0.2,
          0,
          0.2,
          0,
          0,
          0,
          0.1,
          0.1,
          0.1,
          0.2,
          0.2,
          0,
          0.1,
          0.1,
          0.1,
          0.2
         ]
        },
        {
         "boxpoints": "outliers",
         "line": {
          "color": "rgb(9,56,125)"
         },
         "marker": {
          "color": "rgb(9,56,125)"
         },
         "name": "top 15",
         "type": "box",
         "y": [
          0.3,
          0.2,
          0.2,
          0,
          0.4,
          0.1,
          0,
          0.2,
          0.4,
          0.2,
          0.1,
          0.2,
          0,
          0,
          0.3,
          0.1,
          0.1,
          0.1,
          0,
          0.1,
          0.3,
          0.1,
          0.2,
          0,
          0,
          0,
          0.1,
          0.1,
          0.1,
          0.3,
          0.2,
          0,
          0.1,
          0.2,
          0.1,
          0.2
         ]
        },
        {
         "boxpoints": "outliers",
         "line": {
          "color": "rgb(9,56,125)"
         },
         "marker": {
          "color": "rgb(9,56,125)"
         },
         "name": "top 20",
         "type": "box",
         "y": [
          0.3,
          0.2,
          0.2,
          0,
          0.4,
          0.1,
          0,
          0.2,
          0.4,
          0.2,
          0.1,
          0.2,
          0.1,
          0,
          0.4,
          0.2,
          0.1,
          0.2,
          0,
          0.1,
          0.3,
          0.1,
          0.3,
          0.1,
          0,
          0.1,
          0.1,
          0.2,
          0.1,
          0.3,
          0.2,
          0.1,
          0.1,
          0.2,
          0.1,
          0.3
         ]
        },
        {
         "boxpoints": "outliers",
         "line": {
          "color": "rgb(9,56,125)"
         },
         "marker": {
          "color": "rgb(9,56,125)"
         },
         "name": "top 25",
         "type": "box",
         "y": [
          0.3,
          0.2,
          0.3,
          0,
          0.4,
          0.1,
          0,
          0.2,
          0.4,
          0.2,
          0.1,
          0.3,
          0.1,
          0,
          0.4,
          0.2,
          0.2,
          0.2,
          0,
          0.1,
          0.4,
          0.3,
          0.3,
          0.1,
          0.1,
          0.1,
          0.1,
          0.2,
          0.1,
          0.4,
          0.2,
          0.2,
          0.2,
          0.2,
          0.1,
          0.3
         ]
        },
        {
         "boxpoints": "outliers",
         "line": {
          "color": "rgb(9,56,125)"
         },
         "marker": {
          "color": "rgb(9,56,125)"
         },
         "name": "top 30",
         "type": "box",
         "y": [
          0.4,
          0.2,
          0.4,
          0,
          0.4,
          0.1,
          0.1,
          0.2,
          0.4,
          0.2,
          0.2,
          0.3,
          0.1,
          0,
          0.4,
          0.3,
          0.2,
          0.2,
          0,
          0.1,
          0.4,
          0.3,
          0.3,
          0.1,
          0.1,
          0.1,
          0.1,
          0.2,
          0.2,
          0.5,
          0.2,
          0.2,
          0.2,
          0.2,
          0.1,
          0.3
         ]
        },
        {
         "boxpoints": "outliers",
         "line": {
          "color": "rgb(9,56,125)"
         },
         "marker": {
          "color": "rgb(9,56,125)"
         },
         "name": "top 35",
         "type": "box",
         "y": [
          0.4,
          0.2,
          0.4,
          0,
          0.4,
          0.1,
          0.1,
          0.3,
          0.4,
          0.3,
          0.3,
          0.4,
          0.1,
          0,
          0.4,
          0.3,
          0.3,
          0.2,
          0.1,
          0.1,
          0.5,
          0.3,
          0.4,
          0.1,
          0.1,
          0.2,
          0.2,
          0.2,
          0.2,
          0.5,
          0.2,
          0.2,
          0.2,
          0.2,
          0.1,
          0.3
         ]
        },
        {
         "boxpoints": "outliers",
         "line": {
          "color": "rgb(9,56,125)"
         },
         "marker": {
          "color": "rgb(9,56,125)"
         },
         "name": "top 40",
         "type": "box",
         "y": [
          0.4,
          0.2,
          0.4,
          0,
          0.4,
          0.1,
          0.1,
          0.3,
          0.4,
          0.3,
          0.4,
          0.4,
          0.1,
          0,
          0.4,
          0.3,
          0.3,
          0.3,
          0.1,
          0.1,
          0.5,
          0.3,
          0.4,
          0.1,
          0.1,
          0.2,
          0.2,
          0.2,
          0.2,
          0.6,
          0.2,
          0.2,
          0.2,
          0.2,
          0.1,
          0.3
         ]
        },
        {
         "boxpoints": "outliers",
         "line": {
          "color": "rgb(9,56,125)"
         },
         "marker": {
          "color": "rgb(9,56,125)"
         },
         "name": "top 45",
         "type": "box",
         "y": [
          0.4,
          0.2,
          0.4,
          0,
          0.4,
          0.1,
          0.1,
          0.3,
          0.4,
          0.3,
          0.4,
          0.4,
          0.1,
          0,
          0.4,
          0.3,
          0.3,
          0.3,
          0.1,
          0.1,
          0.5,
          0.3,
          0.4,
          0.1,
          0.2,
          0.2,
          0.3,
          0.2,
          0.3,
          0.6,
          0.2,
          0.3,
          0.2,
          0.2,
          0.1,
          0.3
         ]
        },
        {
         "boxpoints": "outliers",
         "line": {
          "color": "rgb(9,56,125)"
         },
         "marker": {
          "color": "rgb(9,56,125)"
         },
         "name": "top 50",
         "type": "box",
         "y": [
          0.4,
          0.2,
          0.4,
          0,
          0.4,
          0.1,
          0.1,
          0.4,
          0.6,
          0.3,
          0.4,
          0.4,
          0.1,
          0,
          0.4,
          0.3,
          0.4,
          0.3,
          0.1,
          0.1,
          0.5,
          0.5,
          0.4,
          0.1,
          0.3,
          0.2,
          0.4,
          0.2,
          0.3,
          0.6,
          0.2,
          0.3,
          0.3,
          0.2,
          0.1,
          0.4
         ]
        },
        {
         "boxpoints": "outliers",
         "line": {
          "color": "rgb(9,56,125)"
         },
         "marker": {
          "color": "rgb(9,56,125)"
         },
         "name": "top 55",
         "type": "box",
         "y": [
          0.4,
          0.2,
          0.4,
          0.1,
          0.4,
          0.1,
          0.1,
          0.4,
          0.7,
          0.4,
          0.4,
          0.4,
          0.1,
          0,
          0.4,
          0.3,
          0.5,
          0.3,
          0.1,
          0.1,
          0.5,
          0.5,
          0.4,
          0.1,
          0.3,
          0.2,
          0.4,
          0.2,
          0.3,
          0.7,
          0.2,
          0.3,
          0.4,
          0.2,
          0.2,
          0.4
         ]
        },
        {
         "boxpoints": "outliers",
         "line": {
          "color": "rgb(9,56,125)"
         },
         "marker": {
          "color": "rgb(9,56,125)"
         },
         "name": "top 60",
         "type": "box",
         "y": [
          0.4,
          0.3,
          0.4,
          0.1,
          0.4,
          0.1,
          0.1,
          0.4,
          0.7,
          0.4,
          0.4,
          0.4,
          0.1,
          0,
          0.4,
          0.3,
          0.5,
          0.3,
          0.1,
          0.1,
          0.5,
          0.5,
          0.4,
          0.1,
          0.3,
          0.2,
          0.4,
          0.2,
          0.3,
          0.7,
          0.2,
          0.3,
          0.4,
          0.2,
          0.2,
          0.4
         ]
        },
        {
         "boxpoints": "outliers",
         "line": {
          "color": "rgb(9,56,125)"
         },
         "marker": {
          "color": "rgb(9,56,125)"
         },
         "name": "top 65",
         "type": "box",
         "y": [
          0.4,
          0.3,
          0.4,
          0.1,
          0.4,
          0.2,
          0.1,
          0.4,
          0.7,
          0.5,
          0.4,
          0.4,
          0.1,
          0,
          0.4,
          0.3,
          0.5,
          0.3,
          0.1,
          0.1,
          0.5,
          0.6,
          0.4,
          0.1,
          0.3,
          0.2,
          0.4,
          0.2,
          0.3,
          0.7,
          0.2,
          0.3,
          0.5,
          0.2,
          0.2,
          0.4
         ]
        },
        {
         "boxpoints": "outliers",
         "line": {
          "color": "rgb(9,56,125)"
         },
         "marker": {
          "color": "rgb(9,56,125)"
         },
         "name": "top 70",
         "type": "box",
         "y": [
          0.5,
          0.3,
          0.4,
          0.1,
          0.4,
          0.2,
          0.1,
          0.4,
          0.7,
          0.5,
          0.4,
          0.5,
          0.1,
          0,
          0.4,
          0.3,
          0.5,
          0.3,
          0.2,
          0.1,
          0.5,
          0.6,
          0.4,
          0.2,
          0.3,
          0.2,
          0.4,
          0.2,
          0.4,
          0.7,
          0.2,
          0.3,
          0.5,
          0.2,
          0.2,
          0.4
         ]
        },
        {
         "boxpoints": "outliers",
         "line": {
          "color": "rgb(9,56,125)"
         },
         "marker": {
          "color": "rgb(9,56,125)"
         },
         "name": "top 75",
         "type": "box",
         "y": [
          0.5,
          0.3,
          0.4,
          0.1,
          0.4,
          0.2,
          0.1,
          0.4,
          0.7,
          0.5,
          0.4,
          0.5,
          0.1,
          0,
          0.4,
          0.3,
          0.5,
          0.3,
          0.2,
          0.1,
          0.5,
          0.6,
          0.4,
          0.2,
          0.3,
          0.2,
          0.4,
          0.2,
          0.4,
          0.7,
          0.2,
          0.3,
          0.6,
          0.3,
          0.2,
          0.4
         ]
        },
        {
         "boxpoints": "outliers",
         "line": {
          "color": "rgb(9,56,125)"
         },
         "marker": {
          "color": "rgb(9,56,125)"
         },
         "name": "top 80",
         "type": "box",
         "y": [
          0.6,
          0.3,
          0.4,
          0.1,
          0.4,
          0.2,
          0.1,
          0.4,
          0.7,
          0.5,
          0.4,
          0.5,
          0.1,
          0,
          0.4,
          0.3,
          0.5,
          0.3,
          0.2,
          0.1,
          0.5,
          0.7,
          0.4,
          0.3,
          0.3,
          0.2,
          0.4,
          0.2,
          0.4,
          0.7,
          0.2,
          0.4,
          0.6,
          0.3,
          0.2,
          0.4
         ]
        },
        {
         "boxpoints": "outliers",
         "line": {
          "color": "rgb(9,56,125)"
         },
         "marker": {
          "color": "rgb(9,56,125)"
         },
         "name": "top 85",
         "type": "box",
         "y": [
          0.6,
          0.3,
          0.4,
          0.1,
          0.4,
          0.2,
          0.1,
          0.4,
          0.7,
          0.6,
          0.5,
          0.5,
          0.1,
          0,
          0.4,
          0.3,
          0.5,
          0.3,
          0.2,
          0.1,
          0.5,
          0.7,
          0.4,
          0.3,
          0.3,
          0.2,
          0.4,
          0.2,
          0.4,
          0.7,
          0.2,
          0.4,
          0.6,
          0.3,
          0.2,
          0.5
         ]
        },
        {
         "boxpoints": "outliers",
         "line": {
          "color": "rgb(9,56,125)"
         },
         "marker": {
          "color": "rgb(9,56,125)"
         },
         "name": "top 90",
         "type": "box",
         "y": [
          0.6,
          0.3,
          0.4,
          0.1,
          0.4,
          0.2,
          0.2,
          0.4,
          0.7,
          0.6,
          0.5,
          0.5,
          0.1,
          0,
          0.4,
          0.3,
          0.7,
          0.3,
          0.3,
          0.1,
          0.5,
          0.7,
          0.4,
          0.3,
          0.3,
          0.2,
          0.4,
          0.2,
          0.4,
          0.7,
          0.2,
          0.4,
          0.6,
          0.3,
          0.2,
          0.5
         ]
        },
        {
         "boxpoints": "outliers",
         "line": {
          "color": "rgb(9,56,125)"
         },
         "marker": {
          "color": "rgb(9,56,125)"
         },
         "name": "top 95",
         "type": "box",
         "y": [
          0.6,
          0.3,
          0.4,
          0.1,
          0.4,
          0.2,
          0.2,
          0.4,
          0.7,
          0.6,
          0.5,
          0.5,
          0.1,
          0,
          0.4,
          0.4,
          0.7,
          0.3,
          0.3,
          0.1,
          0.5,
          0.7,
          0.4,
          0.3,
          0.3,
          0.2,
          0.4,
          0.2,
          0.4,
          0.7,
          0.2,
          0.5,
          0.7,
          0.3,
          0.3,
          0.5
         ]
        },
        {
         "boxpoints": "outliers",
         "line": {
          "color": "rgb(9,56,125)"
         },
         "marker": {
          "color": "rgb(9,56,125)"
         },
         "name": "top 100",
         "type": "box",
         "y": [
          0.6,
          0.3,
          0.4,
          0.1,
          0.4,
          0.2,
          0.2,
          0.4,
          0.7,
          0.6,
          0.5,
          0.5,
          0.1,
          0,
          0.4,
          0.4,
          0.7,
          0.3,
          0.3,
          0.1,
          0.5,
          0.7,
          0.4,
          0.3,
          0.3,
          0.2,
          0.4,
          0.2,
          0.4,
          0.7,
          0.2,
          0.5,
          0.7,
          0.3,
          0.3,
          0.5
         ]
        }
       ],
       "layout": {
        "height": 500,
        "showlegend": false,
        "template": {
         "data": {
          "bar": [
           {
            "error_x": {
             "color": "#2a3f5f"
            },
            "error_y": {
             "color": "#2a3f5f"
            },
            "marker": {
             "line": {
              "color": "#E5ECF6",
              "width": 0.5
             }
            },
            "type": "bar"
           }
          ],
          "barpolar": [
           {
            "marker": {
             "line": {
              "color": "#E5ECF6",
              "width": 0.5
             }
            },
            "type": "barpolar"
           }
          ],
          "carpet": [
           {
            "aaxis": {
             "endlinecolor": "#2a3f5f",
             "gridcolor": "white",
             "linecolor": "white",
             "minorgridcolor": "white",
             "startlinecolor": "#2a3f5f"
            },
            "baxis": {
             "endlinecolor": "#2a3f5f",
             "gridcolor": "white",
             "linecolor": "white",
             "minorgridcolor": "white",
             "startlinecolor": "#2a3f5f"
            },
            "type": "carpet"
           }
          ],
          "choropleth": [
           {
            "colorbar": {
             "outlinewidth": 0,
             "ticks": ""
            },
            "type": "choropleth"
           }
          ],
          "contour": [
           {
            "colorbar": {
             "outlinewidth": 0,
             "ticks": ""
            },
            "colorscale": [
             [
              0,
              "#0d0887"
             ],
             [
              0.1111111111111111,
              "#46039f"
             ],
             [
              0.2222222222222222,
              "#7201a8"
             ],
             [
              0.3333333333333333,
              "#9c179e"
             ],
             [
              0.4444444444444444,
              "#bd3786"
             ],
             [
              0.5555555555555556,
              "#d8576b"
             ],
             [
              0.6666666666666666,
              "#ed7953"
             ],
             [
              0.7777777777777778,
              "#fb9f3a"
             ],
             [
              0.8888888888888888,
              "#fdca26"
             ],
             [
              1,
              "#f0f921"
             ]
            ],
            "type": "contour"
           }
          ],
          "contourcarpet": [
           {
            "colorbar": {
             "outlinewidth": 0,
             "ticks": ""
            },
            "type": "contourcarpet"
           }
          ],
          "heatmap": [
           {
            "colorbar": {
             "outlinewidth": 0,
             "ticks": ""
            },
            "colorscale": [
             [
              0,
              "#0d0887"
             ],
             [
              0.1111111111111111,
              "#46039f"
             ],
             [
              0.2222222222222222,
              "#7201a8"
             ],
             [
              0.3333333333333333,
              "#9c179e"
             ],
             [
              0.4444444444444444,
              "#bd3786"
             ],
             [
              0.5555555555555556,
              "#d8576b"
             ],
             [
              0.6666666666666666,
              "#ed7953"
             ],
             [
              0.7777777777777778,
              "#fb9f3a"
             ],
             [
              0.8888888888888888,
              "#fdca26"
             ],
             [
              1,
              "#f0f921"
             ]
            ],
            "type": "heatmap"
           }
          ],
          "heatmapgl": [
           {
            "colorbar": {
             "outlinewidth": 0,
             "ticks": ""
            },
            "colorscale": [
             [
              0,
              "#0d0887"
             ],
             [
              0.1111111111111111,
              "#46039f"
             ],
             [
              0.2222222222222222,
              "#7201a8"
             ],
             [
              0.3333333333333333,
              "#9c179e"
             ],
             [
              0.4444444444444444,
              "#bd3786"
             ],
             [
              0.5555555555555556,
              "#d8576b"
             ],
             [
              0.6666666666666666,
              "#ed7953"
             ],
             [
              0.7777777777777778,
              "#fb9f3a"
             ],
             [
              0.8888888888888888,
              "#fdca26"
             ],
             [
              1,
              "#f0f921"
             ]
            ],
            "type": "heatmapgl"
           }
          ],
          "histogram": [
           {
            "marker": {
             "colorbar": {
              "outlinewidth": 0,
              "ticks": ""
             }
            },
            "type": "histogram"
           }
          ],
          "histogram2d": [
           {
            "colorbar": {
             "outlinewidth": 0,
             "ticks": ""
            },
            "colorscale": [
             [
              0,
              "#0d0887"
             ],
             [
              0.1111111111111111,
              "#46039f"
             ],
             [
              0.2222222222222222,
              "#7201a8"
             ],
             [
              0.3333333333333333,
              "#9c179e"
             ],
             [
              0.4444444444444444,
              "#bd3786"
             ],
             [
              0.5555555555555556,
              "#d8576b"
             ],
             [
              0.6666666666666666,
              "#ed7953"
             ],
             [
              0.7777777777777778,
              "#fb9f3a"
             ],
             [
              0.8888888888888888,
              "#fdca26"
             ],
             [
              1,
              "#f0f921"
             ]
            ],
            "type": "histogram2d"
           }
          ],
          "histogram2dcontour": [
           {
            "colorbar": {
             "outlinewidth": 0,
             "ticks": ""
            },
            "colorscale": [
             [
              0,
              "#0d0887"
             ],
             [
              0.1111111111111111,
              "#46039f"
             ],
             [
              0.2222222222222222,
              "#7201a8"
             ],
             [
              0.3333333333333333,
              "#9c179e"
             ],
             [
              0.4444444444444444,
              "#bd3786"
             ],
             [
              0.5555555555555556,
              "#d8576b"
             ],
             [
              0.6666666666666666,
              "#ed7953"
             ],
             [
              0.7777777777777778,
              "#fb9f3a"
             ],
             [
              0.8888888888888888,
              "#fdca26"
             ],
             [
              1,
              "#f0f921"
             ]
            ],
            "type": "histogram2dcontour"
           }
          ],
          "mesh3d": [
           {
            "colorbar": {
             "outlinewidth": 0,
             "ticks": ""
            },
            "type": "mesh3d"
           }
          ],
          "parcoords": [
           {
            "line": {
             "colorbar": {
              "outlinewidth": 0,
              "ticks": ""
             }
            },
            "type": "parcoords"
           }
          ],
          "scatter": [
           {
            "marker": {
             "colorbar": {
              "outlinewidth": 0,
              "ticks": ""
             }
            },
            "type": "scatter"
           }
          ],
          "scatter3d": [
           {
            "line": {
             "colorbar": {
              "outlinewidth": 0,
              "ticks": ""
             }
            },
            "marker": {
             "colorbar": {
              "outlinewidth": 0,
              "ticks": ""
             }
            },
            "type": "scatter3d"
           }
          ],
          "scattercarpet": [
           {
            "marker": {
             "colorbar": {
              "outlinewidth": 0,
              "ticks": ""
             }
            },
            "type": "scattercarpet"
           }
          ],
          "scattergeo": [
           {
            "marker": {
             "colorbar": {
              "outlinewidth": 0,
              "ticks": ""
             }
            },
            "type": "scattergeo"
           }
          ],
          "scattergl": [
           {
            "marker": {
             "colorbar": {
              "outlinewidth": 0,
              "ticks": ""
             }
            },
            "type": "scattergl"
           }
          ],
          "scattermapbox": [
           {
            "marker": {
             "colorbar": {
              "outlinewidth": 0,
              "ticks": ""
             }
            },
            "type": "scattermapbox"
           }
          ],
          "scatterpolar": [
           {
            "marker": {
             "colorbar": {
              "outlinewidth": 0,
              "ticks": ""
             }
            },
            "type": "scatterpolar"
           }
          ],
          "scatterpolargl": [
           {
            "marker": {
             "colorbar": {
              "outlinewidth": 0,
              "ticks": ""
             }
            },
            "type": "scatterpolargl"
           }
          ],
          "scatterternary": [
           {
            "marker": {
             "colorbar": {
              "outlinewidth": 0,
              "ticks": ""
             }
            },
            "type": "scatterternary"
           }
          ],
          "surface": [
           {
            "colorbar": {
             "outlinewidth": 0,
             "ticks": ""
            },
            "colorscale": [
             [
              0,
              "#0d0887"
             ],
             [
              0.1111111111111111,
              "#46039f"
             ],
             [
              0.2222222222222222,
              "#7201a8"
             ],
             [
              0.3333333333333333,
              "#9c179e"
             ],
             [
              0.4444444444444444,
              "#bd3786"
             ],
             [
              0.5555555555555556,
              "#d8576b"
             ],
             [
              0.6666666666666666,
              "#ed7953"
             ],
             [
              0.7777777777777778,
              "#fb9f3a"
             ],
             [
              0.8888888888888888,
              "#fdca26"
             ],
             [
              1,
              "#f0f921"
             ]
            ],
            "type": "surface"
           }
          ],
          "table": [
           {
            "cells": {
             "fill": {
              "color": "#EBF0F8"
             },
             "line": {
              "color": "white"
             }
            },
            "header": {
             "fill": {
              "color": "#C8D4E3"
             },
             "line": {
              "color": "white"
             }
            },
            "type": "table"
           }
          ]
         },
         "layout": {
          "annotationdefaults": {
           "arrowcolor": "#2a3f5f",
           "arrowhead": 0,
           "arrowwidth": 1
          },
          "colorscale": {
           "diverging": [
            [
             0,
             "#8e0152"
            ],
            [
             0.1,
             "#c51b7d"
            ],
            [
             0.2,
             "#de77ae"
            ],
            [
             0.3,
             "#f1b6da"
            ],
            [
             0.4,
             "#fde0ef"
            ],
            [
             0.5,
             "#f7f7f7"
            ],
            [
             0.6,
             "#e6f5d0"
            ],
            [
             0.7,
             "#b8e186"
            ],
            [
             0.8,
             "#7fbc41"
            ],
            [
             0.9,
             "#4d9221"
            ],
            [
             1,
             "#276419"
            ]
           ],
           "sequential": [
            [
             0,
             "#0d0887"
            ],
            [
             0.1111111111111111,
             "#46039f"
            ],
            [
             0.2222222222222222,
             "#7201a8"
            ],
            [
             0.3333333333333333,
             "#9c179e"
            ],
            [
             0.4444444444444444,
             "#bd3786"
            ],
            [
             0.5555555555555556,
             "#d8576b"
            ],
            [
             0.6666666666666666,
             "#ed7953"
            ],
            [
             0.7777777777777778,
             "#fb9f3a"
            ],
            [
             0.8888888888888888,
             "#fdca26"
            ],
            [
             1,
             "#f0f921"
            ]
           ],
           "sequentialminus": [
            [
             0,
             "#0d0887"
            ],
            [
             0.1111111111111111,
             "#46039f"
            ],
            [
             0.2222222222222222,
             "#7201a8"
            ],
            [
             0.3333333333333333,
             "#9c179e"
            ],
            [
             0.4444444444444444,
             "#bd3786"
            ],
            [
             0.5555555555555556,
             "#d8576b"
            ],
            [
             0.6666666666666666,
             "#ed7953"
            ],
            [
             0.7777777777777778,
             "#fb9f3a"
            ],
            [
             0.8888888888888888,
             "#fdca26"
            ],
            [
             1,
             "#f0f921"
            ]
           ]
          },
          "colorway": [
           "#636efa",
           "#EF553B",
           "#00cc96",
           "#ab63fa",
           "#FFA15A",
           "#19d3f3",
           "#FF6692",
           "#B6E880",
           "#FF97FF",
           "#FECB52"
          ],
          "font": {
           "color": "#2a3f5f"
          },
          "geo": {
           "bgcolor": "white",
           "lakecolor": "white",
           "landcolor": "#E5ECF6",
           "showlakes": true,
           "showland": true,
           "subunitcolor": "white"
          },
          "hoverlabel": {
           "align": "left"
          },
          "hovermode": "closest",
          "mapbox": {
           "style": "light"
          },
          "paper_bgcolor": "white",
          "plot_bgcolor": "#E5ECF6",
          "polar": {
           "angularaxis": {
            "gridcolor": "white",
            "linecolor": "white",
            "ticks": ""
           },
           "bgcolor": "#E5ECF6",
           "radialaxis": {
            "gridcolor": "white",
            "linecolor": "white",
            "ticks": ""
           }
          },
          "scene": {
           "xaxis": {
            "backgroundcolor": "#E5ECF6",
            "gridcolor": "white",
            "gridwidth": 2,
            "linecolor": "white",
            "showbackground": true,
            "ticks": "",
            "zerolinecolor": "white"
           },
           "yaxis": {
            "backgroundcolor": "#E5ECF6",
            "gridcolor": "white",
            "gridwidth": 2,
            "linecolor": "white",
            "showbackground": true,
            "ticks": "",
            "zerolinecolor": "white"
           },
           "zaxis": {
            "backgroundcolor": "#E5ECF6",
            "gridcolor": "white",
            "gridwidth": 2,
            "linecolor": "white",
            "showbackground": true,
            "ticks": "",
            "zerolinecolor": "white"
           }
          },
          "shapedefaults": {
           "line": {
            "color": "#2a3f5f"
           }
          },
          "ternary": {
           "aaxis": {
            "gridcolor": "white",
            "linecolor": "white",
            "ticks": ""
           },
           "baxis": {
            "gridcolor": "white",
            "linecolor": "white",
            "ticks": ""
           },
           "bgcolor": "#E5ECF6",
           "caxis": {
            "gridcolor": "white",
            "linecolor": "white",
            "ticks": ""
           }
          },
          "title": {
           "x": 0.05
          },
          "xaxis": {
           "automargin": true,
           "gridcolor": "white",
           "linecolor": "white",
           "ticks": "",
           "zerolinecolor": "white",
           "zerolinewidth": 2
          },
          "yaxis": {
           "automargin": true,
           "gridcolor": "white",
           "linecolor": "white",
           "ticks": "",
           "zerolinecolor": "white",
           "zerolinewidth": 2
          }
         }
        },
        "title": {
         "text": "Recall Scenario B - 10 participants, all questions"
        }
       }
      },
      "text/html": [
       "<div>\n",
       "        \n",
       "        \n",
       "            <div id=\"d71d520d-83df-4eac-9268-e4ef3c41acc5\" class=\"plotly-graph-div\" style=\"height:500px; width:100%;\"></div>\n",
       "            <script type=\"text/javascript\">\n",
       "                require([\"plotly\"], function(Plotly) {\n",
       "                    window.PLOTLYENV=window.PLOTLYENV || {};\n",
       "                    \n",
       "                if (document.getElementById(\"d71d520d-83df-4eac-9268-e4ef3c41acc5\")) {\n",
       "                    Plotly.newPlot(\n",
       "                        'd71d520d-83df-4eac-9268-e4ef3c41acc5',\n",
       "                        [{\"boxpoints\": \"outliers\", \"line\": {\"color\": \"rgb(9,56,125)\"}, \"marker\": {\"color\": \"rgb(9,56,125)\"}, \"name\": \"top 5\", \"type\": \"box\", \"y\": [0.2, 0.1, 0.0, 0.0, 0.1, 0.0, 0.0, 0.0, 0.2, 0.0, 0.1, 0.1, 0.0, 0.0, 0.1, 0.0, 0.1, 0.1, 0.0, 0.0, 0.2, 0.0, 0.1, 0.0, 0.0, 0.0, 0.1, 0.1, 0.1, 0.1, 0.1, 0.0, 0.0, 0.1, 0.0, 0.2]}, {\"boxpoints\": \"outliers\", \"line\": {\"color\": \"rgb(9,56,125)\"}, \"marker\": {\"color\": \"rgb(9,56,125)\"}, \"name\": \"top 10\", \"type\": \"box\", \"y\": [0.3, 0.2, 0.2, 0.0, 0.3, 0.1, 0.0, 0.2, 0.4, 0.0, 0.1, 0.2, 0.0, 0.0, 0.2, 0.1, 0.1, 0.1, 0.0, 0.1, 0.2, 0.0, 0.2, 0.0, 0.0, 0.0, 0.1, 0.1, 0.1, 0.2, 0.2, 0.0, 0.1, 0.1, 0.1, 0.2]}, {\"boxpoints\": \"outliers\", \"line\": {\"color\": \"rgb(9,56,125)\"}, \"marker\": {\"color\": \"rgb(9,56,125)\"}, \"name\": \"top 15\", \"type\": \"box\", \"y\": [0.3, 0.2, 0.2, 0.0, 0.4, 0.1, 0.0, 0.2, 0.4, 0.2, 0.1, 0.2, 0.0, 0.0, 0.3, 0.1, 0.1, 0.1, 0.0, 0.1, 0.3, 0.1, 0.2, 0.0, 0.0, 0.0, 0.1, 0.1, 0.1, 0.3, 0.2, 0.0, 0.1, 0.2, 0.1, 0.2]}, {\"boxpoints\": \"outliers\", \"line\": {\"color\": \"rgb(9,56,125)\"}, \"marker\": {\"color\": \"rgb(9,56,125)\"}, \"name\": \"top 20\", \"type\": \"box\", \"y\": [0.3, 0.2, 0.2, 0.0, 0.4, 0.1, 0.0, 0.2, 0.4, 0.2, 0.1, 0.2, 0.1, 0.0, 0.4, 0.2, 0.1, 0.2, 0.0, 0.1, 0.3, 0.1, 0.3, 0.1, 0.0, 0.1, 0.1, 0.2, 0.1, 0.3, 0.2, 0.1, 0.1, 0.2, 0.1, 0.3]}, {\"boxpoints\": \"outliers\", \"line\": {\"color\": \"rgb(9,56,125)\"}, \"marker\": {\"color\": \"rgb(9,56,125)\"}, \"name\": \"top 25\", \"type\": \"box\", \"y\": [0.3, 0.2, 0.3, 0.0, 0.4, 0.1, 0.0, 0.2, 0.4, 0.2, 0.1, 0.3, 0.1, 0.0, 0.4, 0.2, 0.2, 0.2, 0.0, 0.1, 0.4, 0.3, 0.3, 0.1, 0.1, 0.1, 0.1, 0.2, 0.1, 0.4, 0.2, 0.2, 0.2, 0.2, 0.1, 0.3]}, {\"boxpoints\": \"outliers\", \"line\": {\"color\": \"rgb(9,56,125)\"}, \"marker\": {\"color\": \"rgb(9,56,125)\"}, \"name\": \"top 30\", \"type\": \"box\", \"y\": [0.4, 0.2, 0.4, 0.0, 0.4, 0.1, 0.1, 0.2, 0.4, 0.2, 0.2, 0.3, 0.1, 0.0, 0.4, 0.3, 0.2, 0.2, 0.0, 0.1, 0.4, 0.3, 0.3, 0.1, 0.1, 0.1, 0.1, 0.2, 0.2, 0.5, 0.2, 0.2, 0.2, 0.2, 0.1, 0.3]}, {\"boxpoints\": \"outliers\", \"line\": {\"color\": \"rgb(9,56,125)\"}, \"marker\": {\"color\": \"rgb(9,56,125)\"}, \"name\": \"top 35\", \"type\": \"box\", \"y\": [0.4, 0.2, 0.4, 0.0, 0.4, 0.1, 0.1, 0.3, 0.4, 0.3, 0.3, 0.4, 0.1, 0.0, 0.4, 0.3, 0.3, 0.2, 0.1, 0.1, 0.5, 0.3, 0.4, 0.1, 0.1, 0.2, 0.2, 0.2, 0.2, 0.5, 0.2, 0.2, 0.2, 0.2, 0.1, 0.3]}, {\"boxpoints\": \"outliers\", \"line\": {\"color\": \"rgb(9,56,125)\"}, \"marker\": {\"color\": \"rgb(9,56,125)\"}, \"name\": \"top 40\", \"type\": \"box\", \"y\": [0.4, 0.2, 0.4, 0.0, 0.4, 0.1, 0.1, 0.3, 0.4, 0.3, 0.4, 0.4, 0.1, 0.0, 0.4, 0.3, 0.3, 0.3, 0.1, 0.1, 0.5, 0.3, 0.4, 0.1, 0.1, 0.2, 0.2, 0.2, 0.2, 0.6, 0.2, 0.2, 0.2, 0.2, 0.1, 0.3]}, {\"boxpoints\": \"outliers\", \"line\": {\"color\": \"rgb(9,56,125)\"}, \"marker\": {\"color\": \"rgb(9,56,125)\"}, \"name\": \"top 45\", \"type\": \"box\", \"y\": [0.4, 0.2, 0.4, 0.0, 0.4, 0.1, 0.1, 0.3, 0.4, 0.3, 0.4, 0.4, 0.1, 0.0, 0.4, 0.3, 0.3, 0.3, 0.1, 0.1, 0.5, 0.3, 0.4, 0.1, 0.2, 0.2, 0.3, 0.2, 0.3, 0.6, 0.2, 0.3, 0.2, 0.2, 0.1, 0.3]}, {\"boxpoints\": \"outliers\", \"line\": {\"color\": \"rgb(9,56,125)\"}, \"marker\": {\"color\": \"rgb(9,56,125)\"}, \"name\": \"top 50\", \"type\": \"box\", \"y\": [0.4, 0.2, 0.4, 0.0, 0.4, 0.1, 0.1, 0.4, 0.6, 0.3, 0.4, 0.4, 0.1, 0.0, 0.4, 0.3, 0.4, 0.3, 0.1, 0.1, 0.5, 0.5, 0.4, 0.1, 0.3, 0.2, 0.4, 0.2, 0.3, 0.6, 0.2, 0.3, 0.3, 0.2, 0.1, 0.4]}, {\"boxpoints\": \"outliers\", \"line\": {\"color\": \"rgb(9,56,125)\"}, \"marker\": {\"color\": \"rgb(9,56,125)\"}, \"name\": \"top 55\", \"type\": \"box\", \"y\": [0.4, 0.2, 0.4, 0.1, 0.4, 0.1, 0.1, 0.4, 0.7, 0.4, 0.4, 0.4, 0.1, 0.0, 0.4, 0.3, 0.5, 0.3, 0.1, 0.1, 0.5, 0.5, 0.4, 0.1, 0.3, 0.2, 0.4, 0.2, 0.3, 0.7, 0.2, 0.3, 0.4, 0.2, 0.2, 0.4]}, {\"boxpoints\": \"outliers\", \"line\": {\"color\": \"rgb(9,56,125)\"}, \"marker\": {\"color\": \"rgb(9,56,125)\"}, \"name\": \"top 60\", \"type\": \"box\", \"y\": [0.4, 0.3, 0.4, 0.1, 0.4, 0.1, 0.1, 0.4, 0.7, 0.4, 0.4, 0.4, 0.1, 0.0, 0.4, 0.3, 0.5, 0.3, 0.1, 0.1, 0.5, 0.5, 0.4, 0.1, 0.3, 0.2, 0.4, 0.2, 0.3, 0.7, 0.2, 0.3, 0.4, 0.2, 0.2, 0.4]}, {\"boxpoints\": \"outliers\", \"line\": {\"color\": \"rgb(9,56,125)\"}, \"marker\": {\"color\": \"rgb(9,56,125)\"}, \"name\": \"top 65\", \"type\": \"box\", \"y\": [0.4, 0.3, 0.4, 0.1, 0.4, 0.2, 0.1, 0.4, 0.7, 0.5, 0.4, 0.4, 0.1, 0.0, 0.4, 0.3, 0.5, 0.3, 0.1, 0.1, 0.5, 0.6, 0.4, 0.1, 0.3, 0.2, 0.4, 0.2, 0.3, 0.7, 0.2, 0.3, 0.5, 0.2, 0.2, 0.4]}, {\"boxpoints\": \"outliers\", \"line\": {\"color\": \"rgb(9,56,125)\"}, \"marker\": {\"color\": \"rgb(9,56,125)\"}, \"name\": \"top 70\", \"type\": \"box\", \"y\": [0.5, 0.3, 0.4, 0.1, 0.4, 0.2, 0.1, 0.4, 0.7, 0.5, 0.4, 0.5, 0.1, 0.0, 0.4, 0.3, 0.5, 0.3, 0.2, 0.1, 0.5, 0.6, 0.4, 0.2, 0.3, 0.2, 0.4, 0.2, 0.4, 0.7, 0.2, 0.3, 0.5, 0.2, 0.2, 0.4]}, {\"boxpoints\": \"outliers\", \"line\": {\"color\": \"rgb(9,56,125)\"}, \"marker\": {\"color\": \"rgb(9,56,125)\"}, \"name\": \"top 75\", \"type\": \"box\", \"y\": [0.5, 0.3, 0.4, 0.1, 0.4, 0.2, 0.1, 0.4, 0.7, 0.5, 0.4, 0.5, 0.1, 0.0, 0.4, 0.3, 0.5, 0.3, 0.2, 0.1, 0.5, 0.6, 0.4, 0.2, 0.3, 0.2, 0.4, 0.2, 0.4, 0.7, 0.2, 0.3, 0.6, 0.3, 0.2, 0.4]}, {\"boxpoints\": \"outliers\", \"line\": {\"color\": \"rgb(9,56,125)\"}, \"marker\": {\"color\": \"rgb(9,56,125)\"}, \"name\": \"top 80\", \"type\": \"box\", \"y\": [0.6, 0.3, 0.4, 0.1, 0.4, 0.2, 0.1, 0.4, 0.7, 0.5, 0.4, 0.5, 0.1, 0.0, 0.4, 0.3, 0.5, 0.3, 0.2, 0.1, 0.5, 0.7, 0.4, 0.3, 0.3, 0.2, 0.4, 0.2, 0.4, 0.7, 0.2, 0.4, 0.6, 0.3, 0.2, 0.4]}, {\"boxpoints\": \"outliers\", \"line\": {\"color\": \"rgb(9,56,125)\"}, \"marker\": {\"color\": \"rgb(9,56,125)\"}, \"name\": \"top 85\", \"type\": \"box\", \"y\": [0.6, 0.3, 0.4, 0.1, 0.4, 0.2, 0.1, 0.4, 0.7, 0.6, 0.5, 0.5, 0.1, 0.0, 0.4, 0.3, 0.5, 0.3, 0.2, 0.1, 0.5, 0.7, 0.4, 0.3, 0.3, 0.2, 0.4, 0.2, 0.4, 0.7, 0.2, 0.4, 0.6, 0.3, 0.2, 0.5]}, {\"boxpoints\": \"outliers\", \"line\": {\"color\": \"rgb(9,56,125)\"}, \"marker\": {\"color\": \"rgb(9,56,125)\"}, \"name\": \"top 90\", \"type\": \"box\", \"y\": [0.6, 0.3, 0.4, 0.1, 0.4, 0.2, 0.2, 0.4, 0.7, 0.6, 0.5, 0.5, 0.1, 0.0, 0.4, 0.3, 0.7, 0.3, 0.3, 0.1, 0.5, 0.7, 0.4, 0.3, 0.3, 0.2, 0.4, 0.2, 0.4, 0.7, 0.2, 0.4, 0.6, 0.3, 0.2, 0.5]}, {\"boxpoints\": \"outliers\", \"line\": {\"color\": \"rgb(9,56,125)\"}, \"marker\": {\"color\": \"rgb(9,56,125)\"}, \"name\": \"top 95\", \"type\": \"box\", \"y\": [0.6, 0.3, 0.4, 0.1, 0.4, 0.2, 0.2, 0.4, 0.7, 0.6, 0.5, 0.5, 0.1, 0.0, 0.4, 0.4, 0.7, 0.3, 0.3, 0.1, 0.5, 0.7, 0.4, 0.3, 0.3, 0.2, 0.4, 0.2, 0.4, 0.7, 0.2, 0.5, 0.7, 0.3, 0.3, 0.5]}, {\"boxpoints\": \"outliers\", \"line\": {\"color\": \"rgb(9,56,125)\"}, \"marker\": {\"color\": \"rgb(9,56,125)\"}, \"name\": \"top 100\", \"type\": \"box\", \"y\": [0.6, 0.3, 0.4, 0.1, 0.4, 0.2, 0.2, 0.4, 0.7, 0.6, 0.5, 0.5, 0.1, 0.0, 0.4, 0.4, 0.7, 0.3, 0.3, 0.1, 0.5, 0.7, 0.4, 0.3, 0.3, 0.2, 0.4, 0.2, 0.4, 0.7, 0.2, 0.5, 0.7, 0.3, 0.3, 0.5]}],\n",
       "                        {\"height\": 500, \"showlegend\": false, \"template\": {\"data\": {\"bar\": [{\"error_x\": {\"color\": \"#2a3f5f\"}, \"error_y\": {\"color\": \"#2a3f5f\"}, \"marker\": {\"line\": {\"color\": \"#E5ECF6\", \"width\": 0.5}}, \"type\": \"bar\"}], \"barpolar\": [{\"marker\": {\"line\": {\"color\": \"#E5ECF6\", \"width\": 0.5}}, \"type\": \"barpolar\"}], \"carpet\": [{\"aaxis\": {\"endlinecolor\": \"#2a3f5f\", \"gridcolor\": \"white\", \"linecolor\": \"white\", \"minorgridcolor\": \"white\", \"startlinecolor\": \"#2a3f5f\"}, \"baxis\": {\"endlinecolor\": \"#2a3f5f\", \"gridcolor\": \"white\", \"linecolor\": \"white\", \"minorgridcolor\": \"white\", \"startlinecolor\": \"#2a3f5f\"}, \"type\": \"carpet\"}], \"choropleth\": [{\"colorbar\": {\"outlinewidth\": 0, \"ticks\": \"\"}, \"type\": \"choropleth\"}], \"contour\": [{\"colorbar\": {\"outlinewidth\": 0, \"ticks\": \"\"}, \"colorscale\": [[0.0, \"#0d0887\"], [0.1111111111111111, \"#46039f\"], [0.2222222222222222, \"#7201a8\"], [0.3333333333333333, \"#9c179e\"], [0.4444444444444444, \"#bd3786\"], [0.5555555555555556, \"#d8576b\"], [0.6666666666666666, \"#ed7953\"], [0.7777777777777778, \"#fb9f3a\"], [0.8888888888888888, \"#fdca26\"], [1.0, \"#f0f921\"]], \"type\": \"contour\"}], \"contourcarpet\": [{\"colorbar\": {\"outlinewidth\": 0, \"ticks\": \"\"}, \"type\": \"contourcarpet\"}], \"heatmap\": [{\"colorbar\": {\"outlinewidth\": 0, \"ticks\": \"\"}, \"colorscale\": [[0.0, \"#0d0887\"], [0.1111111111111111, \"#46039f\"], [0.2222222222222222, \"#7201a8\"], [0.3333333333333333, \"#9c179e\"], [0.4444444444444444, \"#bd3786\"], [0.5555555555555556, \"#d8576b\"], [0.6666666666666666, \"#ed7953\"], [0.7777777777777778, \"#fb9f3a\"], [0.8888888888888888, \"#fdca26\"], [1.0, \"#f0f921\"]], \"type\": \"heatmap\"}], \"heatmapgl\": [{\"colorbar\": {\"outlinewidth\": 0, \"ticks\": \"\"}, \"colorscale\": [[0.0, \"#0d0887\"], [0.1111111111111111, \"#46039f\"], [0.2222222222222222, \"#7201a8\"], [0.3333333333333333, \"#9c179e\"], [0.4444444444444444, \"#bd3786\"], [0.5555555555555556, \"#d8576b\"], [0.6666666666666666, \"#ed7953\"], [0.7777777777777778, \"#fb9f3a\"], [0.8888888888888888, \"#fdca26\"], [1.0, \"#f0f921\"]], \"type\": \"heatmapgl\"}], \"histogram\": [{\"marker\": {\"colorbar\": {\"outlinewidth\": 0, \"ticks\": \"\"}}, \"type\": \"histogram\"}], \"histogram2d\": [{\"colorbar\": {\"outlinewidth\": 0, \"ticks\": \"\"}, \"colorscale\": [[0.0, \"#0d0887\"], [0.1111111111111111, \"#46039f\"], [0.2222222222222222, \"#7201a8\"], [0.3333333333333333, \"#9c179e\"], [0.4444444444444444, \"#bd3786\"], [0.5555555555555556, \"#d8576b\"], [0.6666666666666666, \"#ed7953\"], [0.7777777777777778, \"#fb9f3a\"], [0.8888888888888888, \"#fdca26\"], [1.0, \"#f0f921\"]], \"type\": \"histogram2d\"}], \"histogram2dcontour\": [{\"colorbar\": {\"outlinewidth\": 0, \"ticks\": \"\"}, \"colorscale\": [[0.0, \"#0d0887\"], [0.1111111111111111, \"#46039f\"], [0.2222222222222222, \"#7201a8\"], [0.3333333333333333, \"#9c179e\"], [0.4444444444444444, \"#bd3786\"], [0.5555555555555556, \"#d8576b\"], [0.6666666666666666, \"#ed7953\"], [0.7777777777777778, \"#fb9f3a\"], [0.8888888888888888, \"#fdca26\"], [1.0, \"#f0f921\"]], \"type\": \"histogram2dcontour\"}], \"mesh3d\": [{\"colorbar\": {\"outlinewidth\": 0, \"ticks\": \"\"}, \"type\": \"mesh3d\"}], \"parcoords\": [{\"line\": {\"colorbar\": {\"outlinewidth\": 0, \"ticks\": \"\"}}, \"type\": \"parcoords\"}], \"scatter\": [{\"marker\": {\"colorbar\": {\"outlinewidth\": 0, \"ticks\": \"\"}}, \"type\": \"scatter\"}], \"scatter3d\": [{\"line\": {\"colorbar\": {\"outlinewidth\": 0, \"ticks\": \"\"}}, \"marker\": {\"colorbar\": {\"outlinewidth\": 0, \"ticks\": \"\"}}, \"type\": \"scatter3d\"}], \"scattercarpet\": [{\"marker\": {\"colorbar\": {\"outlinewidth\": 0, \"ticks\": \"\"}}, \"type\": \"scattercarpet\"}], \"scattergeo\": [{\"marker\": {\"colorbar\": {\"outlinewidth\": 0, \"ticks\": \"\"}}, \"type\": \"scattergeo\"}], \"scattergl\": [{\"marker\": {\"colorbar\": {\"outlinewidth\": 0, \"ticks\": \"\"}}, \"type\": \"scattergl\"}], \"scattermapbox\": [{\"marker\": {\"colorbar\": {\"outlinewidth\": 0, \"ticks\": \"\"}}, \"type\": \"scattermapbox\"}], \"scatterpolar\": [{\"marker\": {\"colorbar\": {\"outlinewidth\": 0, \"ticks\": \"\"}}, \"type\": \"scatterpolar\"}], \"scatterpolargl\": [{\"marker\": {\"colorbar\": {\"outlinewidth\": 0, \"ticks\": \"\"}}, \"type\": \"scatterpolargl\"}], \"scatterternary\": [{\"marker\": {\"colorbar\": {\"outlinewidth\": 0, \"ticks\": \"\"}}, \"type\": \"scatterternary\"}], \"surface\": [{\"colorbar\": {\"outlinewidth\": 0, \"ticks\": \"\"}, \"colorscale\": [[0.0, \"#0d0887\"], [0.1111111111111111, \"#46039f\"], [0.2222222222222222, \"#7201a8\"], [0.3333333333333333, \"#9c179e\"], [0.4444444444444444, \"#bd3786\"], [0.5555555555555556, \"#d8576b\"], [0.6666666666666666, \"#ed7953\"], [0.7777777777777778, \"#fb9f3a\"], [0.8888888888888888, \"#fdca26\"], [1.0, \"#f0f921\"]], \"type\": \"surface\"}], \"table\": [{\"cells\": {\"fill\": {\"color\": \"#EBF0F8\"}, \"line\": {\"color\": \"white\"}}, \"header\": {\"fill\": {\"color\": \"#C8D4E3\"}, \"line\": {\"color\": \"white\"}}, \"type\": \"table\"}]}, \"layout\": {\"annotationdefaults\": {\"arrowcolor\": \"#2a3f5f\", \"arrowhead\": 0, \"arrowwidth\": 1}, \"colorscale\": {\"diverging\": [[0, \"#8e0152\"], [0.1, \"#c51b7d\"], [0.2, \"#de77ae\"], [0.3, \"#f1b6da\"], [0.4, \"#fde0ef\"], [0.5, \"#f7f7f7\"], [0.6, \"#e6f5d0\"], [0.7, \"#b8e186\"], [0.8, \"#7fbc41\"], [0.9, \"#4d9221\"], [1, \"#276419\"]], \"sequential\": [[0.0, \"#0d0887\"], [0.1111111111111111, \"#46039f\"], [0.2222222222222222, \"#7201a8\"], [0.3333333333333333, \"#9c179e\"], [0.4444444444444444, \"#bd3786\"], [0.5555555555555556, \"#d8576b\"], [0.6666666666666666, \"#ed7953\"], [0.7777777777777778, \"#fb9f3a\"], [0.8888888888888888, \"#fdca26\"], [1.0, \"#f0f921\"]], \"sequentialminus\": [[0.0, \"#0d0887\"], [0.1111111111111111, \"#46039f\"], [0.2222222222222222, \"#7201a8\"], [0.3333333333333333, \"#9c179e\"], [0.4444444444444444, \"#bd3786\"], [0.5555555555555556, \"#d8576b\"], [0.6666666666666666, \"#ed7953\"], [0.7777777777777778, \"#fb9f3a\"], [0.8888888888888888, \"#fdca26\"], [1.0, \"#f0f921\"]]}, \"colorway\": [\"#636efa\", \"#EF553B\", \"#00cc96\", \"#ab63fa\", \"#FFA15A\", \"#19d3f3\", \"#FF6692\", \"#B6E880\", \"#FF97FF\", \"#FECB52\"], \"font\": {\"color\": \"#2a3f5f\"}, \"geo\": {\"bgcolor\": \"white\", \"lakecolor\": \"white\", \"landcolor\": \"#E5ECF6\", \"showlakes\": true, \"showland\": true, \"subunitcolor\": \"white\"}, \"hoverlabel\": {\"align\": \"left\"}, \"hovermode\": \"closest\", \"mapbox\": {\"style\": \"light\"}, \"paper_bgcolor\": \"white\", \"plot_bgcolor\": \"#E5ECF6\", \"polar\": {\"angularaxis\": {\"gridcolor\": \"white\", \"linecolor\": \"white\", \"ticks\": \"\"}, \"bgcolor\": \"#E5ECF6\", \"radialaxis\": {\"gridcolor\": \"white\", \"linecolor\": \"white\", \"ticks\": \"\"}}, \"scene\": {\"xaxis\": {\"backgroundcolor\": \"#E5ECF6\", \"gridcolor\": \"white\", \"gridwidth\": 2, \"linecolor\": \"white\", \"showbackground\": true, \"ticks\": \"\", \"zerolinecolor\": \"white\"}, \"yaxis\": {\"backgroundcolor\": \"#E5ECF6\", \"gridcolor\": \"white\", \"gridwidth\": 2, \"linecolor\": \"white\", \"showbackground\": true, \"ticks\": \"\", \"zerolinecolor\": \"white\"}, \"zaxis\": {\"backgroundcolor\": \"#E5ECF6\", \"gridcolor\": \"white\", \"gridwidth\": 2, \"linecolor\": \"white\", \"showbackground\": true, \"ticks\": \"\", \"zerolinecolor\": \"white\"}}, \"shapedefaults\": {\"line\": {\"color\": \"#2a3f5f\"}}, \"ternary\": {\"aaxis\": {\"gridcolor\": \"white\", \"linecolor\": \"white\", \"ticks\": \"\"}, \"baxis\": {\"gridcolor\": \"white\", \"linecolor\": \"white\", \"ticks\": \"\"}, \"bgcolor\": \"#E5ECF6\", \"caxis\": {\"gridcolor\": \"white\", \"linecolor\": \"white\", \"ticks\": \"\"}}, \"title\": {\"x\": 0.05}, \"xaxis\": {\"automargin\": true, \"gridcolor\": \"white\", \"linecolor\": \"white\", \"ticks\": \"\", \"zerolinecolor\": \"white\", \"zerolinewidth\": 2}, \"yaxis\": {\"automargin\": true, \"gridcolor\": \"white\", \"linecolor\": \"white\", \"ticks\": \"\", \"zerolinecolor\": \"white\", \"zerolinewidth\": 2}}}, \"title\": {\"text\": \"Recall Scenario B - 10 participants, all questions\"}},\n",
       "                        {\"responsive\": true}\n",
       "                    ).then(function(){\n",
       "                            \n",
       "var gd = document.getElementById('d71d520d-83df-4eac-9268-e4ef3c41acc5');\n",
       "var x = new MutationObserver(function (mutations, observer) {{\n",
       "        var display = window.getComputedStyle(gd).display;\n",
       "        if (!display || display === 'none') {{\n",
       "            console.log([gd, 'removed!']);\n",
       "            Plotly.purge(gd);\n",
       "            observer.disconnect();\n",
       "        }}\n",
       "}});\n",
       "\n",
       "// Listen for the removal of the full notebook cells\n",
       "var notebookContainer = gd.closest('#notebook-container');\n",
       "if (notebookContainer) {{\n",
       "    x.observe(notebookContainer, {childList: true});\n",
       "}}\n",
       "\n",
       "// Listen for the clearing of the current output cell\n",
       "var outputEl = gd.closest('.output');\n",
       "if (outputEl) {{\n",
       "    x.observe(outputEl, {childList: true});\n",
       "}}\n",
       "\n",
       "                        })\n",
       "                };\n",
       "                });\n",
       "            </script>\n",
       "        </div>"
      ]
     },
     "metadata": {},
     "output_type": "display_data"
    },
    {
     "data": {
      "application/vnd.plotly.v1+json": {
       "config": {
        "plotlyServerURL": "https://plot.ly"
       },
       "data": [
        {
         "boxpoints": "outliers",
         "line": {
          "color": "rgb(9,56,125)"
         },
         "marker": {
          "color": "rgb(9,56,125)"
         },
         "name": "top 5",
         "type": "box",
         "y": [
          0.2,
          0.1,
          0.2,
          0,
          0.2,
          0,
          0,
          0.1,
          0.2,
          0,
          0.1,
          0.1,
          0,
          0,
          0.2,
          0.1,
          0,
          0.1,
          0.1,
          0.1,
          0.1,
          0.1,
          0.2,
          0,
          0,
          0.1,
          0.1,
          0,
          0.1,
          0.1,
          0.2,
          0,
          0.1,
          0.1,
          0,
          0.2
         ]
        },
        {
         "boxpoints": "outliers",
         "line": {
          "color": "rgb(9,56,125)"
         },
         "marker": {
          "color": "rgb(9,56,125)"
         },
         "name": "top 10",
         "type": "box",
         "y": [
          0.3,
          0.2,
          0.5,
          0,
          0.3,
          0,
          0,
          0.1,
          0.3,
          0.1,
          0.2,
          0.3,
          0,
          0.1,
          0.3,
          0.3,
          0.2,
          0.1,
          0.1,
          0.1,
          0.3,
          0.1,
          0.2,
          0.1,
          0,
          0.1,
          0.1,
          0,
          0.2,
          0.2,
          0.2,
          0.1,
          0.1,
          0.1,
          0,
          0.2
         ]
        },
        {
         "boxpoints": "outliers",
         "line": {
          "color": "rgb(9,56,125)"
         },
         "marker": {
          "color": "rgb(9,56,125)"
         },
         "name": "top 15",
         "type": "box",
         "y": [
          0.4,
          0.2,
          0.6,
          0,
          0.3,
          0,
          0,
          0.3,
          0.3,
          0.1,
          0.3,
          0.4,
          0,
          0.1,
          0.3,
          0.3,
          0.3,
          0.2,
          0.1,
          0.1,
          0.4,
          0.2,
          0.2,
          0.1,
          0,
          0.1,
          0.1,
          0.1,
          0.2,
          0.3,
          0.2,
          0.1,
          0.2,
          0.2,
          0.1,
          0.2
         ]
        },
        {
         "boxpoints": "outliers",
         "line": {
          "color": "rgb(9,56,125)"
         },
         "marker": {
          "color": "rgb(9,56,125)"
         },
         "name": "top 20",
         "type": "box",
         "y": [
          0.5,
          0.2,
          0.6,
          0,
          0.3,
          0.1,
          0,
          0.3,
          0.4,
          0.1,
          0.3,
          0.4,
          0,
          0.1,
          0.3,
          0.5,
          0.5,
          0.2,
          0.2,
          0.1,
          0.4,
          0.2,
          0.3,
          0.1,
          0,
          0.4,
          0.1,
          0.2,
          0.2,
          0.3,
          0.2,
          0.1,
          0.4,
          0.3,
          0.1,
          0.3
         ]
        },
        {
         "boxpoints": "outliers",
         "line": {
          "color": "rgb(9,56,125)"
         },
         "marker": {
          "color": "rgb(9,56,125)"
         },
         "name": "top 25",
         "type": "box",
         "y": [
          0.6,
          0.2,
          0.7,
          0,
          0.4,
          0.1,
          0,
          0.4,
          0.4,
          0.2,
          0.4,
          0.6,
          0,
          0.1,
          0.4,
          0.6,
          0.6,
          0.2,
          0.2,
          0.1,
          0.4,
          0.2,
          0.4,
          0.1,
          0.1,
          0.4,
          0.1,
          0.4,
          0.4,
          0.4,
          0.2,
          0.2,
          0.4,
          0.3,
          0.2,
          0.4
         ]
        },
        {
         "boxpoints": "outliers",
         "line": {
          "color": "rgb(9,56,125)"
         },
         "marker": {
          "color": "rgb(9,56,125)"
         },
         "name": "top 30",
         "type": "box",
         "y": [
          0.6,
          0.2,
          0.7,
          0.1,
          0.4,
          0.1,
          0,
          0.4,
          0.4,
          0.3,
          0.4,
          0.6,
          0,
          0.2,
          0.4,
          0.6,
          0.6,
          0.3,
          0.2,
          0.1,
          0.5,
          0.2,
          0.4,
          0.1,
          0.1,
          0.4,
          0.1,
          0.9,
          0.5,
          0.5,
          0.2,
          0.2,
          0.4,
          0.4,
          0.2,
          0.4
         ]
        },
        {
         "boxpoints": "outliers",
         "line": {
          "color": "rgb(9,56,125)"
         },
         "marker": {
          "color": "rgb(9,56,125)"
         },
         "name": "top 35",
         "type": "box",
         "y": [
          0.6,
          0.2,
          1,
          0.1,
          0.5,
          0.1,
          0,
          0.4,
          0.4,
          0.3,
          0.4,
          0.7,
          0,
          0.7,
          0.4,
          0.8,
          0.6,
          0.4,
          0.3,
          0.1,
          0.5,
          0.2,
          0.4,
          0.1,
          0.2,
          0.4,
          0.2,
          1,
          0.6,
          0.5,
          0.2,
          0.3,
          0.5,
          0.4,
          0.2,
          0.4
         ]
        },
        {
         "boxpoints": "outliers",
         "line": {
          "color": "rgb(9,56,125)"
         },
         "marker": {
          "color": "rgb(9,56,125)"
         },
         "name": "top 40",
         "type": "box",
         "y": [
          0.7,
          0.2,
          1,
          0.1,
          0.5,
          0.2,
          0,
          0.4,
          0.4,
          0.5,
          0.4,
          0.7,
          0,
          1,
          0.4,
          1,
          0.7,
          0.4,
          0.3,
          0.1,
          0.5,
          0.2,
          0.4,
          0.1,
          0.2,
          0.4,
          0.2,
          1,
          0.6,
          0.6,
          0.2,
          0.4,
          0.6,
          0.4,
          0.3,
          0.5
         ]
        },
        {
         "boxpoints": "outliers",
         "line": {
          "color": "rgb(9,56,125)"
         },
         "marker": {
          "color": "rgb(9,56,125)"
         },
         "name": "top 45",
         "type": "box",
         "y": [
          0.7,
          0.2,
          1,
          0.1,
          0.5,
          0.3,
          0,
          0.4,
          0.5,
          0.5,
          0.4,
          0.7,
          0,
          1,
          0.4,
          1,
          0.7,
          0.4,
          0.3,
          0.1,
          0.5,
          0.3,
          0.4,
          0.1,
          0.2,
          0.4,
          0.2,
          1,
          0.6,
          0.8,
          0.2,
          0.4,
          0.6,
          0.5,
          0.3,
          0.5
         ]
        },
        {
         "boxpoints": "outliers",
         "line": {
          "color": "rgb(9,56,125)"
         },
         "marker": {
          "color": "rgb(9,56,125)"
         },
         "name": "top 50",
         "type": "box",
         "y": [
          0.7,
          0.3,
          1,
          0.1,
          0.5,
          0.3,
          0,
          0.4,
          0.5,
          0.5,
          0.5,
          0.8,
          0,
          1,
          0.4,
          1,
          0.7,
          0.4,
          0.3,
          0.1,
          0.5,
          0.3,
          0.4,
          0.1,
          0.2,
          0.4,
          0.3,
          1,
          0.6,
          0.8,
          0.2,
          0.4,
          0.6,
          0.5,
          0.3,
          0.5
         ]
        },
        {
         "boxpoints": "outliers",
         "line": {
          "color": "rgb(9,56,125)"
         },
         "marker": {
          "color": "rgb(9,56,125)"
         },
         "name": "top 55",
         "type": "box",
         "y": [
          0.7,
          0.3,
          1,
          0.1,
          0.5,
          0.3,
          0,
          0.5,
          0.5,
          0.5,
          0.5,
          0.9,
          0,
          1,
          0.4,
          1,
          0.7,
          0.4,
          0.3,
          0.1,
          0.5,
          0.3,
          0.4,
          0.1,
          0.3,
          0.4,
          0.3,
          1,
          0.6,
          0.8,
          0.3,
          0.4,
          0.6,
          0.5,
          0.5,
          0.5
         ]
        },
        {
         "boxpoints": "outliers",
         "line": {
          "color": "rgb(9,56,125)"
         },
         "marker": {
          "color": "rgb(9,56,125)"
         },
         "name": "top 60",
         "type": "box",
         "y": [
          0.7,
          0.3,
          1,
          0.1,
          0.5,
          0.3,
          0,
          0.5,
          0.6,
          0.5,
          0.5,
          0.9,
          0,
          1,
          0.4,
          1,
          0.7,
          0.4,
          0.3,
          0.1,
          0.5,
          0.4,
          0.4,
          0.1,
          0.3,
          0.4,
          0.3,
          1,
          0.6,
          0.8,
          0.3,
          0.4,
          0.6,
          0.5,
          0.5,
          0.5
         ]
        },
        {
         "boxpoints": "outliers",
         "line": {
          "color": "rgb(9,56,125)"
         },
         "marker": {
          "color": "rgb(9,56,125)"
         },
         "name": "top 65",
         "type": "box",
         "y": [
          0.7,
          0.3,
          1,
          0.1,
          0.6,
          0.3,
          0,
          0.5,
          0.6,
          0.5,
          0.5,
          0.9,
          0,
          1,
          0.4,
          1,
          0.7,
          0.4,
          0.3,
          0.1,
          0.5,
          0.5,
          0.4,
          0.1,
          0.3,
          0.4,
          0.3,
          1,
          0.6,
          0.8,
          0.3,
          0.4,
          0.6,
          0.5,
          0.5,
          0.5
         ]
        },
        {
         "boxpoints": "outliers",
         "line": {
          "color": "rgb(9,56,125)"
         },
         "marker": {
          "color": "rgb(9,56,125)"
         },
         "name": "top 70",
         "type": "box",
         "y": [
          0.7,
          0.4,
          1,
          0.1,
          0.6,
          0.4,
          0.1,
          0.5,
          0.6,
          0.5,
          0.5,
          0.9,
          0,
          1,
          0.4,
          1,
          0.7,
          0.4,
          0.3,
          0.1,
          0.5,
          0.5,
          0.4,
          0.1,
          0.3,
          0.4,
          0.4,
          1,
          0.6,
          0.8,
          0.3,
          0.5,
          0.7,
          0.5,
          0.5,
          0.5
         ]
        },
        {
         "boxpoints": "outliers",
         "line": {
          "color": "rgb(9,56,125)"
         },
         "marker": {
          "color": "rgb(9,56,125)"
         },
         "name": "top 75",
         "type": "box",
         "y": [
          0.7,
          0.4,
          1,
          0.1,
          0.7,
          0.4,
          0.2,
          0.5,
          0.8,
          0.5,
          0.5,
          0.9,
          0,
          1,
          0.4,
          1,
          0.9,
          0.4,
          0.3,
          0.1,
          0.5,
          0.6,
          0.4,
          0.1,
          0.3,
          0.4,
          0.4,
          1,
          0.6,
          0.8,
          0.3,
          0.5,
          0.7,
          0.6,
          0.5,
          0.5
         ]
        },
        {
         "boxpoints": "outliers",
         "line": {
          "color": "rgb(9,56,125)"
         },
         "marker": {
          "color": "rgb(9,56,125)"
         },
         "name": "top 80",
         "type": "box",
         "y": [
          0.7,
          0.4,
          1,
          0.1,
          0.7,
          0.4,
          0.2,
          0.5,
          0.8,
          0.5,
          0.5,
          0.9,
          0,
          1,
          0.4,
          1,
          1,
          0.4,
          0.3,
          0.1,
          0.5,
          0.6,
          0.4,
          0.1,
          0.3,
          0.4,
          0.4,
          1,
          0.6,
          0.8,
          0.3,
          0.5,
          0.7,
          0.6,
          0.5,
          0.5
         ]
        },
        {
         "boxpoints": "outliers",
         "line": {
          "color": "rgb(9,56,125)"
         },
         "marker": {
          "color": "rgb(9,56,125)"
         },
         "name": "top 85",
         "type": "box",
         "y": [
          0.7,
          0.5,
          1,
          0.1,
          0.7,
          0.4,
          0.2,
          0.5,
          0.8,
          0.5,
          0.5,
          0.9,
          0,
          1,
          0.4,
          1,
          1,
          0.4,
          0.3,
          0.1,
          0.5,
          0.7,
          0.4,
          0.2,
          0.3,
          0.4,
          0.4,
          1,
          0.6,
          0.8,
          0.4,
          0.6,
          0.7,
          0.6,
          0.5,
          0.6
         ]
        },
        {
         "boxpoints": "outliers",
         "line": {
          "color": "rgb(9,56,125)"
         },
         "marker": {
          "color": "rgb(9,56,125)"
         },
         "name": "top 90",
         "type": "box",
         "y": [
          0.7,
          0.5,
          1,
          0.2,
          0.7,
          0.5,
          0.2,
          0.5,
          0.8,
          0.5,
          0.6,
          0.9,
          0,
          1,
          0.4,
          1,
          1,
          0.4,
          0.3,
          0.1,
          0.5,
          0.7,
          0.4,
          0.2,
          0.3,
          0.4,
          0.4,
          1,
          0.6,
          0.8,
          0.4,
          0.6,
          0.7,
          0.6,
          0.5,
          0.6
         ]
        },
        {
         "boxpoints": "outliers",
         "line": {
          "color": "rgb(9,56,125)"
         },
         "marker": {
          "color": "rgb(9,56,125)"
         },
         "name": "top 95",
         "type": "box",
         "y": [
          0.7,
          0.5,
          1,
          0.2,
          0.7,
          0.5,
          0.2,
          0.5,
          0.8,
          0.5,
          0.6,
          0.9,
          0,
          1,
          0.5,
          1,
          1,
          0.4,
          0.3,
          0.1,
          0.5,
          0.7,
          0.4,
          0.2,
          0.3,
          0.8,
          0.4,
          1,
          0.6,
          0.8,
          0.4,
          0.6,
          0.7,
          0.6,
          0.5,
          0.6
         ]
        },
        {
         "boxpoints": "outliers",
         "line": {
          "color": "rgb(9,56,125)"
         },
         "marker": {
          "color": "rgb(9,56,125)"
         },
         "name": "top 100",
         "type": "box",
         "y": [
          0.7,
          0.5,
          1,
          0.2,
          0.7,
          0.5,
          0.2,
          0.5,
          0.8,
          0.5,
          0.6,
          0.9,
          0,
          1,
          0.5,
          1,
          1,
          0.4,
          0.3,
          0.1,
          0.5,
          0.7,
          0.4,
          0.2,
          0.3,
          1,
          0.4,
          1,
          0.6,
          0.8,
          0.4,
          0.6,
          0.7,
          0.6,
          0.5,
          0.6
         ]
        }
       ],
       "layout": {
        "height": 500,
        "showlegend": false,
        "template": {
         "data": {
          "bar": [
           {
            "error_x": {
             "color": "#2a3f5f"
            },
            "error_y": {
             "color": "#2a3f5f"
            },
            "marker": {
             "line": {
              "color": "#E5ECF6",
              "width": 0.5
             }
            },
            "type": "bar"
           }
          ],
          "barpolar": [
           {
            "marker": {
             "line": {
              "color": "#E5ECF6",
              "width": 0.5
             }
            },
            "type": "barpolar"
           }
          ],
          "carpet": [
           {
            "aaxis": {
             "endlinecolor": "#2a3f5f",
             "gridcolor": "white",
             "linecolor": "white",
             "minorgridcolor": "white",
             "startlinecolor": "#2a3f5f"
            },
            "baxis": {
             "endlinecolor": "#2a3f5f",
             "gridcolor": "white",
             "linecolor": "white",
             "minorgridcolor": "white",
             "startlinecolor": "#2a3f5f"
            },
            "type": "carpet"
           }
          ],
          "choropleth": [
           {
            "colorbar": {
             "outlinewidth": 0,
             "ticks": ""
            },
            "type": "choropleth"
           }
          ],
          "contour": [
           {
            "colorbar": {
             "outlinewidth": 0,
             "ticks": ""
            },
            "colorscale": [
             [
              0,
              "#0d0887"
             ],
             [
              0.1111111111111111,
              "#46039f"
             ],
             [
              0.2222222222222222,
              "#7201a8"
             ],
             [
              0.3333333333333333,
              "#9c179e"
             ],
             [
              0.4444444444444444,
              "#bd3786"
             ],
             [
              0.5555555555555556,
              "#d8576b"
             ],
             [
              0.6666666666666666,
              "#ed7953"
             ],
             [
              0.7777777777777778,
              "#fb9f3a"
             ],
             [
              0.8888888888888888,
              "#fdca26"
             ],
             [
              1,
              "#f0f921"
             ]
            ],
            "type": "contour"
           }
          ],
          "contourcarpet": [
           {
            "colorbar": {
             "outlinewidth": 0,
             "ticks": ""
            },
            "type": "contourcarpet"
           }
          ],
          "heatmap": [
           {
            "colorbar": {
             "outlinewidth": 0,
             "ticks": ""
            },
            "colorscale": [
             [
              0,
              "#0d0887"
             ],
             [
              0.1111111111111111,
              "#46039f"
             ],
             [
              0.2222222222222222,
              "#7201a8"
             ],
             [
              0.3333333333333333,
              "#9c179e"
             ],
             [
              0.4444444444444444,
              "#bd3786"
             ],
             [
              0.5555555555555556,
              "#d8576b"
             ],
             [
              0.6666666666666666,
              "#ed7953"
             ],
             [
              0.7777777777777778,
              "#fb9f3a"
             ],
             [
              0.8888888888888888,
              "#fdca26"
             ],
             [
              1,
              "#f0f921"
             ]
            ],
            "type": "heatmap"
           }
          ],
          "heatmapgl": [
           {
            "colorbar": {
             "outlinewidth": 0,
             "ticks": ""
            },
            "colorscale": [
             [
              0,
              "#0d0887"
             ],
             [
              0.1111111111111111,
              "#46039f"
             ],
             [
              0.2222222222222222,
              "#7201a8"
             ],
             [
              0.3333333333333333,
              "#9c179e"
             ],
             [
              0.4444444444444444,
              "#bd3786"
             ],
             [
              0.5555555555555556,
              "#d8576b"
             ],
             [
              0.6666666666666666,
              "#ed7953"
             ],
             [
              0.7777777777777778,
              "#fb9f3a"
             ],
             [
              0.8888888888888888,
              "#fdca26"
             ],
             [
              1,
              "#f0f921"
             ]
            ],
            "type": "heatmapgl"
           }
          ],
          "histogram": [
           {
            "marker": {
             "colorbar": {
              "outlinewidth": 0,
              "ticks": ""
             }
            },
            "type": "histogram"
           }
          ],
          "histogram2d": [
           {
            "colorbar": {
             "outlinewidth": 0,
             "ticks": ""
            },
            "colorscale": [
             [
              0,
              "#0d0887"
             ],
             [
              0.1111111111111111,
              "#46039f"
             ],
             [
              0.2222222222222222,
              "#7201a8"
             ],
             [
              0.3333333333333333,
              "#9c179e"
             ],
             [
              0.4444444444444444,
              "#bd3786"
             ],
             [
              0.5555555555555556,
              "#d8576b"
             ],
             [
              0.6666666666666666,
              "#ed7953"
             ],
             [
              0.7777777777777778,
              "#fb9f3a"
             ],
             [
              0.8888888888888888,
              "#fdca26"
             ],
             [
              1,
              "#f0f921"
             ]
            ],
            "type": "histogram2d"
           }
          ],
          "histogram2dcontour": [
           {
            "colorbar": {
             "outlinewidth": 0,
             "ticks": ""
            },
            "colorscale": [
             [
              0,
              "#0d0887"
             ],
             [
              0.1111111111111111,
              "#46039f"
             ],
             [
              0.2222222222222222,
              "#7201a8"
             ],
             [
              0.3333333333333333,
              "#9c179e"
             ],
             [
              0.4444444444444444,
              "#bd3786"
             ],
             [
              0.5555555555555556,
              "#d8576b"
             ],
             [
              0.6666666666666666,
              "#ed7953"
             ],
             [
              0.7777777777777778,
              "#fb9f3a"
             ],
             [
              0.8888888888888888,
              "#fdca26"
             ],
             [
              1,
              "#f0f921"
             ]
            ],
            "type": "histogram2dcontour"
           }
          ],
          "mesh3d": [
           {
            "colorbar": {
             "outlinewidth": 0,
             "ticks": ""
            },
            "type": "mesh3d"
           }
          ],
          "parcoords": [
           {
            "line": {
             "colorbar": {
              "outlinewidth": 0,
              "ticks": ""
             }
            },
            "type": "parcoords"
           }
          ],
          "scatter": [
           {
            "marker": {
             "colorbar": {
              "outlinewidth": 0,
              "ticks": ""
             }
            },
            "type": "scatter"
           }
          ],
          "scatter3d": [
           {
            "line": {
             "colorbar": {
              "outlinewidth": 0,
              "ticks": ""
             }
            },
            "marker": {
             "colorbar": {
              "outlinewidth": 0,
              "ticks": ""
             }
            },
            "type": "scatter3d"
           }
          ],
          "scattercarpet": [
           {
            "marker": {
             "colorbar": {
              "outlinewidth": 0,
              "ticks": ""
             }
            },
            "type": "scattercarpet"
           }
          ],
          "scattergeo": [
           {
            "marker": {
             "colorbar": {
              "outlinewidth": 0,
              "ticks": ""
             }
            },
            "type": "scattergeo"
           }
          ],
          "scattergl": [
           {
            "marker": {
             "colorbar": {
              "outlinewidth": 0,
              "ticks": ""
             }
            },
            "type": "scattergl"
           }
          ],
          "scattermapbox": [
           {
            "marker": {
             "colorbar": {
              "outlinewidth": 0,
              "ticks": ""
             }
            },
            "type": "scattermapbox"
           }
          ],
          "scatterpolar": [
           {
            "marker": {
             "colorbar": {
              "outlinewidth": 0,
              "ticks": ""
             }
            },
            "type": "scatterpolar"
           }
          ],
          "scatterpolargl": [
           {
            "marker": {
             "colorbar": {
              "outlinewidth": 0,
              "ticks": ""
             }
            },
            "type": "scatterpolargl"
           }
          ],
          "scatterternary": [
           {
            "marker": {
             "colorbar": {
              "outlinewidth": 0,
              "ticks": ""
             }
            },
            "type": "scatterternary"
           }
          ],
          "surface": [
           {
            "colorbar": {
             "outlinewidth": 0,
             "ticks": ""
            },
            "colorscale": [
             [
              0,
              "#0d0887"
             ],
             [
              0.1111111111111111,
              "#46039f"
             ],
             [
              0.2222222222222222,
              "#7201a8"
             ],
             [
              0.3333333333333333,
              "#9c179e"
             ],
             [
              0.4444444444444444,
              "#bd3786"
             ],
             [
              0.5555555555555556,
              "#d8576b"
             ],
             [
              0.6666666666666666,
              "#ed7953"
             ],
             [
              0.7777777777777778,
              "#fb9f3a"
             ],
             [
              0.8888888888888888,
              "#fdca26"
             ],
             [
              1,
              "#f0f921"
             ]
            ],
            "type": "surface"
           }
          ],
          "table": [
           {
            "cells": {
             "fill": {
              "color": "#EBF0F8"
             },
             "line": {
              "color": "white"
             }
            },
            "header": {
             "fill": {
              "color": "#C8D4E3"
             },
             "line": {
              "color": "white"
             }
            },
            "type": "table"
           }
          ]
         },
         "layout": {
          "annotationdefaults": {
           "arrowcolor": "#2a3f5f",
           "arrowhead": 0,
           "arrowwidth": 1
          },
          "colorscale": {
           "diverging": [
            [
             0,
             "#8e0152"
            ],
            [
             0.1,
             "#c51b7d"
            ],
            [
             0.2,
             "#de77ae"
            ],
            [
             0.3,
             "#f1b6da"
            ],
            [
             0.4,
             "#fde0ef"
            ],
            [
             0.5,
             "#f7f7f7"
            ],
            [
             0.6,
             "#e6f5d0"
            ],
            [
             0.7,
             "#b8e186"
            ],
            [
             0.8,
             "#7fbc41"
            ],
            [
             0.9,
             "#4d9221"
            ],
            [
             1,
             "#276419"
            ]
           ],
           "sequential": [
            [
             0,
             "#0d0887"
            ],
            [
             0.1111111111111111,
             "#46039f"
            ],
            [
             0.2222222222222222,
             "#7201a8"
            ],
            [
             0.3333333333333333,
             "#9c179e"
            ],
            [
             0.4444444444444444,
             "#bd3786"
            ],
            [
             0.5555555555555556,
             "#d8576b"
            ],
            [
             0.6666666666666666,
             "#ed7953"
            ],
            [
             0.7777777777777778,
             "#fb9f3a"
            ],
            [
             0.8888888888888888,
             "#fdca26"
            ],
            [
             1,
             "#f0f921"
            ]
           ],
           "sequentialminus": [
            [
             0,
             "#0d0887"
            ],
            [
             0.1111111111111111,
             "#46039f"
            ],
            [
             0.2222222222222222,
             "#7201a8"
            ],
            [
             0.3333333333333333,
             "#9c179e"
            ],
            [
             0.4444444444444444,
             "#bd3786"
            ],
            [
             0.5555555555555556,
             "#d8576b"
            ],
            [
             0.6666666666666666,
             "#ed7953"
            ],
            [
             0.7777777777777778,
             "#fb9f3a"
            ],
            [
             0.8888888888888888,
             "#fdca26"
            ],
            [
             1,
             "#f0f921"
            ]
           ]
          },
          "colorway": [
           "#636efa",
           "#EF553B",
           "#00cc96",
           "#ab63fa",
           "#FFA15A",
           "#19d3f3",
           "#FF6692",
           "#B6E880",
           "#FF97FF",
           "#FECB52"
          ],
          "font": {
           "color": "#2a3f5f"
          },
          "geo": {
           "bgcolor": "white",
           "lakecolor": "white",
           "landcolor": "#E5ECF6",
           "showlakes": true,
           "showland": true,
           "subunitcolor": "white"
          },
          "hoverlabel": {
           "align": "left"
          },
          "hovermode": "closest",
          "mapbox": {
           "style": "light"
          },
          "paper_bgcolor": "white",
          "plot_bgcolor": "#E5ECF6",
          "polar": {
           "angularaxis": {
            "gridcolor": "white",
            "linecolor": "white",
            "ticks": ""
           },
           "bgcolor": "#E5ECF6",
           "radialaxis": {
            "gridcolor": "white",
            "linecolor": "white",
            "ticks": ""
           }
          },
          "scene": {
           "xaxis": {
            "backgroundcolor": "#E5ECF6",
            "gridcolor": "white",
            "gridwidth": 2,
            "linecolor": "white",
            "showbackground": true,
            "ticks": "",
            "zerolinecolor": "white"
           },
           "yaxis": {
            "backgroundcolor": "#E5ECF6",
            "gridcolor": "white",
            "gridwidth": 2,
            "linecolor": "white",
            "showbackground": true,
            "ticks": "",
            "zerolinecolor": "white"
           },
           "zaxis": {
            "backgroundcolor": "#E5ECF6",
            "gridcolor": "white",
            "gridwidth": 2,
            "linecolor": "white",
            "showbackground": true,
            "ticks": "",
            "zerolinecolor": "white"
           }
          },
          "shapedefaults": {
           "line": {
            "color": "#2a3f5f"
           }
          },
          "ternary": {
           "aaxis": {
            "gridcolor": "white",
            "linecolor": "white",
            "ticks": ""
           },
           "baxis": {
            "gridcolor": "white",
            "linecolor": "white",
            "ticks": ""
           },
           "bgcolor": "#E5ECF6",
           "caxis": {
            "gridcolor": "white",
            "linecolor": "white",
            "ticks": ""
           }
          },
          "title": {
           "x": 0.05
          },
          "xaxis": {
           "automargin": true,
           "gridcolor": "white",
           "linecolor": "white",
           "ticks": "",
           "zerolinecolor": "white",
           "zerolinewidth": 2
          },
          "yaxis": {
           "automargin": true,
           "gridcolor": "white",
           "linecolor": "white",
           "ticks": "",
           "zerolinecolor": "white",
           "zerolinewidth": 2
          }
         }
        },
        "title": {
         "text": "Recall Scenario C - 10 participants, all questions"
        }
       }
      },
      "text/html": [
       "<div>\n",
       "        \n",
       "        \n",
       "            <div id=\"2c543100-b894-43d4-8369-70ce17266488\" class=\"plotly-graph-div\" style=\"height:500px; width:100%;\"></div>\n",
       "            <script type=\"text/javascript\">\n",
       "                require([\"plotly\"], function(Plotly) {\n",
       "                    window.PLOTLYENV=window.PLOTLYENV || {};\n",
       "                    \n",
       "                if (document.getElementById(\"2c543100-b894-43d4-8369-70ce17266488\")) {\n",
       "                    Plotly.newPlot(\n",
       "                        '2c543100-b894-43d4-8369-70ce17266488',\n",
       "                        [{\"boxpoints\": \"outliers\", \"line\": {\"color\": \"rgb(9,56,125)\"}, \"marker\": {\"color\": \"rgb(9,56,125)\"}, \"name\": \"top 5\", \"type\": \"box\", \"y\": [0.2, 0.1, 0.2, 0.0, 0.2, 0.0, 0.0, 0.1, 0.2, 0.0, 0.1, 0.1, 0.0, 0.0, 0.2, 0.1, 0.0, 0.1, 0.1, 0.1, 0.1, 0.1, 0.2, 0.0, 0.0, 0.1, 0.1, 0.0, 0.1, 0.1, 0.2, 0.0, 0.1, 0.1, 0.0, 0.2]}, {\"boxpoints\": \"outliers\", \"line\": {\"color\": \"rgb(9,56,125)\"}, \"marker\": {\"color\": \"rgb(9,56,125)\"}, \"name\": \"top 10\", \"type\": \"box\", \"y\": [0.3, 0.2, 0.5, 0.0, 0.3, 0.0, 0.0, 0.1, 0.3, 0.1, 0.2, 0.3, 0.0, 0.1, 0.3, 0.3, 0.2, 0.1, 0.1, 0.1, 0.3, 0.1, 0.2, 0.1, 0.0, 0.1, 0.1, 0.0, 0.2, 0.2, 0.2, 0.1, 0.1, 0.1, 0.0, 0.2]}, {\"boxpoints\": \"outliers\", \"line\": {\"color\": \"rgb(9,56,125)\"}, \"marker\": {\"color\": \"rgb(9,56,125)\"}, \"name\": \"top 15\", \"type\": \"box\", \"y\": [0.4, 0.2, 0.6, 0.0, 0.3, 0.0, 0.0, 0.3, 0.3, 0.1, 0.3, 0.4, 0.0, 0.1, 0.3, 0.3, 0.3, 0.2, 0.1, 0.1, 0.4, 0.2, 0.2, 0.1, 0.0, 0.1, 0.1, 0.1, 0.2, 0.3, 0.2, 0.1, 0.2, 0.2, 0.1, 0.2]}, {\"boxpoints\": \"outliers\", \"line\": {\"color\": \"rgb(9,56,125)\"}, \"marker\": {\"color\": \"rgb(9,56,125)\"}, \"name\": \"top 20\", \"type\": \"box\", \"y\": [0.5, 0.2, 0.6, 0.0, 0.3, 0.1, 0.0, 0.3, 0.4, 0.1, 0.3, 0.4, 0.0, 0.1, 0.3, 0.5, 0.5, 0.2, 0.2, 0.1, 0.4, 0.2, 0.3, 0.1, 0.0, 0.4, 0.1, 0.2, 0.2, 0.3, 0.2, 0.1, 0.4, 0.3, 0.1, 0.3]}, {\"boxpoints\": \"outliers\", \"line\": {\"color\": \"rgb(9,56,125)\"}, \"marker\": {\"color\": \"rgb(9,56,125)\"}, \"name\": \"top 25\", \"type\": \"box\", \"y\": [0.6, 0.2, 0.7, 0.0, 0.4, 0.1, 0.0, 0.4, 0.4, 0.2, 0.4, 0.6, 0.0, 0.1, 0.4, 0.6, 0.6, 0.2, 0.2, 0.1, 0.4, 0.2, 0.4, 0.1, 0.1, 0.4, 0.1, 0.4, 0.4, 0.4, 0.2, 0.2, 0.4, 0.3, 0.2, 0.4]}, {\"boxpoints\": \"outliers\", \"line\": {\"color\": \"rgb(9,56,125)\"}, \"marker\": {\"color\": \"rgb(9,56,125)\"}, \"name\": \"top 30\", \"type\": \"box\", \"y\": [0.6, 0.2, 0.7, 0.1, 0.4, 0.1, 0.0, 0.4, 0.4, 0.3, 0.4, 0.6, 0.0, 0.2, 0.4, 0.6, 0.6, 0.3, 0.2, 0.1, 0.5, 0.2, 0.4, 0.1, 0.1, 0.4, 0.1, 0.9, 0.5, 0.5, 0.2, 0.2, 0.4, 0.4, 0.2, 0.4]}, {\"boxpoints\": \"outliers\", \"line\": {\"color\": \"rgb(9,56,125)\"}, \"marker\": {\"color\": \"rgb(9,56,125)\"}, \"name\": \"top 35\", \"type\": \"box\", \"y\": [0.6, 0.2, 1.0, 0.1, 0.5, 0.1, 0.0, 0.4, 0.4, 0.3, 0.4, 0.7, 0.0, 0.7, 0.4, 0.8, 0.6, 0.4, 0.3, 0.1, 0.5, 0.2, 0.4, 0.1, 0.2, 0.4, 0.2, 1.0, 0.6, 0.5, 0.2, 0.3, 0.5, 0.4, 0.2, 0.4]}, {\"boxpoints\": \"outliers\", \"line\": {\"color\": \"rgb(9,56,125)\"}, \"marker\": {\"color\": \"rgb(9,56,125)\"}, \"name\": \"top 40\", \"type\": \"box\", \"y\": [0.7, 0.2, 1.0, 0.1, 0.5, 0.2, 0.0, 0.4, 0.4, 0.5, 0.4, 0.7, 0.0, 1.0, 0.4, 1.0, 0.7, 0.4, 0.3, 0.1, 0.5, 0.2, 0.4, 0.1, 0.2, 0.4, 0.2, 1.0, 0.6, 0.6, 0.2, 0.4, 0.6, 0.4, 0.3, 0.5]}, {\"boxpoints\": \"outliers\", \"line\": {\"color\": \"rgb(9,56,125)\"}, \"marker\": {\"color\": \"rgb(9,56,125)\"}, \"name\": \"top 45\", \"type\": \"box\", \"y\": [0.7, 0.2, 1.0, 0.1, 0.5, 0.3, 0.0, 0.4, 0.5, 0.5, 0.4, 0.7, 0.0, 1.0, 0.4, 1.0, 0.7, 0.4, 0.3, 0.1, 0.5, 0.3, 0.4, 0.1, 0.2, 0.4, 0.2, 1.0, 0.6, 0.8, 0.2, 0.4, 0.6, 0.5, 0.3, 0.5]}, {\"boxpoints\": \"outliers\", \"line\": {\"color\": \"rgb(9,56,125)\"}, \"marker\": {\"color\": \"rgb(9,56,125)\"}, \"name\": \"top 50\", \"type\": \"box\", \"y\": [0.7, 0.3, 1.0, 0.1, 0.5, 0.3, 0.0, 0.4, 0.5, 0.5, 0.5, 0.8, 0.0, 1.0, 0.4, 1.0, 0.7, 0.4, 0.3, 0.1, 0.5, 0.3, 0.4, 0.1, 0.2, 0.4, 0.3, 1.0, 0.6, 0.8, 0.2, 0.4, 0.6, 0.5, 0.3, 0.5]}, {\"boxpoints\": \"outliers\", \"line\": {\"color\": \"rgb(9,56,125)\"}, \"marker\": {\"color\": \"rgb(9,56,125)\"}, \"name\": \"top 55\", \"type\": \"box\", \"y\": [0.7, 0.3, 1.0, 0.1, 0.5, 0.3, 0.0, 0.5, 0.5, 0.5, 0.5, 0.9, 0.0, 1.0, 0.4, 1.0, 0.7, 0.4, 0.3, 0.1, 0.5, 0.3, 0.4, 0.1, 0.3, 0.4, 0.3, 1.0, 0.6, 0.8, 0.3, 0.4, 0.6, 0.5, 0.5, 0.5]}, {\"boxpoints\": \"outliers\", \"line\": {\"color\": \"rgb(9,56,125)\"}, \"marker\": {\"color\": \"rgb(9,56,125)\"}, \"name\": \"top 60\", \"type\": \"box\", \"y\": [0.7, 0.3, 1.0, 0.1, 0.5, 0.3, 0.0, 0.5, 0.6, 0.5, 0.5, 0.9, 0.0, 1.0, 0.4, 1.0, 0.7, 0.4, 0.3, 0.1, 0.5, 0.4, 0.4, 0.1, 0.3, 0.4, 0.3, 1.0, 0.6, 0.8, 0.3, 0.4, 0.6, 0.5, 0.5, 0.5]}, {\"boxpoints\": \"outliers\", \"line\": {\"color\": \"rgb(9,56,125)\"}, \"marker\": {\"color\": \"rgb(9,56,125)\"}, \"name\": \"top 65\", \"type\": \"box\", \"y\": [0.7, 0.3, 1.0, 0.1, 0.6, 0.3, 0.0, 0.5, 0.6, 0.5, 0.5, 0.9, 0.0, 1.0, 0.4, 1.0, 0.7, 0.4, 0.3, 0.1, 0.5, 0.5, 0.4, 0.1, 0.3, 0.4, 0.3, 1.0, 0.6, 0.8, 0.3, 0.4, 0.6, 0.5, 0.5, 0.5]}, {\"boxpoints\": \"outliers\", \"line\": {\"color\": \"rgb(9,56,125)\"}, \"marker\": {\"color\": \"rgb(9,56,125)\"}, \"name\": \"top 70\", \"type\": \"box\", \"y\": [0.7, 0.4, 1.0, 0.1, 0.6, 0.4, 0.1, 0.5, 0.6, 0.5, 0.5, 0.9, 0.0, 1.0, 0.4, 1.0, 0.7, 0.4, 0.3, 0.1, 0.5, 0.5, 0.4, 0.1, 0.3, 0.4, 0.4, 1.0, 0.6, 0.8, 0.3, 0.5, 0.7, 0.5, 0.5, 0.5]}, {\"boxpoints\": \"outliers\", \"line\": {\"color\": \"rgb(9,56,125)\"}, \"marker\": {\"color\": \"rgb(9,56,125)\"}, \"name\": \"top 75\", \"type\": \"box\", \"y\": [0.7, 0.4, 1.0, 0.1, 0.7, 0.4, 0.2, 0.5, 0.8, 0.5, 0.5, 0.9, 0.0, 1.0, 0.4, 1.0, 0.9, 0.4, 0.3, 0.1, 0.5, 0.6, 0.4, 0.1, 0.3, 0.4, 0.4, 1.0, 0.6, 0.8, 0.3, 0.5, 0.7, 0.6, 0.5, 0.5]}, {\"boxpoints\": \"outliers\", \"line\": {\"color\": \"rgb(9,56,125)\"}, \"marker\": {\"color\": \"rgb(9,56,125)\"}, \"name\": \"top 80\", \"type\": \"box\", \"y\": [0.7, 0.4, 1.0, 0.1, 0.7, 0.4, 0.2, 0.5, 0.8, 0.5, 0.5, 0.9, 0.0, 1.0, 0.4, 1.0, 1.0, 0.4, 0.3, 0.1, 0.5, 0.6, 0.4, 0.1, 0.3, 0.4, 0.4, 1.0, 0.6, 0.8, 0.3, 0.5, 0.7, 0.6, 0.5, 0.5]}, {\"boxpoints\": \"outliers\", \"line\": {\"color\": \"rgb(9,56,125)\"}, \"marker\": {\"color\": \"rgb(9,56,125)\"}, \"name\": \"top 85\", \"type\": \"box\", \"y\": [0.7, 0.5, 1.0, 0.1, 0.7, 0.4, 0.2, 0.5, 0.8, 0.5, 0.5, 0.9, 0.0, 1.0, 0.4, 1.0, 1.0, 0.4, 0.3, 0.1, 0.5, 0.7, 0.4, 0.2, 0.3, 0.4, 0.4, 1.0, 0.6, 0.8, 0.4, 0.6, 0.7, 0.6, 0.5, 0.6]}, {\"boxpoints\": \"outliers\", \"line\": {\"color\": \"rgb(9,56,125)\"}, \"marker\": {\"color\": \"rgb(9,56,125)\"}, \"name\": \"top 90\", \"type\": \"box\", \"y\": [0.7, 0.5, 1.0, 0.2, 0.7, 0.5, 0.2, 0.5, 0.8, 0.5, 0.6, 0.9, 0.0, 1.0, 0.4, 1.0, 1.0, 0.4, 0.3, 0.1, 0.5, 0.7, 0.4, 0.2, 0.3, 0.4, 0.4, 1.0, 0.6, 0.8, 0.4, 0.6, 0.7, 0.6, 0.5, 0.6]}, {\"boxpoints\": \"outliers\", \"line\": {\"color\": \"rgb(9,56,125)\"}, \"marker\": {\"color\": \"rgb(9,56,125)\"}, \"name\": \"top 95\", \"type\": \"box\", \"y\": [0.7, 0.5, 1.0, 0.2, 0.7, 0.5, 0.2, 0.5, 0.8, 0.5, 0.6, 0.9, 0.0, 1.0, 0.5, 1.0, 1.0, 0.4, 0.3, 0.1, 0.5, 0.7, 0.4, 0.2, 0.3, 0.8, 0.4, 1.0, 0.6, 0.8, 0.4, 0.6, 0.7, 0.6, 0.5, 0.6]}, {\"boxpoints\": \"outliers\", \"line\": {\"color\": \"rgb(9,56,125)\"}, \"marker\": {\"color\": \"rgb(9,56,125)\"}, \"name\": \"top 100\", \"type\": \"box\", \"y\": [0.7, 0.5, 1.0, 0.2, 0.7, 0.5, 0.2, 0.5, 0.8, 0.5, 0.6, 0.9, 0.0, 1.0, 0.5, 1.0, 1.0, 0.4, 0.3, 0.1, 0.5, 0.7, 0.4, 0.2, 0.3, 1.0, 0.4, 1.0, 0.6, 0.8, 0.4, 0.6, 0.7, 0.6, 0.5, 0.6]}],\n",
       "                        {\"height\": 500, \"showlegend\": false, \"template\": {\"data\": {\"bar\": [{\"error_x\": {\"color\": \"#2a3f5f\"}, \"error_y\": {\"color\": \"#2a3f5f\"}, \"marker\": {\"line\": {\"color\": \"#E5ECF6\", \"width\": 0.5}}, \"type\": \"bar\"}], \"barpolar\": [{\"marker\": {\"line\": {\"color\": \"#E5ECF6\", \"width\": 0.5}}, \"type\": \"barpolar\"}], \"carpet\": [{\"aaxis\": {\"endlinecolor\": \"#2a3f5f\", \"gridcolor\": \"white\", \"linecolor\": \"white\", \"minorgridcolor\": \"white\", \"startlinecolor\": \"#2a3f5f\"}, \"baxis\": {\"endlinecolor\": \"#2a3f5f\", \"gridcolor\": \"white\", \"linecolor\": \"white\", \"minorgridcolor\": \"white\", \"startlinecolor\": \"#2a3f5f\"}, \"type\": \"carpet\"}], \"choropleth\": [{\"colorbar\": {\"outlinewidth\": 0, \"ticks\": \"\"}, \"type\": \"choropleth\"}], \"contour\": [{\"colorbar\": {\"outlinewidth\": 0, \"ticks\": \"\"}, \"colorscale\": [[0.0, \"#0d0887\"], [0.1111111111111111, \"#46039f\"], [0.2222222222222222, \"#7201a8\"], [0.3333333333333333, \"#9c179e\"], [0.4444444444444444, \"#bd3786\"], [0.5555555555555556, \"#d8576b\"], [0.6666666666666666, \"#ed7953\"], [0.7777777777777778, \"#fb9f3a\"], [0.8888888888888888, \"#fdca26\"], [1.0, \"#f0f921\"]], \"type\": \"contour\"}], \"contourcarpet\": [{\"colorbar\": {\"outlinewidth\": 0, \"ticks\": \"\"}, \"type\": \"contourcarpet\"}], \"heatmap\": [{\"colorbar\": {\"outlinewidth\": 0, \"ticks\": \"\"}, \"colorscale\": [[0.0, \"#0d0887\"], [0.1111111111111111, \"#46039f\"], [0.2222222222222222, \"#7201a8\"], [0.3333333333333333, \"#9c179e\"], [0.4444444444444444, \"#bd3786\"], [0.5555555555555556, \"#d8576b\"], [0.6666666666666666, \"#ed7953\"], [0.7777777777777778, \"#fb9f3a\"], [0.8888888888888888, \"#fdca26\"], [1.0, \"#f0f921\"]], \"type\": \"heatmap\"}], \"heatmapgl\": [{\"colorbar\": {\"outlinewidth\": 0, \"ticks\": \"\"}, \"colorscale\": [[0.0, \"#0d0887\"], [0.1111111111111111, \"#46039f\"], [0.2222222222222222, \"#7201a8\"], [0.3333333333333333, \"#9c179e\"], [0.4444444444444444, \"#bd3786\"], [0.5555555555555556, \"#d8576b\"], [0.6666666666666666, \"#ed7953\"], [0.7777777777777778, \"#fb9f3a\"], [0.8888888888888888, \"#fdca26\"], [1.0, \"#f0f921\"]], \"type\": \"heatmapgl\"}], \"histogram\": [{\"marker\": {\"colorbar\": {\"outlinewidth\": 0, \"ticks\": \"\"}}, \"type\": \"histogram\"}], \"histogram2d\": [{\"colorbar\": {\"outlinewidth\": 0, \"ticks\": \"\"}, \"colorscale\": [[0.0, \"#0d0887\"], [0.1111111111111111, \"#46039f\"], [0.2222222222222222, \"#7201a8\"], [0.3333333333333333, \"#9c179e\"], [0.4444444444444444, \"#bd3786\"], [0.5555555555555556, \"#d8576b\"], [0.6666666666666666, \"#ed7953\"], [0.7777777777777778, \"#fb9f3a\"], [0.8888888888888888, \"#fdca26\"], [1.0, \"#f0f921\"]], \"type\": \"histogram2d\"}], \"histogram2dcontour\": [{\"colorbar\": {\"outlinewidth\": 0, \"ticks\": \"\"}, \"colorscale\": [[0.0, \"#0d0887\"], [0.1111111111111111, \"#46039f\"], [0.2222222222222222, \"#7201a8\"], [0.3333333333333333, \"#9c179e\"], [0.4444444444444444, \"#bd3786\"], [0.5555555555555556, \"#d8576b\"], [0.6666666666666666, \"#ed7953\"], [0.7777777777777778, \"#fb9f3a\"], [0.8888888888888888, \"#fdca26\"], [1.0, \"#f0f921\"]], \"type\": \"histogram2dcontour\"}], \"mesh3d\": [{\"colorbar\": {\"outlinewidth\": 0, \"ticks\": \"\"}, \"type\": \"mesh3d\"}], \"parcoords\": [{\"line\": {\"colorbar\": {\"outlinewidth\": 0, \"ticks\": \"\"}}, \"type\": \"parcoords\"}], \"scatter\": [{\"marker\": {\"colorbar\": {\"outlinewidth\": 0, \"ticks\": \"\"}}, \"type\": \"scatter\"}], \"scatter3d\": [{\"line\": {\"colorbar\": {\"outlinewidth\": 0, \"ticks\": \"\"}}, \"marker\": {\"colorbar\": {\"outlinewidth\": 0, \"ticks\": \"\"}}, \"type\": \"scatter3d\"}], \"scattercarpet\": [{\"marker\": {\"colorbar\": {\"outlinewidth\": 0, \"ticks\": \"\"}}, \"type\": \"scattercarpet\"}], \"scattergeo\": [{\"marker\": {\"colorbar\": {\"outlinewidth\": 0, \"ticks\": \"\"}}, \"type\": \"scattergeo\"}], \"scattergl\": [{\"marker\": {\"colorbar\": {\"outlinewidth\": 0, \"ticks\": \"\"}}, \"type\": \"scattergl\"}], \"scattermapbox\": [{\"marker\": {\"colorbar\": {\"outlinewidth\": 0, \"ticks\": \"\"}}, \"type\": \"scattermapbox\"}], \"scatterpolar\": [{\"marker\": {\"colorbar\": {\"outlinewidth\": 0, \"ticks\": \"\"}}, \"type\": \"scatterpolar\"}], \"scatterpolargl\": [{\"marker\": {\"colorbar\": {\"outlinewidth\": 0, \"ticks\": \"\"}}, \"type\": \"scatterpolargl\"}], \"scatterternary\": [{\"marker\": {\"colorbar\": {\"outlinewidth\": 0, \"ticks\": \"\"}}, \"type\": \"scatterternary\"}], \"surface\": [{\"colorbar\": {\"outlinewidth\": 0, \"ticks\": \"\"}, \"colorscale\": [[0.0, \"#0d0887\"], [0.1111111111111111, \"#46039f\"], [0.2222222222222222, \"#7201a8\"], [0.3333333333333333, \"#9c179e\"], [0.4444444444444444, \"#bd3786\"], [0.5555555555555556, \"#d8576b\"], [0.6666666666666666, \"#ed7953\"], [0.7777777777777778, \"#fb9f3a\"], [0.8888888888888888, \"#fdca26\"], [1.0, \"#f0f921\"]], \"type\": \"surface\"}], \"table\": [{\"cells\": {\"fill\": {\"color\": \"#EBF0F8\"}, \"line\": {\"color\": \"white\"}}, \"header\": {\"fill\": {\"color\": \"#C8D4E3\"}, \"line\": {\"color\": \"white\"}}, \"type\": \"table\"}]}, \"layout\": {\"annotationdefaults\": {\"arrowcolor\": \"#2a3f5f\", \"arrowhead\": 0, \"arrowwidth\": 1}, \"colorscale\": {\"diverging\": [[0, \"#8e0152\"], [0.1, \"#c51b7d\"], [0.2, \"#de77ae\"], [0.3, \"#f1b6da\"], [0.4, \"#fde0ef\"], [0.5, \"#f7f7f7\"], [0.6, \"#e6f5d0\"], [0.7, \"#b8e186\"], [0.8, \"#7fbc41\"], [0.9, \"#4d9221\"], [1, \"#276419\"]], \"sequential\": [[0.0, \"#0d0887\"], [0.1111111111111111, \"#46039f\"], [0.2222222222222222, \"#7201a8\"], [0.3333333333333333, \"#9c179e\"], [0.4444444444444444, \"#bd3786\"], [0.5555555555555556, \"#d8576b\"], [0.6666666666666666, \"#ed7953\"], [0.7777777777777778, \"#fb9f3a\"], [0.8888888888888888, \"#fdca26\"], [1.0, \"#f0f921\"]], \"sequentialminus\": [[0.0, \"#0d0887\"], [0.1111111111111111, \"#46039f\"], [0.2222222222222222, \"#7201a8\"], [0.3333333333333333, \"#9c179e\"], [0.4444444444444444, \"#bd3786\"], [0.5555555555555556, \"#d8576b\"], [0.6666666666666666, \"#ed7953\"], [0.7777777777777778, \"#fb9f3a\"], [0.8888888888888888, \"#fdca26\"], [1.0, \"#f0f921\"]]}, \"colorway\": [\"#636efa\", \"#EF553B\", \"#00cc96\", \"#ab63fa\", \"#FFA15A\", \"#19d3f3\", \"#FF6692\", \"#B6E880\", \"#FF97FF\", \"#FECB52\"], \"font\": {\"color\": \"#2a3f5f\"}, \"geo\": {\"bgcolor\": \"white\", \"lakecolor\": \"white\", \"landcolor\": \"#E5ECF6\", \"showlakes\": true, \"showland\": true, \"subunitcolor\": \"white\"}, \"hoverlabel\": {\"align\": \"left\"}, \"hovermode\": \"closest\", \"mapbox\": {\"style\": \"light\"}, \"paper_bgcolor\": \"white\", \"plot_bgcolor\": \"#E5ECF6\", \"polar\": {\"angularaxis\": {\"gridcolor\": \"white\", \"linecolor\": \"white\", \"ticks\": \"\"}, \"bgcolor\": \"#E5ECF6\", \"radialaxis\": {\"gridcolor\": \"white\", \"linecolor\": \"white\", \"ticks\": \"\"}}, \"scene\": {\"xaxis\": {\"backgroundcolor\": \"#E5ECF6\", \"gridcolor\": \"white\", \"gridwidth\": 2, \"linecolor\": \"white\", \"showbackground\": true, \"ticks\": \"\", \"zerolinecolor\": \"white\"}, \"yaxis\": {\"backgroundcolor\": \"#E5ECF6\", \"gridcolor\": \"white\", \"gridwidth\": 2, \"linecolor\": \"white\", \"showbackground\": true, \"ticks\": \"\", \"zerolinecolor\": \"white\"}, \"zaxis\": {\"backgroundcolor\": \"#E5ECF6\", \"gridcolor\": \"white\", \"gridwidth\": 2, \"linecolor\": \"white\", \"showbackground\": true, \"ticks\": \"\", \"zerolinecolor\": \"white\"}}, \"shapedefaults\": {\"line\": {\"color\": \"#2a3f5f\"}}, \"ternary\": {\"aaxis\": {\"gridcolor\": \"white\", \"linecolor\": \"white\", \"ticks\": \"\"}, \"baxis\": {\"gridcolor\": \"white\", \"linecolor\": \"white\", \"ticks\": \"\"}, \"bgcolor\": \"#E5ECF6\", \"caxis\": {\"gridcolor\": \"white\", \"linecolor\": \"white\", \"ticks\": \"\"}}, \"title\": {\"x\": 0.05}, \"xaxis\": {\"automargin\": true, \"gridcolor\": \"white\", \"linecolor\": \"white\", \"ticks\": \"\", \"zerolinecolor\": \"white\", \"zerolinewidth\": 2}, \"yaxis\": {\"automargin\": true, \"gridcolor\": \"white\", \"linecolor\": \"white\", \"ticks\": \"\", \"zerolinecolor\": \"white\", \"zerolinewidth\": 2}}}, \"title\": {\"text\": \"Recall Scenario C - 10 participants, all questions\"}},\n",
       "                        {\"responsive\": true}\n",
       "                    ).then(function(){\n",
       "                            \n",
       "var gd = document.getElementById('2c543100-b894-43d4-8369-70ce17266488');\n",
       "var x = new MutationObserver(function (mutations, observer) {{\n",
       "        var display = window.getComputedStyle(gd).display;\n",
       "        if (!display || display === 'none') {{\n",
       "            console.log([gd, 'removed!']);\n",
       "            Plotly.purge(gd);\n",
       "            observer.disconnect();\n",
       "        }}\n",
       "}});\n",
       "\n",
       "// Listen for the removal of the full notebook cells\n",
       "var notebookContainer = gd.closest('#notebook-container');\n",
       "if (notebookContainer) {{\n",
       "    x.observe(notebookContainer, {childList: true});\n",
       "}}\n",
       "\n",
       "// Listen for the clearing of the current output cell\n",
       "var outputEl = gd.closest('.output');\n",
       "if (outputEl) {{\n",
       "    x.observe(outputEl, {childList: true});\n",
       "}}\n",
       "\n",
       "                        })\n",
       "                };\n",
       "                });\n",
       "            </script>\n",
       "        </div>"
      ]
     },
     "metadata": {},
     "output_type": "display_data"
    },
    {
     "data": {
      "application/vnd.plotly.v1+json": {
       "config": {
        "plotlyServerURL": "https://plot.ly"
       },
       "data": [
        {
         "boxpoints": "outliers",
         "line": {
          "color": "rgb(9,56,125)"
         },
         "marker": {
          "color": "rgb(9,56,125)"
         },
         "name": "top 5",
         "type": "box",
         "y": [
          0.2,
          0.2,
          0,
          0,
          0,
          0,
          0,
          0,
          0.3,
          0,
          0.1,
          0.2,
          0,
          0,
          0.1,
          0,
          0,
          0.1,
          0,
          0,
          0.1,
          0.1,
          0.1,
          0,
          0,
          0,
          0.1,
          0.1,
          0.1,
          0.1,
          0.1,
          0.1,
          0,
          0.1,
          0,
          0.1
         ]
        },
        {
         "boxpoints": "outliers",
         "line": {
          "color": "rgb(9,56,125)"
         },
         "marker": {
          "color": "rgb(9,56,125)"
         },
         "name": "top 10",
         "type": "box",
         "y": [
          0.3,
          0.2,
          0,
          0,
          0.2,
          0,
          0,
          0,
          0.3,
          0,
          0.2,
          0.3,
          0,
          0,
          0.1,
          0,
          0,
          0.1,
          0,
          0.1,
          0.4,
          0.1,
          0.2,
          0.1,
          0,
          0,
          0.1,
          0.1,
          0.3,
          0.1,
          0.2,
          0.1,
          0,
          0.1,
          0,
          0.2
         ]
        },
        {
         "boxpoints": "outliers",
         "line": {
          "color": "rgb(9,56,125)"
         },
         "marker": {
          "color": "rgb(9,56,125)"
         },
         "name": "top 15",
         "type": "box",
         "y": [
          0.3,
          0.2,
          0,
          0,
          0.3,
          0.1,
          0,
          0,
          0.3,
          0,
          0.2,
          0.3,
          0,
          0,
          0.1,
          0.1,
          0,
          0.1,
          0,
          0.1,
          0.4,
          0.1,
          0.2,
          0.1,
          0,
          0.1,
          0.1,
          0.1,
          0.3,
          0.1,
          0.2,
          0.1,
          0.1,
          0.1,
          0,
          0.2
         ]
        },
        {
         "boxpoints": "outliers",
         "line": {
          "color": "rgb(9,56,125)"
         },
         "marker": {
          "color": "rgb(9,56,125)"
         },
         "name": "top 20",
         "type": "box",
         "y": [
          0.3,
          0.2,
          0,
          0.2,
          0.4,
          0.2,
          0,
          0,
          0.3,
          0,
          0.3,
          0.4,
          0,
          0,
          0.2,
          0.2,
          0.1,
          0.1,
          0,
          0.1,
          0.4,
          0.1,
          0.3,
          0.1,
          0,
          0.1,
          0.1,
          0.1,
          0.3,
          0.2,
          0.2,
          0.1,
          0.1,
          0.2,
          0.1,
          0.2
         ]
        },
        {
         "boxpoints": "outliers",
         "line": {
          "color": "rgb(9,56,125)"
         },
         "marker": {
          "color": "rgb(9,56,125)"
         },
         "name": "top 25",
         "type": "box",
         "y": [
          0.3,
          0.2,
          0,
          0.2,
          0.5,
          0.2,
          0,
          0.2,
          0.4,
          0,
          0.4,
          0.4,
          0,
          0,
          0.2,
          0.2,
          0.1,
          0.1,
          0,
          0.1,
          0.4,
          0.1,
          0.3,
          0.1,
          0,
          0.1,
          0.1,
          0.2,
          0.4,
          0.4,
          0.2,
          0.1,
          0.1,
          0.3,
          0.1,
          0.2
         ]
        },
        {
         "boxpoints": "outliers",
         "line": {
          "color": "rgb(9,56,125)"
         },
         "marker": {
          "color": "rgb(9,56,125)"
         },
         "name": "top 30",
         "type": "box",
         "y": [
          0.3,
          0.2,
          0.1,
          0.2,
          0.5,
          0.2,
          0,
          0.3,
          0.4,
          0,
          0.4,
          0.4,
          0,
          0,
          0.2,
          0.2,
          0.1,
          0.1,
          0,
          0.1,
          0.4,
          0.1,
          0.3,
          0.1,
          0,
          0.1,
          0.1,
          0.2,
          0.4,
          0.4,
          0.2,
          0.1,
          0.2,
          0.3,
          0.2,
          0.2
         ]
        },
        {
         "boxpoints": "outliers",
         "line": {
          "color": "rgb(9,56,125)"
         },
         "marker": {
          "color": "rgb(9,56,125)"
         },
         "name": "top 35",
         "type": "box",
         "y": [
          0.4,
          0.2,
          0.1,
          0.2,
          0.5,
          0.2,
          0,
          0.3,
          0.4,
          0,
          0.4,
          0.4,
          0,
          0,
          0.2,
          0.2,
          0.1,
          0.1,
          0,
          0.1,
          0.4,
          0.1,
          0.3,
          0.1,
          0,
          0.1,
          0.1,
          0.2,
          0.5,
          0.4,
          0.2,
          0.1,
          0.3,
          0.4,
          0.2,
          0.2
         ]
        },
        {
         "boxpoints": "outliers",
         "line": {
          "color": "rgb(9,56,125)"
         },
         "marker": {
          "color": "rgb(9,56,125)"
         },
         "name": "top 40",
         "type": "box",
         "y": [
          0.5,
          0.2,
          0.1,
          0.2,
          0.5,
          0.2,
          0,
          0.3,
          0.4,
          0,
          0.4,
          0.4,
          0,
          0,
          0.2,
          0.2,
          0.2,
          0.1,
          0,
          0.1,
          0.4,
          0.2,
          0.3,
          0.1,
          0.1,
          0.2,
          0.1,
          0.2,
          0.6,
          0.5,
          0.2,
          0.2,
          0.3,
          0.4,
          0.2,
          0.2
         ]
        },
        {
         "boxpoints": "outliers",
         "line": {
          "color": "rgb(9,56,125)"
         },
         "marker": {
          "color": "rgb(9,56,125)"
         },
         "name": "top 45",
         "type": "box",
         "y": [
          0.5,
          0.2,
          0.2,
          0.3,
          0.5,
          0.2,
          0,
          0.4,
          0.4,
          0,
          0.4,
          0.4,
          0,
          0,
          0.2,
          0.2,
          0.2,
          0.1,
          0,
          0.1,
          0.4,
          0.2,
          0.3,
          0.1,
          0.1,
          0.2,
          0.1,
          0.2,
          0.7,
          0.5,
          0.2,
          0.2,
          0.3,
          0.4,
          0.2,
          0.2
         ]
        },
        {
         "boxpoints": "outliers",
         "line": {
          "color": "rgb(9,56,125)"
         },
         "marker": {
          "color": "rgb(9,56,125)"
         },
         "name": "top 50",
         "type": "box",
         "y": [
          0.5,
          0.2,
          0.3,
          0.3,
          0.6,
          0.2,
          0,
          0.4,
          0.4,
          0,
          0.4,
          0.4,
          0,
          0,
          0.2,
          0.2,
          0.3,
          0.1,
          0,
          0.1,
          0.4,
          0.2,
          0.3,
          0.1,
          0.1,
          0.2,
          0.1,
          0.2,
          0.7,
          0.5,
          0.2,
          0.2,
          0.4,
          0.4,
          0.2,
          0.3
         ]
        },
        {
         "boxpoints": "outliers",
         "line": {
          "color": "rgb(9,56,125)"
         },
         "marker": {
          "color": "rgb(9,56,125)"
         },
         "name": "top 55",
         "type": "box",
         "y": [
          0.6,
          0.2,
          0.4,
          0.3,
          0.6,
          0.2,
          0,
          0.4,
          0.5,
          0.1,
          0.4,
          0.5,
          0,
          0,
          0.3,
          0.2,
          0.3,
          0.1,
          0,
          0.1,
          0.4,
          0.2,
          0.3,
          0.1,
          0.1,
          0.2,
          0.1,
          0.2,
          0.7,
          0.5,
          0.2,
          0.2,
          0.4,
          0.4,
          0.2,
          0.4
         ]
        },
        {
         "boxpoints": "outliers",
         "line": {
          "color": "rgb(9,56,125)"
         },
         "marker": {
          "color": "rgb(9,56,125)"
         },
         "name": "top 60",
         "type": "box",
         "y": [
          0.7,
          0.3,
          0.4,
          0.3,
          0.6,
          0.3,
          0,
          0.4,
          0.6,
          0.1,
          0.4,
          0.5,
          0,
          0,
          0.3,
          0.2,
          0.3,
          0.1,
          0,
          0.1,
          0.4,
          0.2,
          0.3,
          0.1,
          0.1,
          0.2,
          0.1,
          0.3,
          0.7,
          0.5,
          0.3,
          0.2,
          0.5,
          0.5,
          0.2,
          0.5
         ]
        },
        {
         "boxpoints": "outliers",
         "line": {
          "color": "rgb(9,56,125)"
         },
         "marker": {
          "color": "rgb(9,56,125)"
         },
         "name": "top 65",
         "type": "box",
         "y": [
          0.7,
          0.3,
          0.5,
          0.3,
          0.6,
          0.3,
          0,
          0.4,
          0.6,
          0.1,
          0.5,
          0.6,
          0,
          0,
          0.3,
          0.4,
          0.3,
          0.1,
          0,
          0.1,
          0.4,
          0.2,
          0.3,
          0.1,
          0.1,
          0.2,
          0.3,
          0.3,
          0.7,
          0.5,
          0.3,
          0.2,
          0.5,
          0.5,
          0.2,
          0.5
         ]
        },
        {
         "boxpoints": "outliers",
         "line": {
          "color": "rgb(9,56,125)"
         },
         "marker": {
          "color": "rgb(9,56,125)"
         },
         "name": "top 70",
         "type": "box",
         "y": [
          0.7,
          0.3,
          0.5,
          0.3,
          0.6,
          0.3,
          0,
          0.4,
          0.6,
          0.1,
          0.5,
          0.6,
          0,
          0,
          0.4,
          0.4,
          0.3,
          0.1,
          0,
          0.1,
          0.4,
          0.2,
          0.3,
          0.1,
          0.1,
          0.2,
          0.3,
          0.3,
          0.7,
          0.5,
          0.3,
          0.3,
          0.5,
          0.5,
          0.3,
          0.5
         ]
        },
        {
         "boxpoints": "outliers",
         "line": {
          "color": "rgb(9,56,125)"
         },
         "marker": {
          "color": "rgb(9,56,125)"
         },
         "name": "top 75",
         "type": "box",
         "y": [
          0.7,
          0.3,
          0.5,
          0.3,
          0.6,
          0.3,
          0.1,
          0.5,
          0.6,
          0.1,
          0.5,
          0.6,
          0,
          0,
          0.4,
          0.4,
          0.3,
          0.1,
          0.2,
          0.1,
          0.4,
          0.2,
          0.3,
          0.1,
          0.1,
          0.2,
          0.4,
          0.4,
          0.7,
          0.6,
          0.3,
          0.3,
          0.5,
          0.5,
          0.3,
          0.5
         ]
        },
        {
         "boxpoints": "outliers",
         "line": {
          "color": "rgb(9,56,125)"
         },
         "marker": {
          "color": "rgb(9,56,125)"
         },
         "name": "top 80",
         "type": "box",
         "y": [
          0.7,
          0.3,
          0.5,
          0.3,
          0.6,
          0.3,
          0.1,
          0.5,
          0.6,
          0.1,
          0.5,
          0.6,
          0.1,
          0,
          0.4,
          0.4,
          0.3,
          0.1,
          0.2,
          0.1,
          0.4,
          0.4,
          0.3,
          0.1,
          0.1,
          0.2,
          0.4,
          0.4,
          0.7,
          0.7,
          0.4,
          0.3,
          0.5,
          0.6,
          0.3,
          0.5
         ]
        },
        {
         "boxpoints": "outliers",
         "line": {
          "color": "rgb(9,56,125)"
         },
         "marker": {
          "color": "rgb(9,56,125)"
         },
         "name": "top 85",
         "type": "box",
         "y": [
          0.7,
          0.3,
          0.5,
          0.3,
          0.6,
          0.3,
          0.1,
          0.5,
          0.6,
          0.3,
          0.6,
          0.7,
          0.1,
          0,
          0.4,
          0.4,
          0.3,
          0.1,
          0.2,
          0.1,
          0.4,
          0.4,
          0.3,
          0.1,
          0.1,
          0.2,
          0.4,
          0.4,
          0.7,
          0.7,
          0.4,
          0.4,
          0.5,
          0.6,
          0.3,
          0.5
         ]
        },
        {
         "boxpoints": "outliers",
         "line": {
          "color": "rgb(9,56,125)"
         },
         "marker": {
          "color": "rgb(9,56,125)"
         },
         "name": "top 90",
         "type": "box",
         "y": [
          0.7,
          0.3,
          0.5,
          0.3,
          0.6,
          0.3,
          0.1,
          0.5,
          0.6,
          0.4,
          0.6,
          0.7,
          0.1,
          0,
          0.4,
          0.4,
          0.3,
          0.1,
          0.2,
          0.1,
          0.5,
          0.4,
          0.4,
          0.1,
          0.1,
          0.2,
          0.4,
          0.4,
          0.7,
          0.7,
          0.4,
          0.4,
          0.5,
          0.6,
          0.3,
          0.6
         ]
        },
        {
         "boxpoints": "outliers",
         "line": {
          "color": "rgb(9,56,125)"
         },
         "marker": {
          "color": "rgb(9,56,125)"
         },
         "name": "top 95",
         "type": "box",
         "y": [
          0.7,
          0.3,
          0.5,
          0.3,
          0.6,
          0.3,
          0.1,
          0.5,
          0.8,
          0.4,
          0.6,
          0.7,
          0.1,
          0,
          0.4,
          0.4,
          0.3,
          0.1,
          0.2,
          0.1,
          0.5,
          0.4,
          0.4,
          0.1,
          0.1,
          0.2,
          0.4,
          0.4,
          0.8,
          0.7,
          0.4,
          0.5,
          0.6,
          0.6,
          0.4,
          0.6
         ]
        },
        {
         "boxpoints": "outliers",
         "line": {
          "color": "rgb(9,56,125)"
         },
         "marker": {
          "color": "rgb(9,56,125)"
         },
         "name": "top 100",
         "type": "box",
         "y": [
          0.7,
          0.3,
          0.5,
          0.3,
          0.6,
          0.3,
          0.1,
          0.5,
          0.8,
          0.4,
          0.6,
          0.7,
          0.1,
          0,
          0.4,
          0.4,
          0.3,
          0.2,
          0.2,
          0.1,
          0.5,
          0.4,
          0.4,
          0.1,
          0.1,
          0.2,
          0.4,
          0.4,
          0.8,
          0.7,
          0.4,
          0.5,
          0.6,
          0.6,
          0.4,
          0.6
         ]
        }
       ],
       "layout": {
        "height": 500,
        "showlegend": false,
        "template": {
         "data": {
          "bar": [
           {
            "error_x": {
             "color": "#2a3f5f"
            },
            "error_y": {
             "color": "#2a3f5f"
            },
            "marker": {
             "line": {
              "color": "#E5ECF6",
              "width": 0.5
             }
            },
            "type": "bar"
           }
          ],
          "barpolar": [
           {
            "marker": {
             "line": {
              "color": "#E5ECF6",
              "width": 0.5
             }
            },
            "type": "barpolar"
           }
          ],
          "carpet": [
           {
            "aaxis": {
             "endlinecolor": "#2a3f5f",
             "gridcolor": "white",
             "linecolor": "white",
             "minorgridcolor": "white",
             "startlinecolor": "#2a3f5f"
            },
            "baxis": {
             "endlinecolor": "#2a3f5f",
             "gridcolor": "white",
             "linecolor": "white",
             "minorgridcolor": "white",
             "startlinecolor": "#2a3f5f"
            },
            "type": "carpet"
           }
          ],
          "choropleth": [
           {
            "colorbar": {
             "outlinewidth": 0,
             "ticks": ""
            },
            "type": "choropleth"
           }
          ],
          "contour": [
           {
            "colorbar": {
             "outlinewidth": 0,
             "ticks": ""
            },
            "colorscale": [
             [
              0,
              "#0d0887"
             ],
             [
              0.1111111111111111,
              "#46039f"
             ],
             [
              0.2222222222222222,
              "#7201a8"
             ],
             [
              0.3333333333333333,
              "#9c179e"
             ],
             [
              0.4444444444444444,
              "#bd3786"
             ],
             [
              0.5555555555555556,
              "#d8576b"
             ],
             [
              0.6666666666666666,
              "#ed7953"
             ],
             [
              0.7777777777777778,
              "#fb9f3a"
             ],
             [
              0.8888888888888888,
              "#fdca26"
             ],
             [
              1,
              "#f0f921"
             ]
            ],
            "type": "contour"
           }
          ],
          "contourcarpet": [
           {
            "colorbar": {
             "outlinewidth": 0,
             "ticks": ""
            },
            "type": "contourcarpet"
           }
          ],
          "heatmap": [
           {
            "colorbar": {
             "outlinewidth": 0,
             "ticks": ""
            },
            "colorscale": [
             [
              0,
              "#0d0887"
             ],
             [
              0.1111111111111111,
              "#46039f"
             ],
             [
              0.2222222222222222,
              "#7201a8"
             ],
             [
              0.3333333333333333,
              "#9c179e"
             ],
             [
              0.4444444444444444,
              "#bd3786"
             ],
             [
              0.5555555555555556,
              "#d8576b"
             ],
             [
              0.6666666666666666,
              "#ed7953"
             ],
             [
              0.7777777777777778,
              "#fb9f3a"
             ],
             [
              0.8888888888888888,
              "#fdca26"
             ],
             [
              1,
              "#f0f921"
             ]
            ],
            "type": "heatmap"
           }
          ],
          "heatmapgl": [
           {
            "colorbar": {
             "outlinewidth": 0,
             "ticks": ""
            },
            "colorscale": [
             [
              0,
              "#0d0887"
             ],
             [
              0.1111111111111111,
              "#46039f"
             ],
             [
              0.2222222222222222,
              "#7201a8"
             ],
             [
              0.3333333333333333,
              "#9c179e"
             ],
             [
              0.4444444444444444,
              "#bd3786"
             ],
             [
              0.5555555555555556,
              "#d8576b"
             ],
             [
              0.6666666666666666,
              "#ed7953"
             ],
             [
              0.7777777777777778,
              "#fb9f3a"
             ],
             [
              0.8888888888888888,
              "#fdca26"
             ],
             [
              1,
              "#f0f921"
             ]
            ],
            "type": "heatmapgl"
           }
          ],
          "histogram": [
           {
            "marker": {
             "colorbar": {
              "outlinewidth": 0,
              "ticks": ""
             }
            },
            "type": "histogram"
           }
          ],
          "histogram2d": [
           {
            "colorbar": {
             "outlinewidth": 0,
             "ticks": ""
            },
            "colorscale": [
             [
              0,
              "#0d0887"
             ],
             [
              0.1111111111111111,
              "#46039f"
             ],
             [
              0.2222222222222222,
              "#7201a8"
             ],
             [
              0.3333333333333333,
              "#9c179e"
             ],
             [
              0.4444444444444444,
              "#bd3786"
             ],
             [
              0.5555555555555556,
              "#d8576b"
             ],
             [
              0.6666666666666666,
              "#ed7953"
             ],
             [
              0.7777777777777778,
              "#fb9f3a"
             ],
             [
              0.8888888888888888,
              "#fdca26"
             ],
             [
              1,
              "#f0f921"
             ]
            ],
            "type": "histogram2d"
           }
          ],
          "histogram2dcontour": [
           {
            "colorbar": {
             "outlinewidth": 0,
             "ticks": ""
            },
            "colorscale": [
             [
              0,
              "#0d0887"
             ],
             [
              0.1111111111111111,
              "#46039f"
             ],
             [
              0.2222222222222222,
              "#7201a8"
             ],
             [
              0.3333333333333333,
              "#9c179e"
             ],
             [
              0.4444444444444444,
              "#bd3786"
             ],
             [
              0.5555555555555556,
              "#d8576b"
             ],
             [
              0.6666666666666666,
              "#ed7953"
             ],
             [
              0.7777777777777778,
              "#fb9f3a"
             ],
             [
              0.8888888888888888,
              "#fdca26"
             ],
             [
              1,
              "#f0f921"
             ]
            ],
            "type": "histogram2dcontour"
           }
          ],
          "mesh3d": [
           {
            "colorbar": {
             "outlinewidth": 0,
             "ticks": ""
            },
            "type": "mesh3d"
           }
          ],
          "parcoords": [
           {
            "line": {
             "colorbar": {
              "outlinewidth": 0,
              "ticks": ""
             }
            },
            "type": "parcoords"
           }
          ],
          "scatter": [
           {
            "marker": {
             "colorbar": {
              "outlinewidth": 0,
              "ticks": ""
             }
            },
            "type": "scatter"
           }
          ],
          "scatter3d": [
           {
            "line": {
             "colorbar": {
              "outlinewidth": 0,
              "ticks": ""
             }
            },
            "marker": {
             "colorbar": {
              "outlinewidth": 0,
              "ticks": ""
             }
            },
            "type": "scatter3d"
           }
          ],
          "scattercarpet": [
           {
            "marker": {
             "colorbar": {
              "outlinewidth": 0,
              "ticks": ""
             }
            },
            "type": "scattercarpet"
           }
          ],
          "scattergeo": [
           {
            "marker": {
             "colorbar": {
              "outlinewidth": 0,
              "ticks": ""
             }
            },
            "type": "scattergeo"
           }
          ],
          "scattergl": [
           {
            "marker": {
             "colorbar": {
              "outlinewidth": 0,
              "ticks": ""
             }
            },
            "type": "scattergl"
           }
          ],
          "scattermapbox": [
           {
            "marker": {
             "colorbar": {
              "outlinewidth": 0,
              "ticks": ""
             }
            },
            "type": "scattermapbox"
           }
          ],
          "scatterpolar": [
           {
            "marker": {
             "colorbar": {
              "outlinewidth": 0,
              "ticks": ""
             }
            },
            "type": "scatterpolar"
           }
          ],
          "scatterpolargl": [
           {
            "marker": {
             "colorbar": {
              "outlinewidth": 0,
              "ticks": ""
             }
            },
            "type": "scatterpolargl"
           }
          ],
          "scatterternary": [
           {
            "marker": {
             "colorbar": {
              "outlinewidth": 0,
              "ticks": ""
             }
            },
            "type": "scatterternary"
           }
          ],
          "surface": [
           {
            "colorbar": {
             "outlinewidth": 0,
             "ticks": ""
            },
            "colorscale": [
             [
              0,
              "#0d0887"
             ],
             [
              0.1111111111111111,
              "#46039f"
             ],
             [
              0.2222222222222222,
              "#7201a8"
             ],
             [
              0.3333333333333333,
              "#9c179e"
             ],
             [
              0.4444444444444444,
              "#bd3786"
             ],
             [
              0.5555555555555556,
              "#d8576b"
             ],
             [
              0.6666666666666666,
              "#ed7953"
             ],
             [
              0.7777777777777778,
              "#fb9f3a"
             ],
             [
              0.8888888888888888,
              "#fdca26"
             ],
             [
              1,
              "#f0f921"
             ]
            ],
            "type": "surface"
           }
          ],
          "table": [
           {
            "cells": {
             "fill": {
              "color": "#EBF0F8"
             },
             "line": {
              "color": "white"
             }
            },
            "header": {
             "fill": {
              "color": "#C8D4E3"
             },
             "line": {
              "color": "white"
             }
            },
            "type": "table"
           }
          ]
         },
         "layout": {
          "annotationdefaults": {
           "arrowcolor": "#2a3f5f",
           "arrowhead": 0,
           "arrowwidth": 1
          },
          "colorscale": {
           "diverging": [
            [
             0,
             "#8e0152"
            ],
            [
             0.1,
             "#c51b7d"
            ],
            [
             0.2,
             "#de77ae"
            ],
            [
             0.3,
             "#f1b6da"
            ],
            [
             0.4,
             "#fde0ef"
            ],
            [
             0.5,
             "#f7f7f7"
            ],
            [
             0.6,
             "#e6f5d0"
            ],
            [
             0.7,
             "#b8e186"
            ],
            [
             0.8,
             "#7fbc41"
            ],
            [
             0.9,
             "#4d9221"
            ],
            [
             1,
             "#276419"
            ]
           ],
           "sequential": [
            [
             0,
             "#0d0887"
            ],
            [
             0.1111111111111111,
             "#46039f"
            ],
            [
             0.2222222222222222,
             "#7201a8"
            ],
            [
             0.3333333333333333,
             "#9c179e"
            ],
            [
             0.4444444444444444,
             "#bd3786"
            ],
            [
             0.5555555555555556,
             "#d8576b"
            ],
            [
             0.6666666666666666,
             "#ed7953"
            ],
            [
             0.7777777777777778,
             "#fb9f3a"
            ],
            [
             0.8888888888888888,
             "#fdca26"
            ],
            [
             1,
             "#f0f921"
            ]
           ],
           "sequentialminus": [
            [
             0,
             "#0d0887"
            ],
            [
             0.1111111111111111,
             "#46039f"
            ],
            [
             0.2222222222222222,
             "#7201a8"
            ],
            [
             0.3333333333333333,
             "#9c179e"
            ],
            [
             0.4444444444444444,
             "#bd3786"
            ],
            [
             0.5555555555555556,
             "#d8576b"
            ],
            [
             0.6666666666666666,
             "#ed7953"
            ],
            [
             0.7777777777777778,
             "#fb9f3a"
            ],
            [
             0.8888888888888888,
             "#fdca26"
            ],
            [
             1,
             "#f0f921"
            ]
           ]
          },
          "colorway": [
           "#636efa",
           "#EF553B",
           "#00cc96",
           "#ab63fa",
           "#FFA15A",
           "#19d3f3",
           "#FF6692",
           "#B6E880",
           "#FF97FF",
           "#FECB52"
          ],
          "font": {
           "color": "#2a3f5f"
          },
          "geo": {
           "bgcolor": "white",
           "lakecolor": "white",
           "landcolor": "#E5ECF6",
           "showlakes": true,
           "showland": true,
           "subunitcolor": "white"
          },
          "hoverlabel": {
           "align": "left"
          },
          "hovermode": "closest",
          "mapbox": {
           "style": "light"
          },
          "paper_bgcolor": "white",
          "plot_bgcolor": "#E5ECF6",
          "polar": {
           "angularaxis": {
            "gridcolor": "white",
            "linecolor": "white",
            "ticks": ""
           },
           "bgcolor": "#E5ECF6",
           "radialaxis": {
            "gridcolor": "white",
            "linecolor": "white",
            "ticks": ""
           }
          },
          "scene": {
           "xaxis": {
            "backgroundcolor": "#E5ECF6",
            "gridcolor": "white",
            "gridwidth": 2,
            "linecolor": "white",
            "showbackground": true,
            "ticks": "",
            "zerolinecolor": "white"
           },
           "yaxis": {
            "backgroundcolor": "#E5ECF6",
            "gridcolor": "white",
            "gridwidth": 2,
            "linecolor": "white",
            "showbackground": true,
            "ticks": "",
            "zerolinecolor": "white"
           },
           "zaxis": {
            "backgroundcolor": "#E5ECF6",
            "gridcolor": "white",
            "gridwidth": 2,
            "linecolor": "white",
            "showbackground": true,
            "ticks": "",
            "zerolinecolor": "white"
           }
          },
          "shapedefaults": {
           "line": {
            "color": "#2a3f5f"
           }
          },
          "ternary": {
           "aaxis": {
            "gridcolor": "white",
            "linecolor": "white",
            "ticks": ""
           },
           "baxis": {
            "gridcolor": "white",
            "linecolor": "white",
            "ticks": ""
           },
           "bgcolor": "#E5ECF6",
           "caxis": {
            "gridcolor": "white",
            "linecolor": "white",
            "ticks": ""
           }
          },
          "title": {
           "x": 0.05
          },
          "xaxis": {
           "automargin": true,
           "gridcolor": "white",
           "linecolor": "white",
           "ticks": "",
           "zerolinecolor": "white",
           "zerolinewidth": 2
          },
          "yaxis": {
           "automargin": true,
           "gridcolor": "white",
           "linecolor": "white",
           "ticks": "",
           "zerolinecolor": "white",
           "zerolinewidth": 2
          }
         }
        },
        "title": {
         "text": "Recall Scenario D - 10 participants, all questions"
        }
       }
      },
      "text/html": [
       "<div>\n",
       "        \n",
       "        \n",
       "            <div id=\"d9ae2837-7fe8-4d60-b42f-6c7c56f37ba0\" class=\"plotly-graph-div\" style=\"height:500px; width:100%;\"></div>\n",
       "            <script type=\"text/javascript\">\n",
       "                require([\"plotly\"], function(Plotly) {\n",
       "                    window.PLOTLYENV=window.PLOTLYENV || {};\n",
       "                    \n",
       "                if (document.getElementById(\"d9ae2837-7fe8-4d60-b42f-6c7c56f37ba0\")) {\n",
       "                    Plotly.newPlot(\n",
       "                        'd9ae2837-7fe8-4d60-b42f-6c7c56f37ba0',\n",
       "                        [{\"boxpoints\": \"outliers\", \"line\": {\"color\": \"rgb(9,56,125)\"}, \"marker\": {\"color\": \"rgb(9,56,125)\"}, \"name\": \"top 5\", \"type\": \"box\", \"y\": [0.2, 0.2, 0.0, 0.0, 0.0, 0.0, 0.0, 0.0, 0.3, 0.0, 0.1, 0.2, 0.0, 0.0, 0.1, 0.0, 0.0, 0.1, 0.0, 0.0, 0.1, 0.1, 0.1, 0.0, 0.0, 0.0, 0.1, 0.1, 0.1, 0.1, 0.1, 0.1, 0.0, 0.1, 0.0, 0.1]}, {\"boxpoints\": \"outliers\", \"line\": {\"color\": \"rgb(9,56,125)\"}, \"marker\": {\"color\": \"rgb(9,56,125)\"}, \"name\": \"top 10\", \"type\": \"box\", \"y\": [0.3, 0.2, 0.0, 0.0, 0.2, 0.0, 0.0, 0.0, 0.3, 0.0, 0.2, 0.3, 0.0, 0.0, 0.1, 0.0, 0.0, 0.1, 0.0, 0.1, 0.4, 0.1, 0.2, 0.1, 0.0, 0.0, 0.1, 0.1, 0.3, 0.1, 0.2, 0.1, 0.0, 0.1, 0.0, 0.2]}, {\"boxpoints\": \"outliers\", \"line\": {\"color\": \"rgb(9,56,125)\"}, \"marker\": {\"color\": \"rgb(9,56,125)\"}, \"name\": \"top 15\", \"type\": \"box\", \"y\": [0.3, 0.2, 0.0, 0.0, 0.3, 0.1, 0.0, 0.0, 0.3, 0.0, 0.2, 0.3, 0.0, 0.0, 0.1, 0.1, 0.0, 0.1, 0.0, 0.1, 0.4, 0.1, 0.2, 0.1, 0.0, 0.1, 0.1, 0.1, 0.3, 0.1, 0.2, 0.1, 0.1, 0.1, 0.0, 0.2]}, {\"boxpoints\": \"outliers\", \"line\": {\"color\": \"rgb(9,56,125)\"}, \"marker\": {\"color\": \"rgb(9,56,125)\"}, \"name\": \"top 20\", \"type\": \"box\", \"y\": [0.3, 0.2, 0.0, 0.2, 0.4, 0.2, 0.0, 0.0, 0.3, 0.0, 0.3, 0.4, 0.0, 0.0, 0.2, 0.2, 0.1, 0.1, 0.0, 0.1, 0.4, 0.1, 0.3, 0.1, 0.0, 0.1, 0.1, 0.1, 0.3, 0.2, 0.2, 0.1, 0.1, 0.2, 0.1, 0.2]}, {\"boxpoints\": \"outliers\", \"line\": {\"color\": \"rgb(9,56,125)\"}, \"marker\": {\"color\": \"rgb(9,56,125)\"}, \"name\": \"top 25\", \"type\": \"box\", \"y\": [0.3, 0.2, 0.0, 0.2, 0.5, 0.2, 0.0, 0.2, 0.4, 0.0, 0.4, 0.4, 0.0, 0.0, 0.2, 0.2, 0.1, 0.1, 0.0, 0.1, 0.4, 0.1, 0.3, 0.1, 0.0, 0.1, 0.1, 0.2, 0.4, 0.4, 0.2, 0.1, 0.1, 0.3, 0.1, 0.2]}, {\"boxpoints\": \"outliers\", \"line\": {\"color\": \"rgb(9,56,125)\"}, \"marker\": {\"color\": \"rgb(9,56,125)\"}, \"name\": \"top 30\", \"type\": \"box\", \"y\": [0.3, 0.2, 0.1, 0.2, 0.5, 0.2, 0.0, 0.3, 0.4, 0.0, 0.4, 0.4, 0.0, 0.0, 0.2, 0.2, 0.1, 0.1, 0.0, 0.1, 0.4, 0.1, 0.3, 0.1, 0.0, 0.1, 0.1, 0.2, 0.4, 0.4, 0.2, 0.1, 0.2, 0.3, 0.2, 0.2]}, {\"boxpoints\": \"outliers\", \"line\": {\"color\": \"rgb(9,56,125)\"}, \"marker\": {\"color\": \"rgb(9,56,125)\"}, \"name\": \"top 35\", \"type\": \"box\", \"y\": [0.4, 0.2, 0.1, 0.2, 0.5, 0.2, 0.0, 0.3, 0.4, 0.0, 0.4, 0.4, 0.0, 0.0, 0.2, 0.2, 0.1, 0.1, 0.0, 0.1, 0.4, 0.1, 0.3, 0.1, 0.0, 0.1, 0.1, 0.2, 0.5, 0.4, 0.2, 0.1, 0.3, 0.4, 0.2, 0.2]}, {\"boxpoints\": \"outliers\", \"line\": {\"color\": \"rgb(9,56,125)\"}, \"marker\": {\"color\": \"rgb(9,56,125)\"}, \"name\": \"top 40\", \"type\": \"box\", \"y\": [0.5, 0.2, 0.1, 0.2, 0.5, 0.2, 0.0, 0.3, 0.4, 0.0, 0.4, 0.4, 0.0, 0.0, 0.2, 0.2, 0.2, 0.1, 0.0, 0.1, 0.4, 0.2, 0.3, 0.1, 0.1, 0.2, 0.1, 0.2, 0.6, 0.5, 0.2, 0.2, 0.3, 0.4, 0.2, 0.2]}, {\"boxpoints\": \"outliers\", \"line\": {\"color\": \"rgb(9,56,125)\"}, \"marker\": {\"color\": \"rgb(9,56,125)\"}, \"name\": \"top 45\", \"type\": \"box\", \"y\": [0.5, 0.2, 0.2, 0.3, 0.5, 0.2, 0.0, 0.4, 0.4, 0.0, 0.4, 0.4, 0.0, 0.0, 0.2, 0.2, 0.2, 0.1, 0.0, 0.1, 0.4, 0.2, 0.3, 0.1, 0.1, 0.2, 0.1, 0.2, 0.7, 0.5, 0.2, 0.2, 0.3, 0.4, 0.2, 0.2]}, {\"boxpoints\": \"outliers\", \"line\": {\"color\": \"rgb(9,56,125)\"}, \"marker\": {\"color\": \"rgb(9,56,125)\"}, \"name\": \"top 50\", \"type\": \"box\", \"y\": [0.5, 0.2, 0.3, 0.3, 0.6, 0.2, 0.0, 0.4, 0.4, 0.0, 0.4, 0.4, 0.0, 0.0, 0.2, 0.2, 0.3, 0.1, 0.0, 0.1, 0.4, 0.2, 0.3, 0.1, 0.1, 0.2, 0.1, 0.2, 0.7, 0.5, 0.2, 0.2, 0.4, 0.4, 0.2, 0.3]}, {\"boxpoints\": \"outliers\", \"line\": {\"color\": \"rgb(9,56,125)\"}, \"marker\": {\"color\": \"rgb(9,56,125)\"}, \"name\": \"top 55\", \"type\": \"box\", \"y\": [0.6, 0.2, 0.4, 0.3, 0.6, 0.2, 0.0, 0.4, 0.5, 0.1, 0.4, 0.5, 0.0, 0.0, 0.3, 0.2, 0.3, 0.1, 0.0, 0.1, 0.4, 0.2, 0.3, 0.1, 0.1, 0.2, 0.1, 0.2, 0.7, 0.5, 0.2, 0.2, 0.4, 0.4, 0.2, 0.4]}, {\"boxpoints\": \"outliers\", \"line\": {\"color\": \"rgb(9,56,125)\"}, \"marker\": {\"color\": \"rgb(9,56,125)\"}, \"name\": \"top 60\", \"type\": \"box\", \"y\": [0.7, 0.3, 0.4, 0.3, 0.6, 0.3, 0.0, 0.4, 0.6, 0.1, 0.4, 0.5, 0.0, 0.0, 0.3, 0.2, 0.3, 0.1, 0.0, 0.1, 0.4, 0.2, 0.3, 0.1, 0.1, 0.2, 0.1, 0.3, 0.7, 0.5, 0.3, 0.2, 0.5, 0.5, 0.2, 0.5]}, {\"boxpoints\": \"outliers\", \"line\": {\"color\": \"rgb(9,56,125)\"}, \"marker\": {\"color\": \"rgb(9,56,125)\"}, \"name\": \"top 65\", \"type\": \"box\", \"y\": [0.7, 0.3, 0.5, 0.3, 0.6, 0.3, 0.0, 0.4, 0.6, 0.1, 0.5, 0.6, 0.0, 0.0, 0.3, 0.4, 0.3, 0.1, 0.0, 0.1, 0.4, 0.2, 0.3, 0.1, 0.1, 0.2, 0.3, 0.3, 0.7, 0.5, 0.3, 0.2, 0.5, 0.5, 0.2, 0.5]}, {\"boxpoints\": \"outliers\", \"line\": {\"color\": \"rgb(9,56,125)\"}, \"marker\": {\"color\": \"rgb(9,56,125)\"}, \"name\": \"top 70\", \"type\": \"box\", \"y\": [0.7, 0.3, 0.5, 0.3, 0.6, 0.3, 0.0, 0.4, 0.6, 0.1, 0.5, 0.6, 0.0, 0.0, 0.4, 0.4, 0.3, 0.1, 0.0, 0.1, 0.4, 0.2, 0.3, 0.1, 0.1, 0.2, 0.3, 0.3, 0.7, 0.5, 0.3, 0.3, 0.5, 0.5, 0.3, 0.5]}, {\"boxpoints\": \"outliers\", \"line\": {\"color\": \"rgb(9,56,125)\"}, \"marker\": {\"color\": \"rgb(9,56,125)\"}, \"name\": \"top 75\", \"type\": \"box\", \"y\": [0.7, 0.3, 0.5, 0.3, 0.6, 0.3, 0.1, 0.5, 0.6, 0.1, 0.5, 0.6, 0.0, 0.0, 0.4, 0.4, 0.3, 0.1, 0.2, 0.1, 0.4, 0.2, 0.3, 0.1, 0.1, 0.2, 0.4, 0.4, 0.7, 0.6, 0.3, 0.3, 0.5, 0.5, 0.3, 0.5]}, {\"boxpoints\": \"outliers\", \"line\": {\"color\": \"rgb(9,56,125)\"}, \"marker\": {\"color\": \"rgb(9,56,125)\"}, \"name\": \"top 80\", \"type\": \"box\", \"y\": [0.7, 0.3, 0.5, 0.3, 0.6, 0.3, 0.1, 0.5, 0.6, 0.1, 0.5, 0.6, 0.1, 0.0, 0.4, 0.4, 0.3, 0.1, 0.2, 0.1, 0.4, 0.4, 0.3, 0.1, 0.1, 0.2, 0.4, 0.4, 0.7, 0.7, 0.4, 0.3, 0.5, 0.6, 0.3, 0.5]}, {\"boxpoints\": \"outliers\", \"line\": {\"color\": \"rgb(9,56,125)\"}, \"marker\": {\"color\": \"rgb(9,56,125)\"}, \"name\": \"top 85\", \"type\": \"box\", \"y\": [0.7, 0.3, 0.5, 0.3, 0.6, 0.3, 0.1, 0.5, 0.6, 0.3, 0.6, 0.7, 0.1, 0.0, 0.4, 0.4, 0.3, 0.1, 0.2, 0.1, 0.4, 0.4, 0.3, 0.1, 0.1, 0.2, 0.4, 0.4, 0.7, 0.7, 0.4, 0.4, 0.5, 0.6, 0.3, 0.5]}, {\"boxpoints\": \"outliers\", \"line\": {\"color\": \"rgb(9,56,125)\"}, \"marker\": {\"color\": \"rgb(9,56,125)\"}, \"name\": \"top 90\", \"type\": \"box\", \"y\": [0.7, 0.3, 0.5, 0.3, 0.6, 0.3, 0.1, 0.5, 0.6, 0.4, 0.6, 0.7, 0.1, 0.0, 0.4, 0.4, 0.3, 0.1, 0.2, 0.1, 0.5, 0.4, 0.4, 0.1, 0.1, 0.2, 0.4, 0.4, 0.7, 0.7, 0.4, 0.4, 0.5, 0.6, 0.3, 0.6]}, {\"boxpoints\": \"outliers\", \"line\": {\"color\": \"rgb(9,56,125)\"}, \"marker\": {\"color\": \"rgb(9,56,125)\"}, \"name\": \"top 95\", \"type\": \"box\", \"y\": [0.7, 0.3, 0.5, 0.3, 0.6, 0.3, 0.1, 0.5, 0.8, 0.4, 0.6, 0.7, 0.1, 0.0, 0.4, 0.4, 0.3, 0.1, 0.2, 0.1, 0.5, 0.4, 0.4, 0.1, 0.1, 0.2, 0.4, 0.4, 0.8, 0.7, 0.4, 0.5, 0.6, 0.6, 0.4, 0.6]}, {\"boxpoints\": \"outliers\", \"line\": {\"color\": \"rgb(9,56,125)\"}, \"marker\": {\"color\": \"rgb(9,56,125)\"}, \"name\": \"top 100\", \"type\": \"box\", \"y\": [0.7, 0.3, 0.5, 0.3, 0.6, 0.3, 0.1, 0.5, 0.8, 0.4, 0.6, 0.7, 0.1, 0.0, 0.4, 0.4, 0.3, 0.2, 0.2, 0.1, 0.5, 0.4, 0.4, 0.1, 0.1, 0.2, 0.4, 0.4, 0.8, 0.7, 0.4, 0.5, 0.6, 0.6, 0.4, 0.6]}],\n",
       "                        {\"height\": 500, \"showlegend\": false, \"template\": {\"data\": {\"bar\": [{\"error_x\": {\"color\": \"#2a3f5f\"}, \"error_y\": {\"color\": \"#2a3f5f\"}, \"marker\": {\"line\": {\"color\": \"#E5ECF6\", \"width\": 0.5}}, \"type\": \"bar\"}], \"barpolar\": [{\"marker\": {\"line\": {\"color\": \"#E5ECF6\", \"width\": 0.5}}, \"type\": \"barpolar\"}], \"carpet\": [{\"aaxis\": {\"endlinecolor\": \"#2a3f5f\", \"gridcolor\": \"white\", \"linecolor\": \"white\", \"minorgridcolor\": \"white\", \"startlinecolor\": \"#2a3f5f\"}, \"baxis\": {\"endlinecolor\": \"#2a3f5f\", \"gridcolor\": \"white\", \"linecolor\": \"white\", \"minorgridcolor\": \"white\", \"startlinecolor\": \"#2a3f5f\"}, \"type\": \"carpet\"}], \"choropleth\": [{\"colorbar\": {\"outlinewidth\": 0, \"ticks\": \"\"}, \"type\": \"choropleth\"}], \"contour\": [{\"colorbar\": {\"outlinewidth\": 0, \"ticks\": \"\"}, \"colorscale\": [[0.0, \"#0d0887\"], [0.1111111111111111, \"#46039f\"], [0.2222222222222222, \"#7201a8\"], [0.3333333333333333, \"#9c179e\"], [0.4444444444444444, \"#bd3786\"], [0.5555555555555556, \"#d8576b\"], [0.6666666666666666, \"#ed7953\"], [0.7777777777777778, \"#fb9f3a\"], [0.8888888888888888, \"#fdca26\"], [1.0, \"#f0f921\"]], \"type\": \"contour\"}], \"contourcarpet\": [{\"colorbar\": {\"outlinewidth\": 0, \"ticks\": \"\"}, \"type\": \"contourcarpet\"}], \"heatmap\": [{\"colorbar\": {\"outlinewidth\": 0, \"ticks\": \"\"}, \"colorscale\": [[0.0, \"#0d0887\"], [0.1111111111111111, \"#46039f\"], [0.2222222222222222, \"#7201a8\"], [0.3333333333333333, \"#9c179e\"], [0.4444444444444444, \"#bd3786\"], [0.5555555555555556, \"#d8576b\"], [0.6666666666666666, \"#ed7953\"], [0.7777777777777778, \"#fb9f3a\"], [0.8888888888888888, \"#fdca26\"], [1.0, \"#f0f921\"]], \"type\": \"heatmap\"}], \"heatmapgl\": [{\"colorbar\": {\"outlinewidth\": 0, \"ticks\": \"\"}, \"colorscale\": [[0.0, \"#0d0887\"], [0.1111111111111111, \"#46039f\"], [0.2222222222222222, \"#7201a8\"], [0.3333333333333333, \"#9c179e\"], [0.4444444444444444, \"#bd3786\"], [0.5555555555555556, \"#d8576b\"], [0.6666666666666666, \"#ed7953\"], [0.7777777777777778, \"#fb9f3a\"], [0.8888888888888888, \"#fdca26\"], [1.0, \"#f0f921\"]], \"type\": \"heatmapgl\"}], \"histogram\": [{\"marker\": {\"colorbar\": {\"outlinewidth\": 0, \"ticks\": \"\"}}, \"type\": \"histogram\"}], \"histogram2d\": [{\"colorbar\": {\"outlinewidth\": 0, \"ticks\": \"\"}, \"colorscale\": [[0.0, \"#0d0887\"], [0.1111111111111111, \"#46039f\"], [0.2222222222222222, \"#7201a8\"], [0.3333333333333333, \"#9c179e\"], [0.4444444444444444, \"#bd3786\"], [0.5555555555555556, \"#d8576b\"], [0.6666666666666666, \"#ed7953\"], [0.7777777777777778, \"#fb9f3a\"], [0.8888888888888888, \"#fdca26\"], [1.0, \"#f0f921\"]], \"type\": \"histogram2d\"}], \"histogram2dcontour\": [{\"colorbar\": {\"outlinewidth\": 0, \"ticks\": \"\"}, \"colorscale\": [[0.0, \"#0d0887\"], [0.1111111111111111, \"#46039f\"], [0.2222222222222222, \"#7201a8\"], [0.3333333333333333, \"#9c179e\"], [0.4444444444444444, \"#bd3786\"], [0.5555555555555556, \"#d8576b\"], [0.6666666666666666, \"#ed7953\"], [0.7777777777777778, \"#fb9f3a\"], [0.8888888888888888, \"#fdca26\"], [1.0, \"#f0f921\"]], \"type\": \"histogram2dcontour\"}], \"mesh3d\": [{\"colorbar\": {\"outlinewidth\": 0, \"ticks\": \"\"}, \"type\": \"mesh3d\"}], \"parcoords\": [{\"line\": {\"colorbar\": {\"outlinewidth\": 0, \"ticks\": \"\"}}, \"type\": \"parcoords\"}], \"scatter\": [{\"marker\": {\"colorbar\": {\"outlinewidth\": 0, \"ticks\": \"\"}}, \"type\": \"scatter\"}], \"scatter3d\": [{\"line\": {\"colorbar\": {\"outlinewidth\": 0, \"ticks\": \"\"}}, \"marker\": {\"colorbar\": {\"outlinewidth\": 0, \"ticks\": \"\"}}, \"type\": \"scatter3d\"}], \"scattercarpet\": [{\"marker\": {\"colorbar\": {\"outlinewidth\": 0, \"ticks\": \"\"}}, \"type\": \"scattercarpet\"}], \"scattergeo\": [{\"marker\": {\"colorbar\": {\"outlinewidth\": 0, \"ticks\": \"\"}}, \"type\": \"scattergeo\"}], \"scattergl\": [{\"marker\": {\"colorbar\": {\"outlinewidth\": 0, \"ticks\": \"\"}}, \"type\": \"scattergl\"}], \"scattermapbox\": [{\"marker\": {\"colorbar\": {\"outlinewidth\": 0, \"ticks\": \"\"}}, \"type\": \"scattermapbox\"}], \"scatterpolar\": [{\"marker\": {\"colorbar\": {\"outlinewidth\": 0, \"ticks\": \"\"}}, \"type\": \"scatterpolar\"}], \"scatterpolargl\": [{\"marker\": {\"colorbar\": {\"outlinewidth\": 0, \"ticks\": \"\"}}, \"type\": \"scatterpolargl\"}], \"scatterternary\": [{\"marker\": {\"colorbar\": {\"outlinewidth\": 0, \"ticks\": \"\"}}, \"type\": \"scatterternary\"}], \"surface\": [{\"colorbar\": {\"outlinewidth\": 0, \"ticks\": \"\"}, \"colorscale\": [[0.0, \"#0d0887\"], [0.1111111111111111, \"#46039f\"], [0.2222222222222222, \"#7201a8\"], [0.3333333333333333, \"#9c179e\"], [0.4444444444444444, \"#bd3786\"], [0.5555555555555556, \"#d8576b\"], [0.6666666666666666, \"#ed7953\"], [0.7777777777777778, \"#fb9f3a\"], [0.8888888888888888, \"#fdca26\"], [1.0, \"#f0f921\"]], \"type\": \"surface\"}], \"table\": [{\"cells\": {\"fill\": {\"color\": \"#EBF0F8\"}, \"line\": {\"color\": \"white\"}}, \"header\": {\"fill\": {\"color\": \"#C8D4E3\"}, \"line\": {\"color\": \"white\"}}, \"type\": \"table\"}]}, \"layout\": {\"annotationdefaults\": {\"arrowcolor\": \"#2a3f5f\", \"arrowhead\": 0, \"arrowwidth\": 1}, \"colorscale\": {\"diverging\": [[0, \"#8e0152\"], [0.1, \"#c51b7d\"], [0.2, \"#de77ae\"], [0.3, \"#f1b6da\"], [0.4, \"#fde0ef\"], [0.5, \"#f7f7f7\"], [0.6, \"#e6f5d0\"], [0.7, \"#b8e186\"], [0.8, \"#7fbc41\"], [0.9, \"#4d9221\"], [1, \"#276419\"]], \"sequential\": [[0.0, \"#0d0887\"], [0.1111111111111111, \"#46039f\"], [0.2222222222222222, \"#7201a8\"], [0.3333333333333333, \"#9c179e\"], [0.4444444444444444, \"#bd3786\"], [0.5555555555555556, \"#d8576b\"], [0.6666666666666666, \"#ed7953\"], [0.7777777777777778, \"#fb9f3a\"], [0.8888888888888888, \"#fdca26\"], [1.0, \"#f0f921\"]], \"sequentialminus\": [[0.0, \"#0d0887\"], [0.1111111111111111, \"#46039f\"], [0.2222222222222222, \"#7201a8\"], [0.3333333333333333, \"#9c179e\"], [0.4444444444444444, \"#bd3786\"], [0.5555555555555556, \"#d8576b\"], [0.6666666666666666, \"#ed7953\"], [0.7777777777777778, \"#fb9f3a\"], [0.8888888888888888, \"#fdca26\"], [1.0, \"#f0f921\"]]}, \"colorway\": [\"#636efa\", \"#EF553B\", \"#00cc96\", \"#ab63fa\", \"#FFA15A\", \"#19d3f3\", \"#FF6692\", \"#B6E880\", \"#FF97FF\", \"#FECB52\"], \"font\": {\"color\": \"#2a3f5f\"}, \"geo\": {\"bgcolor\": \"white\", \"lakecolor\": \"white\", \"landcolor\": \"#E5ECF6\", \"showlakes\": true, \"showland\": true, \"subunitcolor\": \"white\"}, \"hoverlabel\": {\"align\": \"left\"}, \"hovermode\": \"closest\", \"mapbox\": {\"style\": \"light\"}, \"paper_bgcolor\": \"white\", \"plot_bgcolor\": \"#E5ECF6\", \"polar\": {\"angularaxis\": {\"gridcolor\": \"white\", \"linecolor\": \"white\", \"ticks\": \"\"}, \"bgcolor\": \"#E5ECF6\", \"radialaxis\": {\"gridcolor\": \"white\", \"linecolor\": \"white\", \"ticks\": \"\"}}, \"scene\": {\"xaxis\": {\"backgroundcolor\": \"#E5ECF6\", \"gridcolor\": \"white\", \"gridwidth\": 2, \"linecolor\": \"white\", \"showbackground\": true, \"ticks\": \"\", \"zerolinecolor\": \"white\"}, \"yaxis\": {\"backgroundcolor\": \"#E5ECF6\", \"gridcolor\": \"white\", \"gridwidth\": 2, \"linecolor\": \"white\", \"showbackground\": true, \"ticks\": \"\", \"zerolinecolor\": \"white\"}, \"zaxis\": {\"backgroundcolor\": \"#E5ECF6\", \"gridcolor\": \"white\", \"gridwidth\": 2, \"linecolor\": \"white\", \"showbackground\": true, \"ticks\": \"\", \"zerolinecolor\": \"white\"}}, \"shapedefaults\": {\"line\": {\"color\": \"#2a3f5f\"}}, \"ternary\": {\"aaxis\": {\"gridcolor\": \"white\", \"linecolor\": \"white\", \"ticks\": \"\"}, \"baxis\": {\"gridcolor\": \"white\", \"linecolor\": \"white\", \"ticks\": \"\"}, \"bgcolor\": \"#E5ECF6\", \"caxis\": {\"gridcolor\": \"white\", \"linecolor\": \"white\", \"ticks\": \"\"}}, \"title\": {\"x\": 0.05}, \"xaxis\": {\"automargin\": true, \"gridcolor\": \"white\", \"linecolor\": \"white\", \"ticks\": \"\", \"zerolinecolor\": \"white\", \"zerolinewidth\": 2}, \"yaxis\": {\"automargin\": true, \"gridcolor\": \"white\", \"linecolor\": \"white\", \"ticks\": \"\", \"zerolinecolor\": \"white\", \"zerolinewidth\": 2}}}, \"title\": {\"text\": \"Recall Scenario D - 10 participants, all questions\"}},\n",
       "                        {\"responsive\": true}\n",
       "                    ).then(function(){\n",
       "                            \n",
       "var gd = document.getElementById('d9ae2837-7fe8-4d60-b42f-6c7c56f37ba0');\n",
       "var x = new MutationObserver(function (mutations, observer) {{\n",
       "        var display = window.getComputedStyle(gd).display;\n",
       "        if (!display || display === 'none') {{\n",
       "            console.log([gd, 'removed!']);\n",
       "            Plotly.purge(gd);\n",
       "            observer.disconnect();\n",
       "        }}\n",
       "}});\n",
       "\n",
       "// Listen for the removal of the full notebook cells\n",
       "var notebookContainer = gd.closest('#notebook-container');\n",
       "if (notebookContainer) {{\n",
       "    x.observe(notebookContainer, {childList: true});\n",
       "}}\n",
       "\n",
       "// Listen for the clearing of the current output cell\n",
       "var outputEl = gd.closest('.output');\n",
       "if (outputEl) {{\n",
       "    x.observe(outputEl, {childList: true});\n",
       "}}\n",
       "\n",
       "                        })\n",
       "                };\n",
       "                });\n",
       "            </script>\n",
       "        </div>"
      ]
     },
     "metadata": {},
     "output_type": "display_data"
    }
   ],
   "source": [
    "import plotly.graph_objects as go\n",
    "\n",
    "up_to_top100 = data[scenario].columns[:-10]\n",
    "\n",
    "def figure_maker(scenario, columns):\n",
    "    fig = go.Figure()\n",
    "    for col in data[scenario][columns]:\n",
    "        fig.add_trace(go.Box(\n",
    "            y=data[scenario][col],\n",
    "            name=col, boxpoints='outliers', \n",
    "            marker_color='rgb(9,56,125)', line_color='rgb(9,56,125)'\n",
    "        ))\n",
    "\n",
    "    fig.update_layout(\n",
    "        title_text=\"Recall Scenario \"+scenario+\" - \"+ nb_of_participants +\" participants, all questions\",\n",
    "        showlegend=False,\n",
    "        height=500)\n",
    "    \n",
    "    return fig\n",
    "    \n",
    "\n",
    "#for scenario in scenarios:\n",
    "for scenario in scenarios:\n",
    "    figure_maker(scenario,up_to_top100).show()\n"
   ]
  },
  {
   "cell_type": "code",
   "execution_count": 87,
   "metadata": {},
   "outputs": [
    {
     "data": {
      "text/html": [
       "<div>\n",
       "<style scoped>\n",
       "    .dataframe tbody tr th:only-of-type {\n",
       "        vertical-align: middle;\n",
       "    }\n",
       "\n",
       "    .dataframe tbody tr th {\n",
       "        vertical-align: top;\n",
       "    }\n",
       "\n",
       "    .dataframe thead th {\n",
       "        text-align: right;\n",
       "    }\n",
       "</style>\n",
       "<table border=\"1\" class=\"dataframe\">\n",
       "  <thead>\n",
       "    <tr style=\"text-align: right;\">\n",
       "      <th></th>\n",
       "      <th>A</th>\n",
       "      <th>B</th>\n",
       "      <th>C</th>\n",
       "      <th>D</th>\n",
       "      <th>Q+</th>\n",
       "      <th>U+</th>\n",
       "    </tr>\n",
       "    <tr>\n",
       "      <th>q_id</th>\n",
       "      <th></th>\n",
       "      <th></th>\n",
       "      <th></th>\n",
       "      <th></th>\n",
       "      <th></th>\n",
       "      <th></th>\n",
       "    </tr>\n",
       "  </thead>\n",
       "  <tbody>\n",
       "    <tr>\n",
       "      <th>9135</th>\n",
       "      <td>0.2</td>\n",
       "      <td>0.2</td>\n",
       "      <td>1.0</td>\n",
       "      <td>0.8</td>\n",
       "      <td>⬆⬆</td>\n",
       "      <td>⬆⬆</td>\n",
       "    </tr>\n",
       "    <tr>\n",
       "      <th>9197</th>\n",
       "      <td>0.8</td>\n",
       "      <td>0.6</td>\n",
       "      <td>0.6</td>\n",
       "      <td>0.4</td>\n",
       "      <td>⬇</td>\n",
       "      <td>⬇</td>\n",
       "    </tr>\n",
       "    <tr>\n",
       "      <th>9251</th>\n",
       "      <td>0.8</td>\n",
       "      <td>0.6</td>\n",
       "      <td>0.8</td>\n",
       "      <td>0.4</td>\n",
       "      <td>-</td>\n",
       "      <td>-</td>\n",
       "    </tr>\n",
       "    <tr>\n",
       "      <th>9273</th>\n",
       "      <td>0.2</td>\n",
       "      <td>0.2</td>\n",
       "      <td>0.6</td>\n",
       "      <td>0.4</td>\n",
       "      <td>⬆</td>\n",
       "      <td>⬆</td>\n",
       "    </tr>\n",
       "    <tr>\n",
       "      <th>9277</th>\n",
       "      <td>0.2</td>\n",
       "      <td>0.0</td>\n",
       "      <td>0.4</td>\n",
       "      <td>0.4</td>\n",
       "      <td>⬆</td>\n",
       "      <td>⬆</td>\n",
       "    </tr>\n",
       "    <tr>\n",
       "      <th>9427</th>\n",
       "      <td>0.4</td>\n",
       "      <td>0.2</td>\n",
       "      <td>1.0</td>\n",
       "      <td>0.6</td>\n",
       "      <td>⬆⬆</td>\n",
       "      <td>⬆⬆</td>\n",
       "    </tr>\n",
       "    <tr>\n",
       "      <th>9606</th>\n",
       "      <td>0.6</td>\n",
       "      <td>0.4</td>\n",
       "      <td>0.8</td>\n",
       "      <td>0.6</td>\n",
       "      <td>⬆</td>\n",
       "      <td>⬆</td>\n",
       "    </tr>\n",
       "    <tr>\n",
       "      <th>9615</th>\n",
       "      <td>0.2</td>\n",
       "      <td>0.0</td>\n",
       "      <td>0.4</td>\n",
       "      <td>0.4</td>\n",
       "      <td>⬆</td>\n",
       "      <td>⬆</td>\n",
       "    </tr>\n",
       "    <tr>\n",
       "      <th>9620</th>\n",
       "      <td>0.8</td>\n",
       "      <td>0.8</td>\n",
       "      <td>0.8</td>\n",
       "      <td>0.8</td>\n",
       "      <td>-</td>\n",
       "      <td>-</td>\n",
       "    </tr>\n",
       "    <tr>\n",
       "      <th>9653</th>\n",
       "      <td>0.4</td>\n",
       "      <td>0.2</td>\n",
       "      <td>0.2</td>\n",
       "      <td>0.2</td>\n",
       "      <td>⬇</td>\n",
       "      <td>⬇</td>\n",
       "    </tr>\n",
       "    <tr>\n",
       "      <th>9684</th>\n",
       "      <td>0.8</td>\n",
       "      <td>0.8</td>\n",
       "      <td>1.0</td>\n",
       "      <td>0.6</td>\n",
       "      <td>⬆</td>\n",
       "      <td>⬆</td>\n",
       "    </tr>\n",
       "    <tr>\n",
       "      <th>9750</th>\n",
       "      <td>0.4</td>\n",
       "      <td>0.4</td>\n",
       "      <td>0.8</td>\n",
       "      <td>0.4</td>\n",
       "      <td>⬆</td>\n",
       "      <td>⬆</td>\n",
       "    </tr>\n",
       "    <tr>\n",
       "      <th>9796</th>\n",
       "      <td>0.6</td>\n",
       "      <td>0.8</td>\n",
       "      <td>0.8</td>\n",
       "      <td>0.6</td>\n",
       "      <td>⬆</td>\n",
       "      <td>⬆</td>\n",
       "    </tr>\n",
       "    <tr>\n",
       "      <th>10006</th>\n",
       "      <td>0.2</td>\n",
       "      <td>0.2</td>\n",
       "      <td>0.2</td>\n",
       "      <td>0.0</td>\n",
       "      <td>-</td>\n",
       "      <td>-</td>\n",
       "    </tr>\n",
       "    <tr>\n",
       "      <th>10013</th>\n",
       "      <td>0.8</td>\n",
       "      <td>0.6</td>\n",
       "      <td>0.8</td>\n",
       "      <td>0.8</td>\n",
       "      <td>-</td>\n",
       "      <td>-</td>\n",
       "    </tr>\n",
       "    <tr>\n",
       "      <th>10020</th>\n",
       "      <td>0.4</td>\n",
       "      <td>0.2</td>\n",
       "      <td>0.4</td>\n",
       "      <td>0.4</td>\n",
       "      <td>-</td>\n",
       "      <td>-</td>\n",
       "    </tr>\n",
       "    <tr>\n",
       "      <th>10027</th>\n",
       "      <td>0.2</td>\n",
       "      <td>0.2</td>\n",
       "      <td>0.2</td>\n",
       "      <td>0.8</td>\n",
       "      <td>⬆⬆</td>\n",
       "      <td>⬆⬆</td>\n",
       "    </tr>\n",
       "    <tr>\n",
       "      <th>10072</th>\n",
       "      <td>0.4</td>\n",
       "      <td>0.4</td>\n",
       "      <td>0.4</td>\n",
       "      <td>0.8</td>\n",
       "      <td>⬆</td>\n",
       "      <td>⬆</td>\n",
       "    </tr>\n",
       "    <tr>\n",
       "      <th>10105</th>\n",
       "      <td>0.2</td>\n",
       "      <td>0.2</td>\n",
       "      <td>0.4</td>\n",
       "      <td>0.4</td>\n",
       "      <td>⬆</td>\n",
       "      <td>⬆</td>\n",
       "    </tr>\n",
       "    <tr>\n",
       "      <th>10120</th>\n",
       "      <td>0.2</td>\n",
       "      <td>0.2</td>\n",
       "      <td>0.2</td>\n",
       "      <td>0.2</td>\n",
       "      <td>-</td>\n",
       "      <td>-</td>\n",
       "    </tr>\n",
       "    <tr>\n",
       "      <th>10149</th>\n",
       "      <td>0.8</td>\n",
       "      <td>0.4</td>\n",
       "      <td>1.0</td>\n",
       "      <td>0.2</td>\n",
       "      <td>⬆</td>\n",
       "      <td>⬆</td>\n",
       "    </tr>\n",
       "    <tr>\n",
       "      <th>10238</th>\n",
       "      <td>0.4</td>\n",
       "      <td>0.0</td>\n",
       "      <td>0.4</td>\n",
       "      <td>0.2</td>\n",
       "      <td>-</td>\n",
       "      <td>-</td>\n",
       "    </tr>\n",
       "    <tr>\n",
       "      <th>10280</th>\n",
       "      <td>0.4</td>\n",
       "      <td>0.2</td>\n",
       "      <td>0.8</td>\n",
       "      <td>0.0</td>\n",
       "      <td>⬆</td>\n",
       "      <td>⬆</td>\n",
       "    </tr>\n",
       "    <tr>\n",
       "      <th>10284</th>\n",
       "      <td>0.2</td>\n",
       "      <td>0.2</td>\n",
       "      <td>0.2</td>\n",
       "      <td>0.2</td>\n",
       "      <td>-</td>\n",
       "      <td>-</td>\n",
       "    </tr>\n",
       "    <tr>\n",
       "      <th>10313</th>\n",
       "      <td>0.2</td>\n",
       "      <td>0.2</td>\n",
       "      <td>0.6</td>\n",
       "      <td>0.4</td>\n",
       "      <td>⬆</td>\n",
       "      <td>⬆</td>\n",
       "    </tr>\n",
       "    <tr>\n",
       "      <th>10323</th>\n",
       "      <td>0.4</td>\n",
       "      <td>0.4</td>\n",
       "      <td>0.6</td>\n",
       "      <td>0.4</td>\n",
       "      <td>⬆</td>\n",
       "      <td>⬆</td>\n",
       "    </tr>\n",
       "    <tr>\n",
       "      <th>10342</th>\n",
       "      <td>0.8</td>\n",
       "      <td>0.8</td>\n",
       "      <td>0.4</td>\n",
       "      <td>0.2</td>\n",
       "      <td>-</td>\n",
       "      <td>-</td>\n",
       "    </tr>\n",
       "  </tbody>\n",
       "</table>\n",
       "</div>"
      ],
      "text/plain": [
       "         A    B    C    D  Q+  U+\n",
       "q_id                             \n",
       "9135   0.2  0.2  1.0  0.8  ⬆⬆  ⬆⬆\n",
       "9197   0.8  0.6  0.6  0.4   ⬇   ⬇\n",
       "9251   0.8  0.6  0.8  0.4   -   -\n",
       "9273   0.2  0.2  0.6  0.4   ⬆   ⬆\n",
       "9277   0.2  0.0  0.4  0.4   ⬆   ⬆\n",
       "9427   0.4  0.2  1.0  0.6  ⬆⬆  ⬆⬆\n",
       "9606   0.6  0.4  0.8  0.6   ⬆   ⬆\n",
       "9615   0.2  0.0  0.4  0.4   ⬆   ⬆\n",
       "9620   0.8  0.8  0.8  0.8   -   -\n",
       "9653   0.4  0.2  0.2  0.2   ⬇   ⬇\n",
       "9684   0.8  0.8  1.0  0.6   ⬆   ⬆\n",
       "9750   0.4  0.4  0.8  0.4   ⬆   ⬆\n",
       "9796   0.6  0.8  0.8  0.6   ⬆   ⬆\n",
       "10006  0.2  0.2  0.2  0.0   -   -\n",
       "10013  0.8  0.6  0.8  0.8   -   -\n",
       "10020  0.4  0.2  0.4  0.4   -   -\n",
       "10027  0.2  0.2  0.2  0.8  ⬆⬆  ⬆⬆\n",
       "10072  0.4  0.4  0.4  0.8   ⬆   ⬆\n",
       "10105  0.2  0.2  0.4  0.4   ⬆   ⬆\n",
       "10120  0.2  0.2  0.2  0.2   -   -\n",
       "10149  0.8  0.4  1.0  0.2   ⬆   ⬆\n",
       "10238  0.4  0.0  0.4  0.2   -   -\n",
       "10280  0.4  0.2  0.8  0.0   ⬆   ⬆\n",
       "10284  0.2  0.2  0.2  0.2   -   -\n",
       "10313  0.2  0.2  0.6  0.4   ⬆   ⬆\n",
       "10323  0.4  0.4  0.6  0.4   ⬆   ⬆\n",
       "10342  0.8  0.8  0.4  0.2   -   -"
      ]
     },
     "execution_count": 87,
     "metadata": {},
     "output_type": "execute_result"
    }
   ],
   "source": [
    "# all questions in which any of the scenarios performed poorly, ie. Recall@60 <= 0.2\n",
    "questions_with_bad_performance = [9135, 9197, 9251, 9273, 9277, 9427, 9606, 9615, 9620, 9653, 9684, 9750, 9796, 10006, 10013, 10020, 10027, 10072, 10105, 10120, 10149, 10238, 10280, 10284, 10313, 10323, 10342]\n",
    "\n",
    "bad_performance = []\n",
    "\n",
    "for scenario in scenarios:\n",
    "    bad_performance.append(data[scenario][data[scenario].index.isin(questions_with_bad_performance)]['top 60'])\n",
    "df = pd.DataFrame(bad_performance)\n",
    "df = df.transpose()\n",
    "df.columns = scenarios\n",
    "\n",
    "def give_arrow(diff):\n",
    "    # Big difference (> 0.4)\n",
    "    if abs(diff) > 0.4:\n",
    "        # Positive difference\n",
    "        if diff > 0:\n",
    "            # df.at[index,'Q+'] = '⬆⬆'\n",
    "            return '⬆⬆'\n",
    "        # Negative difference\n",
    "        else:\n",
    "            # df.at[index,'Q+'] = '⬇⬇'\n",
    "            return '⬇⬇'\n",
    "    # Small difference (<= 0.4)        \n",
    "    else:\n",
    "        # Positive difference\n",
    "        if diff > 0:\n",
    "            # df.at[index,'Q+'] = '⬆'\n",
    "            return '⬆'\n",
    "        # Negative difference        \n",
    "        elif diff < 0:\n",
    "            # df.at[index,'Q+'] = '⬇' \n",
    "            return '⬇' \n",
    "        # No difference\n",
    "        else:\n",
    "            # df.at[index,'Q+'] = '-' \n",
    "            return '-'\n",
    "\n",
    "for index, row in df.iterrows():\n",
    "    max_val = max([row['B'],row['C'],row['D']])\n",
    "    diff = max_val - row['A']\n",
    "    df.at[index,'Q+'] = give_arrow(diff)\n",
    "    df.at[index,'U+'] = give_arrow(diff)    \n",
    "\n",
    "df.sort_index()\n"
   ]
  },
  {
   "cell_type": "code",
   "execution_count": 67,
   "metadata": {},
   "outputs": [
    {
     "data": {
      "text/plain": [
       "'\\nTODO:\\n- Subplots para los boxplot\\n- Exportar para que se vean en el README.md\\n- Tabla de las flechas\\n'"
      ]
     },
     "execution_count": 67,
     "metadata": {},
     "output_type": "execute_result"
    }
   ],
   "source": [
    "\"\"\"\n",
    "TODO:\n",
    "- Subplots para los boxplot\n",
    "- Exportar para que se vean en el README.md\n",
    "- Tabla de las flechas\n",
    "\"\"\""
   ]
  }
 ],
 "metadata": {
  "kernelspec": {
   "display_name": "Python 3",
   "language": "python",
   "name": "python3"
  },
  "language_info": {
   "codemirror_mode": {
    "name": "ipython",
    "version": 3
   },
   "file_extension": ".py",
   "mimetype": "text/x-python",
   "name": "python",
   "nbconvert_exporter": "python",
   "pygments_lexer": "ipython3",
   "version": "3.6.7"
  }
 },
 "nbformat": 4,
 "nbformat_minor": 2
}
