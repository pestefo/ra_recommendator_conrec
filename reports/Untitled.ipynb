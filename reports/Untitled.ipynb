{
 "cells": [
  {
   "cell_type": "code",
   "execution_count": 2,
   "metadata": {},
   "outputs": [
    {
     "name": "stdout",
     "output_type": "stream",
     "text": [
      "Shapes of data for each scenario\n",
      "\n",
      "Scenario: A shape (14638, 30)\n",
      "Scenario: B shape (23505, 30)\n",
      "Scenario: C shape (32540, 30)\n",
      "Scenario: D shape (32540, 30)\n"
     ]
    }
   ],
   "source": [
    "import pandas as pd\n",
    "import os\n",
    "import plotly.graph_objects as go\n",
    "\n",
    "\n",
    "# All experiments\n",
    "# experiment = \"20190717_1108_5p_100\" # - images: done\n",
    "# experiment = \"20190714_1211_6p\" - images: done\n",
    "# experiment = \"20190714_1213_5p\" - images: done\n",
    "# experiment = \"20190714_1231_7p\" - images: done\n",
    "# experiment = \"20190714_1231_8p\" - images: done\n",
    "# experiment = \"20190714_1232_9p\" - images: done\n",
    "# experiment = \"20190714_1233_10p\" - images: done\n",
    "# experiment = \"20190714_1234_3p\" - images: done\n",
    "# experiment = \"20190714_1235_4p\" - images: done\n",
    "#experiment = \"20190714_1236_2p\"\n",
    "\n",
    "experiments = [\n",
    "     #{\"path\": \"20190717_1108_5p_100\", \"questions\": 100, \"participants\": 5},\n",
    "     {\"path\": \"20190714_1211_6p\", \"questions\": 467, \"participants\": 6},\n",
    "     {\"path\": \"20190714_1213_5p\", \"questions\": 1181, \"participants\": 5},\n",
    "     {\"path\": \"20190714_1231_7p\", \"questions\": 215, \"participants\": 7},\n",
    "     {\"path\": \"20190714_1231_8p\", \"questions\": 106, \"participants\": 8},\n",
    "     {\"path\": \"20190714_1232_9p\", \"questions\": 52, \"participants\": 9},\n",
    "     {\"path\": \"20190714_1233_10p\", \"questions\": 36, \"participants\": 10},\n",
    "     {\"path\": \"20190714_1235_4p\", \"questions\": 3271, \"participants\": 4},\n",
    "     {\"path\": \"20190714_1234_3p\", \"questions\": 9052, \"participants\": 3},\n",
    "     {\"path\": \"20190714_1236_2p\", \"questions\": 18162, \"participants\": 2}]\n",
    "\n",
    "scenarios = ['A', 'B', 'C', 'D']\n",
    "\n",
    "def data_for_exp(experiment,scenario):\n",
    "    path_to_results = os.environ['HOME']+'/projects/ra_recommendator_conrec/results/'\n",
    "    return pd.read_csv(path_to_results+experiment['path']+'/recall_for_scenario_'+scenario+'.csv', \n",
    "                       sep='\\t', \n",
    "                       index_col=0)\n",
    "\n",
    "MIN_NB_OF_P = 2\n",
    "MAX_NB_OF_P = 10\n",
    "exps = experiments # including all the experiments\n",
    "data_all = {}\n",
    "\n",
    "print(\"Shapes of data for each scenario\\n\")\n",
    "for scenario in scenarios:\n",
    "\n",
    "    # Concatenating data\n",
    "    data_all[scenario] = pd.DataFrame()\n",
    "    for exp in exps:\n",
    "        data_all[scenario] = pd.concat([data_all[scenario],data_for_exp(exp,scenario)])\n",
    "    print(\"Scenario: {} shape {}\".format(scenario,data_all[scenario].shape))        \n"
   ]
  },
  {
   "cell_type": "code",
   "execution_count": 24,
   "metadata": {},
   "outputs": [
    {
     "data": {
      "text/plain": [
       "(234, 30)"
      ]
     },
     "execution_count": 24,
     "metadata": {},
     "output_type": "execute_result"
    }
   ],
   "source": [
    "data_all['D'].query(\"`top 10`>=0.7\").shape"
   ]
  },
  {
   "cell_type": "code",
   "execution_count": 26,
   "metadata": {},
   "outputs": [
    {
     "data": {
      "text/plain": [
       "(1119, 30)"
      ]
     },
     "execution_count": 26,
     "metadata": {},
     "output_type": "execute_result"
    }
   ],
   "source": [
    "data_all['A'].query(\"`top 10`>=1\").shape"
   ]
  },
  {
   "cell_type": "code",
   "execution_count": 25,
   "metadata": {},
   "outputs": [
    {
     "data": {
      "text/plain": [
       "(8734, 30)"
      ]
     },
     "execution_count": 25,
     "metadata": {},
     "output_type": "execute_result"
    }
   ],
   "source": [
    "data_all['C'].query(\"`top 10`>=1\").shape"
   ]
  },
  {
   "cell_type": "code",
   "execution_count": 2,
   "metadata": {},
   "outputs": [
    {
     "ename": "ModuleNotFoundError",
     "evalue": "No module named 'src'",
     "output_type": "error",
     "traceback": [
      "\u001b[0;31m---------------------------------------------------------------------------\u001b[0m",
      "\u001b[0;31mModuleNotFoundError\u001b[0m                       Traceback (most recent call last)",
      "\u001b[0;32m<ipython-input-2-bcb36b794dcf>\u001b[0m in \u001b[0;36m<module>\u001b[0;34m\u001b[0m\n\u001b[0;32m----> 1\u001b[0;31m \u001b[0;32mfrom\u001b[0m \u001b[0msrc\u001b[0m\u001b[0;34m.\u001b[0m\u001b[0mutils\u001b[0m\u001b[0;34m.\u001b[0m\u001b[0mdb\u001b[0m \u001b[0;32mimport\u001b[0m \u001b[0mDatabase\u001b[0m\u001b[0;34m\u001b[0m\u001b[0;34m\u001b[0m\u001b[0m\n\u001b[0m",
      "\u001b[0;31mModuleNotFoundError\u001b[0m: No module named 'src'"
     ]
    }
   ],
   "source": [
    "from src.utils.db import Database"
   ]
  }
 ],
 "metadata": {
  "kernelspec": {
   "display_name": "Python 3",
   "language": "python",
   "name": "python3"
  },
  "language_info": {
   "codemirror_mode": {
    "name": "ipython",
    "version": 3
   },
   "file_extension": ".py",
   "mimetype": "text/x-python",
   "name": "python",
   "nbconvert_exporter": "python",
   "pygments_lexer": "ipython3",
   "version": "3.6.7"
  }
 },
 "nbformat": 4,
 "nbformat_minor": 2
}
