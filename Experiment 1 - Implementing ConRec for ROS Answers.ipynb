{
 "cells": [
  {
   "cell_type": "code",
   "execution_count": 39,
   "metadata": {},
   "outputs": [],
   "source": [
    "import sqlite3\n",
    "import pandas as pd\n",
    "\n",
    "conn = sqlite3.connect(\"v1.db\")\n",
    "\n",
    "## Activity: asking and commenting a question\n",
    "query_activity_ans_comm = \"\"\" select active_users.q_id, active_users.u_id as u_id , count(*) as activity\n",
    "                                from\n",
    "                                (\n",
    "                                    select rqa.ros_question_id as q_id, ra.author as u_id\n",
    "                                    from ros_question_answer as rqa\n",
    "                                    left join ros_answer as ra on rqa.ros_answer_id = ra.id\n",
    "                                ) as active_users\n",
    "                                group by q_id, u_id\n",
    "\"\"\"\n",
    "act_ans_comm = pd.read_sql_query(query_activity_ans_comm, conn)\n",
    "\n",
    "\n",
    "\n",
    "## Activity: asking a question\n",
    "query_activity_ask = \"\"\" select q_id, author as u_id, 1 as activity\n",
    "                            from \n",
    "                            (\n",
    "                                select distinct ros_question_answer.ros_question_id as q_id\n",
    "                                from ros_question_answer\n",
    "                            ) as questions\n",
    "                            left join ros_question as rq on questions.q_id = rq.id \n",
    "\"\"\"\n",
    "act_ask = pd.read_sql_query(query_activity_ask, conn)\n",
    "\n",
    "conn.close()"
   ]
  },
  {
   "cell_type": "code",
   "execution_count": 38,
   "metadata": {
    "scrolled": true
   },
   "outputs": [
    {
     "data": {
      "text/html": [
       "<div>\n",
       "<style scoped>\n",
       "    .dataframe tbody tr th:only-of-type {\n",
       "        vertical-align: middle;\n",
       "    }\n",
       "\n",
       "    .dataframe tbody tr th {\n",
       "        vertical-align: top;\n",
       "    }\n",
       "\n",
       "    .dataframe thead th {\n",
       "        text-align: right;\n",
       "    }\n",
       "</style>\n",
       "<table border=\"1\" class=\"dataframe\">\n",
       "  <thead>\n",
       "    <tr style=\"text-align: right;\">\n",
       "      <th></th>\n",
       "      <th>q_id</th>\n",
       "      <th>u_id</th>\n",
       "      <th>activity</th>\n",
       "    </tr>\n",
       "  </thead>\n",
       "  <tbody>\n",
       "    <tr>\n",
       "      <th>0</th>\n",
       "      <td>9033</td>\n",
       "      <td>3</td>\n",
       "      <td>1</td>\n",
       "    </tr>\n",
       "    <tr>\n",
       "      <th>1</th>\n",
       "      <td>9033</td>\n",
       "      <td>11</td>\n",
       "      <td>1</td>\n",
       "    </tr>\n",
       "    <tr>\n",
       "      <th>2</th>\n",
       "      <td>9033</td>\n",
       "      <td>139</td>\n",
       "      <td>1</td>\n",
       "    </tr>\n",
       "    <tr>\n",
       "      <th>3</th>\n",
       "      <td>9036</td>\n",
       "      <td>3</td>\n",
       "      <td>1</td>\n",
       "    </tr>\n",
       "    <tr>\n",
       "      <th>4</th>\n",
       "      <td>9036</td>\n",
       "      <td>6791</td>\n",
       "      <td>1</td>\n",
       "    </tr>\n",
       "  </tbody>\n",
       "</table>\n",
       "</div>"
      ],
      "text/plain": [
       "   q_id  u_id  activity\n",
       "0  9033     3         1\n",
       "1  9033    11         1\n",
       "2  9033   139         1\n",
       "3  9036     3         1\n",
       "4  9036  6791         1"
      ]
     },
     "execution_count": 38,
     "metadata": {},
     "output_type": "execute_result"
    }
   ],
   "source": [
    "act_ans_comm.head()"
   ]
  },
  {
   "cell_type": "code",
   "execution_count": 36,
   "metadata": {},
   "outputs": [
    {
     "data": {
      "text/html": [
       "<div>\n",
       "<style scoped>\n",
       "    .dataframe tbody tr th:only-of-type {\n",
       "        vertical-align: middle;\n",
       "    }\n",
       "\n",
       "    .dataframe tbody tr th {\n",
       "        vertical-align: top;\n",
       "    }\n",
       "\n",
       "    .dataframe thead th {\n",
       "        text-align: right;\n",
       "    }\n",
       "</style>\n",
       "<table border=\"1\" class=\"dataframe\">\n",
       "  <thead>\n",
       "    <tr style=\"text-align: right;\">\n",
       "      <th></th>\n",
       "      <th>q_id</th>\n",
       "      <th>u_id</th>\n",
       "      <th>activity</th>\n",
       "    </tr>\n",
       "  </thead>\n",
       "  <tbody>\n",
       "    <tr>\n",
       "      <th>0</th>\n",
       "      <td>9033</td>\n",
       "      <td>2</td>\n",
       "      <td>1</td>\n",
       "    </tr>\n",
       "    <tr>\n",
       "      <th>1</th>\n",
       "      <td>9036</td>\n",
       "      <td>2</td>\n",
       "      <td>1</td>\n",
       "    </tr>\n",
       "    <tr>\n",
       "      <th>2</th>\n",
       "      <td>9037</td>\n",
       "      <td>2</td>\n",
       "      <td>1</td>\n",
       "    </tr>\n",
       "    <tr>\n",
       "      <th>3</th>\n",
       "      <td>9038</td>\n",
       "      <td>2</td>\n",
       "      <td>1</td>\n",
       "    </tr>\n",
       "    <tr>\n",
       "      <th>4</th>\n",
       "      <td>9039</td>\n",
       "      <td>2</td>\n",
       "      <td>1</td>\n",
       "    </tr>\n",
       "  </tbody>\n",
       "</table>\n",
       "</div>"
      ],
      "text/plain": [
       "   q_id  u_id  activity\n",
       "0  9033     2         1\n",
       "1  9036     2         1\n",
       "2  9037     2         1\n",
       "3  9038     2         1\n",
       "4  9039     2         1"
      ]
     },
     "execution_count": 36,
     "metadata": {},
     "output_type": "execute_result"
    }
   ],
   "source": [
    "act_ask.head()"
   ]
  },
  {
   "cell_type": "code",
   "execution_count": 57,
   "metadata": {},
   "outputs": [],
   "source": [
    "def activity_ans_comm(user,question):\n",
    "    val = act_ans_comm[(act_ans_comm['u_id'] == user) & (act_ans_comm['q_id'] == question)][\"activity\"]\n",
    "    if val.empty:\n",
    "        return 0\n",
    "    return val.values[0]\n",
    "\n",
    "# Tests\n",
    "print(\"Tests\")\n",
    "print(\"-----\")\n",
    "print(activity_ans_comm(0,9045) == 0)\n",
    "print(activity_ans_comm(3,9045) == 1)\n",
    "print(activity_ans_comm(23668,9045) == 2)"
   ]
  },
  {
   "cell_type": "code",
   "execution_count": 62,
   "metadata": {},
   "outputs": [
    {
     "name": "stdout",
     "output_type": "stream",
     "text": [
      "Tests\n",
      "-----\n",
      "True\n",
      "True\n",
      "True\n"
     ]
    }
   ],
   "source": [
    "def activity_ask(user,question):\n",
    "    val = act_ask[(act_ask['u_id'] == user) & (act_ask['q_id'] == question)][\"activity\"]\n",
    "    if val.empty:\n",
    "        return 0\n",
    "    return val.values[0]\n",
    "\n",
    "# Tests\n",
    "print(\"Tests\")\n",
    "print(\"-----\")\n",
    "print(activity_ask(7,9045) == 1 ) # True\n",
    "print(activity_ask(3,9045) == 0 ) # True\n",
    "print(activity_ask(23668,9045) == 0 ) # True"
   ]
  },
  {
   "cell_type": "code",
   "execution_count": null,
   "metadata": {},
   "outputs": [],
   "source": []
  }
 ],
 "metadata": {
  "kernelspec": {
   "display_name": "Python 3",
   "language": "python",
   "name": "python3"
  },
  "language_info": {
   "codemirror_mode": {
    "name": "ipython",
    "version": 3
   },
   "file_extension": ".py",
   "mimetype": "text/x-python",
   "name": "python",
   "nbconvert_exporter": "python",
   "pygments_lexer": "ipython3",
   "version": "3.6.6"
  }
 },
 "nbformat": 4,
 "nbformat_minor": 2
}
