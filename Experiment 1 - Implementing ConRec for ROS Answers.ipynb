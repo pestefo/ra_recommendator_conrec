{
 "cells": [
  {
   "cell_type": "code",
   "execution_count": 107,
   "metadata": {},
   "outputs": [],
   "source": [
    "import sqlite3\n",
    "import pandas as pd\n",
    "from math import sqrt\n",
    "from operator import itemgetter, attrgetter\n",
    "\n",
    "conn = sqlite3.connect(\"v1.db\")\n",
    "\n",
    "## Activity: asking and commenting a question\n",
    "query_activity_ans_comm = \"\"\" select active_users.q_id, active_users.u_id as u_id , count(*) as activity\n",
    "                                from\n",
    "                                (\n",
    "                                    select rqa.ros_question_id as q_id, ra.author as u_id\n",
    "                                    from ros_question_answer as rqa\n",
    "                                    left join ros_answer as ra on rqa.ros_answer_id = ra.id\n",
    "                                ) as active_users\n",
    "                                group by q_id, u_id\n",
    "\"\"\"\n",
    "act_ans_comm = pd.read_sql_query(query_activity_ans_comm, conn)\n",
    "\n",
    "\n",
    "\n",
    "## Activity: asking a question\n",
    "query_activity_ask = \"\"\" select q_id, author as u_id, 1 as activity\n",
    "                            from \n",
    "                            (\n",
    "                                select distinct ros_question_answer.ros_question_id as q_id\n",
    "                                from ros_question_answer\n",
    "                            ) as questions\n",
    "                            left join ros_question as rq on questions.q_id = rq.id \n",
    "\"\"\"\n",
    "act_ask = pd.read_sql_query(query_activity_ask, conn)\n",
    "\n",
    "conn.close()"
   ]
  },
  {
   "cell_type": "code",
   "execution_count": 95,
   "metadata": {
    "scrolled": true
   },
   "outputs": [
    {
     "data": {
      "text/plain": [
       "0       3\n",
       "1      11\n",
       "2     139\n",
       "3       3\n",
       "4    6791\n",
       "Name: u_id, dtype: int64"
      ]
     },
     "execution_count": 95,
     "metadata": {},
     "output_type": "execute_result"
    }
   ],
   "source": [
    "act_ans_comm.head()"
   ]
  },
  {
   "cell_type": "code",
   "execution_count": 99,
   "metadata": {},
   "outputs": [
    {
     "data": {
      "text/html": [
       "<div>\n",
       "<style scoped>\n",
       "    .dataframe tbody tr th:only-of-type {\n",
       "        vertical-align: middle;\n",
       "    }\n",
       "\n",
       "    .dataframe tbody tr th {\n",
       "        vertical-align: top;\n",
       "    }\n",
       "\n",
       "    .dataframe thead th {\n",
       "        text-align: right;\n",
       "    }\n",
       "</style>\n",
       "<table border=\"1\" class=\"dataframe\">\n",
       "  <thead>\n",
       "    <tr style=\"text-align: right;\">\n",
       "      <th></th>\n",
       "      <th>q_id</th>\n",
       "      <th>u_id</th>\n",
       "      <th>activity</th>\n",
       "    </tr>\n",
       "  </thead>\n",
       "  <tbody>\n",
       "    <tr>\n",
       "      <th>0</th>\n",
       "      <td>9033</td>\n",
       "      <td>2</td>\n",
       "      <td>1</td>\n",
       "    </tr>\n",
       "    <tr>\n",
       "      <th>1</th>\n",
       "      <td>9036</td>\n",
       "      <td>2</td>\n",
       "      <td>1</td>\n",
       "    </tr>\n",
       "    <tr>\n",
       "      <th>2</th>\n",
       "      <td>9037</td>\n",
       "      <td>2</td>\n",
       "      <td>1</td>\n",
       "    </tr>\n",
       "    <tr>\n",
       "      <th>3</th>\n",
       "      <td>9038</td>\n",
       "      <td>2</td>\n",
       "      <td>1</td>\n",
       "    </tr>\n",
       "    <tr>\n",
       "      <th>4</th>\n",
       "      <td>9039</td>\n",
       "      <td>2</td>\n",
       "      <td>1</td>\n",
       "    </tr>\n",
       "  </tbody>\n",
       "</table>\n",
       "</div>"
      ],
      "text/plain": [
       "   q_id  u_id  activity\n",
       "0  9033     2         1\n",
       "1  9036     2         1\n",
       "2  9037     2         1\n",
       "3  9038     2         1\n",
       "4  9039     2         1"
      ]
     },
     "execution_count": 99,
     "metadata": {},
     "output_type": "execute_result"
    }
   ],
   "source": [
    "act_ask.head()"
   ]
  },
  {
   "cell_type": "code",
   "execution_count": 57,
   "metadata": {},
   "outputs": [],
   "source": [
    "def activity_ans_comm(user,question):\n",
    "    val = act_ans_comm[(act_ans_comm['u_id'] == user) & (act_ans_comm['q_id'] == question)][\"activity\"]\n",
    "    if val.empty:\n",
    "        return 0\n",
    "    return val.values[0]\n",
    "\n",
    "# Tests\n",
    "print(\"Tests\")\n",
    "print(\"-----\")\n",
    "print(activity_ans_comm(0,9045) == 0)\n",
    "print(activity_ans_comm(3,9045) == 1)\n",
    "print(activity_ans_comm(23668,9045) == 2)"
   ]
  },
  {
   "cell_type": "code",
   "execution_count": 62,
   "metadata": {},
   "outputs": [
    {
     "name": "stdout",
     "output_type": "stream",
     "text": [
      "Tests\n",
      "-----\n",
      "True\n",
      "True\n",
      "True\n"
     ]
    }
   ],
   "source": [
    "def activity_ask(user,question):\n",
    "    val = act_ask[(act_ask['u_id'] == user) & (act_ask['q_id'] == question)][\"activity\"]\n",
    "    if val.empty:\n",
    "        return 0\n",
    "    return val.values[0]\n",
    "\n",
    "# Tests\n",
    "print(\"Tests\")\n",
    "\n",
    "print(\"-----\")\n",
    "print(activity_ask(7,9045) == 1 ) # True\n",
    "print(activity_ask(3,9045) == 0 ) # True\n",
    "print(activity_ask(23668,9045) == 0 ) # True"
   ]
  },
  {
   "cell_type": "code",
   "execution_count": null,
   "metadata": {},
   "outputs": [],
   "source": [
    "# All users\n",
    "def all_users():\n",
    "    return pd.concat([act_ans_comm['u_id'],act_ask['u_id']]).drop_duplicates()\n",
    "\n",
    "# Activity\n",
    "def activity(user,question):\n",
    "    return activity_ans_comm(user,question) + activity_ask(user,question)\n",
    "\n",
    "# List of participants in a question - U_{q}\n",
    "def participants_of_question(question):\n",
    "    answerers = act_ans_comm[(act_ans_comm['q_id'] == question) & (act_ans_comm['activity'] > 0)][\"u_id\"]\n",
    "    askers = act_ask[(act_ask['q_id'] == question) & (act_ask['activity'] > 0)][\"u_id\"]\n",
    "    return pd.concat([answerers,askers]).drop_duplicates()\n",
    "\n",
    "print(\"Asker ID = 7, Answers/Commenters = 3, 5184, 23668\")\n",
    "print(participants_of_question(9045))\n",
    "    \n",
    "# Relation between a user and a question \n",
    "def r_uq(user,question):\n",
    "    if activity(user,question) == 0:\n",
    "        #print(\"activity zero: \"+str(sum(map(lambda u : activity(u,question), participants_of_question(question)))))\n",
    "        return 0 \n",
    "    return activity(user,question)/sum(map(lambda u : activity(u,question), participants_of_question(question)))\n",
    "\n",
    "print(\"\")\n",
    "print(\"Asker: r_uq(7,9045)= \"+str(r_uq(7,9045)))\n",
    "print(\"Answerer : r_uq(3,9045)= \"+str(r_uq(7,9045))+\" (provides the accepted answer)\")\n",
    "print(\"Answerer : r_uq(5184,9045)= \"+str(r_uq(5184,9045))+\" (participated twice)\")\n",
    "\n",
    "# List of questions in which a user participates - Q_{u}\n",
    "def questions_for_user(user):\n",
    "    questions_answered = act_ans_comm[(act_ans_comm['u_id'] == user) & (act_ans_comm['activity'] > 0)][\"u_id\"]\n",
    "    questions_asked = act_ask[(act_ask['u_id'] == user) & (act_ask['activity'] > 0)][\"u_id\"]\n",
    "    return pd.concat([questions_answered,questions_asked]).drop_duplicates()\n",
    "\n",
    "\n",
    "# Relation between two users\n",
    "def r_uu(user_a,user_b):\n",
    "    questions_in_common = pd.Series(list(set(questions_for_user(user_a)) & set(questions_for_user(user_b))))\n",
    "    a = sum(map(lambda q : r_uq(user_a,q)*r_uq(user_b,q), questions_in_common))\n",
    "    b = sqrt(sum(map(lambda q : r_uq(user_a,q)**2, questions_for_user(user_a))) * sum(map(lambda q : r_uq(user_b,q)**2, questions_for_user(user_b))))\n",
    "    \n",
    "    if a == 0:\n",
    "        # print(\"b: \"+str(0))\n",
    "        return 0\n",
    "    return a/b\n",
    "\n",
    "def result(user,question):\n",
    "    return user,sum(map(lambda u : r_uq(u,question)*r_uu(user,u), participants_of_question(question)))\n",
    "\n",
    "## TODO: Remove limit!!!!\n",
    "def ranking_for_question(question):\n",
    "    limit = 15 # let's work with 15 the top results only\n",
    "    results = map(lambda u: result(u,question), all_users()[:300])\n",
    "    return sorted(results, key=itemgetter(1), reverse=True)[:limit]\n",
    "\n",
    "print(\"Ranking for q=9045\")\n",
    "print(\"------------------\")\n",
    "print(str(ranking_for_question(9045)))\n",
    "for result in ranking_for_question(9045):\n",
    "    print(str(result[0])+\" - \"+str(result[1]))"
   ]
  },
  {
   "cell_type": "code",
   "execution_count": null,
   "metadata": {},
   "outputs": [],
   "source": [
    "    "
   ]
  }
 ],
 "metadata": {
  "kernelspec": {
   "display_name": "Python 3",
   "language": "python",
   "name": "python3"
  },
  "language_info": {
   "codemirror_mode": {
    "name": "ipython",
    "version": 3
   },
   "file_extension": ".py",
   "mimetype": "text/x-python",
   "name": "python",
   "nbconvert_exporter": "python",
   "pygments_lexer": "ipython3",
   "version": "3.6.6"
  }
 },
 "nbformat": 4,
 "nbformat_minor": 2
}
