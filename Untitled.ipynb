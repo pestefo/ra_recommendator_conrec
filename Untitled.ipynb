{
 "cells": [
  {
   "cell_type": "code",
   "execution_count": 22,
   "metadata": {},
   "outputs": [
    {
     "name": "stdout",
     "output_type": "stream",
     "text": [
      "    q_id  author  activity\n",
      "0   9033       2         1\n",
      "1   9036       2         1\n",
      "2   9037       2         1\n",
      "3   9038       2         1\n",
      "4   9039       2         1\n",
      "5   9040       3         1\n",
      "6   9041      10         1\n",
      "7   9042      12         1\n",
      "8   9043       9         1\n",
      "9   9044       7         1\n",
      "10  9045       7         1\n",
      "11  9046       7         1\n",
      "12  9047       7         1\n",
      "13  9048       7         1\n",
      "14  9049       7         1\n",
      "15  9050       7         1\n",
      "16  9052       7         1\n",
      "17  9053       7         1\n",
      "18  9054      12         1\n",
      "19  9055       7         1\n",
      "20  9056       7         1\n",
      "21  9057       7         1\n",
      "22  9058      20         1\n",
      "23  9059      23         1\n",
      "24  9060      24         1\n",
      "25  9061       7         1\n",
      "26  9062      26         1\n",
      "27  9063       2         1\n",
      "28  9064      27         1\n",
      "29  9065      28         1\n"
     ]
    }
   ],
   "source": [
    "import sqlite3\n",
    "import pandas as pd\n",
    "\n",
    "conn = sqlite3.connect(\"v1.db\")\n",
    "\n",
    "## Activity: asking and commenting a question\n",
    "query_activity_ans_comm = \"\"\" select q_id, u_id, count(*) as activity\n",
    "                        from\n",
    "                        (\n",
    "                            select rqa.ros_question_id as q_id, ra.author as u_id, ra.type, ra.votes, ra.is_accepted\n",
    "                            from ros_question_answer as rqa\n",
    "                            left join ros_answer as ra on rqa.ros_answer_id = ra.id\n",
    "                        )\n",
    "                        group by q_id, u_id\n",
    "                        limit 30\n",
    "\"\"\"\n",
    "activity_ans_comm = pd.read_sql_query(query_activity_ans_comm, conn)\n",
    "\n",
    "## Activity: asking a question\n",
    "query_activity_ask = \"\"\" select q_id, author, 1 as activity\n",
    "                            from \n",
    "                            (\n",
    "                                select distinct ros_question_answer.ros_question_id as q_id\n",
    "                                from ros_question_answer\n",
    "                            ) as questions\n",
    "                            left join ros_question as rq on questions.q_id = rq.id \n",
    "                            limit 30\n",
    "\"\"\"\n",
    "activity_ask = pd.read_sql_query(query_activity_ask, conn)\n",
    "\n",
    "\n"
   ]
  },
  {
   "cell_type": "code",
   "execution_count": 17,
   "metadata": {
    "scrolled": true
   },
   "outputs": [
    {
     "ename": "NameError",
     "evalue": "name 'pd' is not defined",
     "output_type": "error",
     "traceback": [
      "\u001b[0;31m---------------------------------------------------------------------------\u001b[0m",
      "\u001b[0;31mNameError\u001b[0m                                 Traceback (most recent call last)",
      "\u001b[0;32m<ipython-input-17-6bc4ca5c4f48>\u001b[0m in \u001b[0;36m<module>\u001b[0;34m\u001b[0m\n\u001b[1;32m     12\u001b[0m                         \u001b[0mlimit\u001b[0m \u001b[0;36m30\u001b[0m\u001b[0;34m\u001b[0m\u001b[0m\n\u001b[1;32m     13\u001b[0m \"\"\"\n\u001b[0;32m---> 14\u001b[0;31m \u001b[0mactivity_ans_comm\u001b[0m \u001b[0;34m=\u001b[0m \u001b[0mpd\u001b[0m\u001b[0;34m.\u001b[0m\u001b[0mread_sql_query\u001b[0m\u001b[0;34m(\u001b[0m\u001b[0mquery_activity_ans_comm\u001b[0m\u001b[0;34m,\u001b[0m \u001b[0mconn\u001b[0m\u001b[0;34m)\u001b[0m\u001b[0;34m\u001b[0m\u001b[0m\n\u001b[0m\u001b[1;32m     15\u001b[0m \u001b[0;34m\u001b[0m\u001b[0m\n\u001b[1;32m     16\u001b[0m \u001b[0;31m## Activity: asking a question\u001b[0m\u001b[0;34m\u001b[0m\u001b[0;34m\u001b[0m\u001b[0m\n",
      "\u001b[0;31mNameError\u001b[0m: name 'pd' is not defined"
     ]
    }
   ],
   "source": [
    "conn.close()"
   ]
  }
 ],
 "metadata": {
  "kernelspec": {
   "display_name": "Python 3",
   "language": "python",
   "name": "python3"
  },
  "language_info": {
   "codemirror_mode": {
    "name": "ipython",
    "version": 3
   },
   "file_extension": ".py",
   "mimetype": "text/x-python",
   "name": "python",
   "nbconvert_exporter": "python",
   "pygments_lexer": "ipython3",
   "version": "3.6.6"
  }
 },
 "nbformat": 4,
 "nbformat_minor": 2
}
